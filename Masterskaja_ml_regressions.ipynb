{
 "cells": [
  {
   "cell_type": "markdown",
   "id": "7561e481",
   "metadata": {},
   "source": [
    "# Знакомство, предобработка, EDA"
   ]
  },
  {
   "cell_type": "code",
   "execution_count": 1,
   "id": "0b3efca4",
   "metadata": {},
   "outputs": [],
   "source": [
    "import numpy as np\n",
    "import pandas as pd\n",
    "pd.set_option('display.float_format', '{:,.2f}'.format)\n",
    "import matplotlib\n",
    "import matplotlib.pyplot as plt\n",
    "import seaborn as sns"
   ]
  },
  {
   "cell_type": "code",
   "execution_count": 2,
   "id": "afb3bcb5",
   "metadata": {},
   "outputs": [],
   "source": [
    "path = 'C:/Users/user/JupiterIra/Yandex/Мастерская/1_предсказание частоты событий/data/data_blago_all.xlsx'\n",
    "donors = pd.read_excel(path, sheet_name='Доноры')\n",
    "donats = pd.read_excel(path, sheet_name='Пожертвования')"
   ]
  },
  {
   "cell_type": "code",
   "execution_count": 3,
   "id": "e4cea89f",
   "metadata": {},
   "outputs": [],
   "source": [
    "# Функция для просмотра данных в дф\n",
    "def date_first_glampse(df):\n",
    "    display('Несколько строк: ', df.sample(3))\n",
    "    display('Общая информация: ')\n",
    "    df.info()\n",
    "    display('Дубликаты: ', df.duplicated().sum())\n",
    "    for col in df.columns:\n",
    "        display(f'Уникальные значения в колонке {col} и их количество: ', df[col].value_counts(dropna=False))"
   ]
  },
  {
   "cell_type": "code",
   "execution_count": 4,
   "id": "a03194aa",
   "metadata": {},
   "outputs": [
    {
     "data": {
      "text/plain": [
       "'Несколько строк: '"
      ]
     },
     "metadata": {},
     "output_type": "display_data"
    },
    {
     "data": {
      "text/html": [
       "<div>\n",
       "<style scoped>\n",
       "    .dataframe tbody tr th:only-of-type {\n",
       "        vertical-align: middle;\n",
       "    }\n",
       "\n",
       "    .dataframe tbody tr th {\n",
       "        vertical-align: top;\n",
       "    }\n",
       "\n",
       "    .dataframe thead th {\n",
       "        text-align: right;\n",
       "    }\n",
       "</style>\n",
       "<table border=\"1\" class=\"dataframe\">\n",
       "  <thead>\n",
       "    <tr style=\"text-align: right;\">\n",
       "      <th></th>\n",
       "      <th>ID</th>\n",
       "      <th>Пол</th>\n",
       "      <th>Город</th>\n",
       "      <th>Дата последней email активности</th>\n",
       "    </tr>\n",
       "  </thead>\n",
       "  <tbody>\n",
       "    <tr>\n",
       "      <th>3205</th>\n",
       "      <td>212BA5E5-BD50-4B44-9E1A-DF26E810E0C7</td>\n",
       "      <td>Женский                                       ...</td>\n",
       "      <td>NaN</td>\n",
       "      <td>2022-07-18 16:29:49</td>\n",
       "    </tr>\n",
       "    <tr>\n",
       "      <th>1144</th>\n",
       "      <td>2EA4B484-E4BA-4F31-AF48-507343830A86</td>\n",
       "      <td>Женский                                       ...</td>\n",
       "      <td>NaN</td>\n",
       "      <td>2022-07-18 20:23:21</td>\n",
       "    </tr>\n",
       "    <tr>\n",
       "      <th>2612</th>\n",
       "      <td>A60E7300-3134-48B3-A8C9-B4A2C5A951B1</td>\n",
       "      <td>Женский                                       ...</td>\n",
       "      <td>Москва</td>\n",
       "      <td>2022-07-27 12:38:27</td>\n",
       "    </tr>\n",
       "  </tbody>\n",
       "</table>\n",
       "</div>"
      ],
      "text/plain": [
       "                                        ID  \\\n",
       "3205  212BA5E5-BD50-4B44-9E1A-DF26E810E0C7   \n",
       "1144  2EA4B484-E4BA-4F31-AF48-507343830A86   \n",
       "2612  A60E7300-3134-48B3-A8C9-B4A2C5A951B1   \n",
       "\n",
       "                                                    Пол   Город  \\\n",
       "3205  Женский                                       ...     NaN   \n",
       "1144  Женский                                       ...     NaN   \n",
       "2612  Женский                                       ...  Москва   \n",
       "\n",
       "     Дата последней email активности  \n",
       "3205             2022-07-18 16:29:49  \n",
       "1144             2022-07-18 20:23:21  \n",
       "2612             2022-07-27 12:38:27  "
      ]
     },
     "metadata": {},
     "output_type": "display_data"
    },
    {
     "data": {
      "text/plain": [
       "'Общая информация: '"
      ]
     },
     "metadata": {},
     "output_type": "display_data"
    },
    {
     "name": "stdout",
     "output_type": "stream",
     "text": [
      "<class 'pandas.core.frame.DataFrame'>\n",
      "RangeIndex: 3683 entries, 0 to 3682\n",
      "Data columns (total 4 columns):\n",
      " #   Column                           Non-Null Count  Dtype         \n",
      "---  ------                           --------------  -----         \n",
      " 0   ID                               3683 non-null   object        \n",
      " 1   Пол                              2431 non-null   object        \n",
      " 2   Город                            1015 non-null   object        \n",
      " 3   Дата последней email активности  1835 non-null   datetime64[ns]\n",
      "dtypes: datetime64[ns](1), object(3)\n",
      "memory usage: 115.2+ KB\n"
     ]
    },
    {
     "data": {
      "text/plain": [
       "'Дубликаты: '"
      ]
     },
     "metadata": {},
     "output_type": "display_data"
    },
    {
     "data": {
      "text/plain": [
       "0"
      ]
     },
     "metadata": {},
     "output_type": "display_data"
    },
    {
     "data": {
      "text/plain": [
       "'Уникальные значения в колонке ID и их количество: '"
      ]
     },
     "metadata": {},
     "output_type": "display_data"
    },
    {
     "data": {
      "text/plain": [
       "870A198A-0266-4568-8874-460439EEDE0A    1\n",
       "E1039AC6-AD70-48D1-A971-9F34A1E66E43    1\n",
       "2ECF8452-12CF-4A50-85DB-9335C84D28EA    1\n",
       "56CD4744-2B82-40B1-B714-17B1F71EC7E3    1\n",
       "A34F1619-2CD5-4221-848B-30DE7F81D69D    1\n",
       "                                       ..\n",
       "036160A4-756E-4CF8-B0EB-5DD8AFEAD6EF    1\n",
       "EC98B470-4AE2-4370-B0EF-7757AD15BD06    1\n",
       "88DDBAC3-C130-4F92-BC4D-5C252451876A    1\n",
       "9CEB5EAA-1778-4FEE-BEB1-E3973302D169    1\n",
       "55AD835F-218E-4F3C-97EA-7017B68BB091    1\n",
       "Name: ID, Length: 3683, dtype: int64"
      ]
     },
     "metadata": {},
     "output_type": "display_data"
    },
    {
     "data": {
      "text/plain": [
       "'Уникальные значения в колонке Пол и их количество: '"
      ]
     },
     "metadata": {},
     "output_type": "display_data"
    },
    {
     "data": {
      "text/plain": [
       "Женский                                                                                                                                                                                                                                                       1874\n",
       "NaN                                                                                                                                                                                                                                                           1252\n",
       "Мужской                                                                                                                                                                                                                                                        557\n",
       "Name: Пол, dtype: int64"
      ]
     },
     "metadata": {},
     "output_type": "display_data"
    },
    {
     "data": {
      "text/plain": [
       "'Уникальные значения в колонке Город и их количество: '"
      ]
     },
     "metadata": {},
     "output_type": "display_data"
    },
    {
     "data": {
      "text/plain": [
       "NaN                2668\n",
       "Москва              458\n",
       "Санкт-Петербург      78\n",
       "Краснодар            23\n",
       "Нижний Новгород      20\n",
       "                   ... \n",
       "РЕШЕТНИКОВО           1\n",
       "Армавир               1\n",
       "МАЙКОП                1\n",
       "СИЯ                   1\n",
       "San Jose              1\n",
       "Name: Город, Length: 235, dtype: int64"
      ]
     },
     "metadata": {},
     "output_type": "display_data"
    },
    {
     "data": {
      "text/plain": [
       "'Уникальные значения в колонке Дата последней email активности и их количество: '"
      ]
     },
     "metadata": {},
     "output_type": "display_data"
    },
    {
     "data": {
      "text/plain": [
       "NaT                    1848\n",
       "2022-07-18 16:29:49     294\n",
       "2022-07-18 16:29:48     229\n",
       "2022-07-18 16:29:50     163\n",
       "2022-07-18 16:29:47     114\n",
       "                       ... \n",
       "2022-07-25 10:09:28       1\n",
       "2022-05-18 12:26:22       1\n",
       "2022-07-18 16:54:44       1\n",
       "2022-07-21 20:42:34       1\n",
       "2022-07-22 15:21:48       1\n",
       "Name: Дата последней email активности, Length: 654, dtype: int64"
      ]
     },
     "metadata": {},
     "output_type": "display_data"
    },
    {
     "data": {
      "text/plain": [
       "'Несколько строк: '"
      ]
     },
     "metadata": {},
     "output_type": "display_data"
    },
    {
     "data": {
      "text/html": [
       "<div>\n",
       "<style scoped>\n",
       "    .dataframe tbody tr th:only-of-type {\n",
       "        vertical-align: middle;\n",
       "    }\n",
       "\n",
       "    .dataframe tbody tr th {\n",
       "        vertical-align: top;\n",
       "    }\n",
       "\n",
       "    .dataframe thead th {\n",
       "        text-align: right;\n",
       "    }\n",
       "</style>\n",
       "<table border=\"1\" class=\"dataframe\">\n",
       "  <thead>\n",
       "    <tr style=\"text-align: right;\">\n",
       "      <th></th>\n",
       "      <th>Donor ID</th>\n",
       "      <th>Дата платежа</th>\n",
       "      <th>Сумма платежа</th>\n",
       "      <th>Рекуррентный</th>\n",
       "      <th>Назначение платежа</th>\n",
       "      <th>Канал оплаты</th>\n",
       "    </tr>\n",
       "  </thead>\n",
       "  <tbody>\n",
       "    <tr>\n",
       "      <th>7172</th>\n",
       "      <td>FA9A2352-706B-4B74-A59F-7D271017BE99</td>\n",
       "      <td>2022-02-27 16:48:57</td>\n",
       "      <td>500.00</td>\n",
       "      <td>Да                                            ...</td>\n",
       "      <td>ПОЖЕРТВОВАНИЕ</td>\n",
       "      <td>Банковские карты</td>\n",
       "    </tr>\n",
       "    <tr>\n",
       "      <th>13645</th>\n",
       "      <td>3EA872BC-6325-4AAB-BE21-0C8A299C0B6C</td>\n",
       "      <td>2021-06-26 16:45:37</td>\n",
       "      <td>200.00</td>\n",
       "      <td>Да                                            ...</td>\n",
       "      <td>ПОЖЕРТВОВАНИЕ</td>\n",
       "      <td>Банковские карты</td>\n",
       "    </tr>\n",
       "    <tr>\n",
       "      <th>2253</th>\n",
       "      <td>72F9E49B-27F3-4D0B-903C-FB2218F77647</td>\n",
       "      <td>2022-06-26 00:00:00</td>\n",
       "      <td>50.00</td>\n",
       "      <td>Нет                                           ...</td>\n",
       "      <td>Добровольное пожертвование. НДС не облагается</td>\n",
       "      <td>Прямые поступления на счет</td>\n",
       "    </tr>\n",
       "  </tbody>\n",
       "</table>\n",
       "</div>"
      ],
      "text/plain": [
       "                                   Donor ID        Дата платежа  \\\n",
       "7172   FA9A2352-706B-4B74-A59F-7D271017BE99 2022-02-27 16:48:57   \n",
       "13645  3EA872BC-6325-4AAB-BE21-0C8A299C0B6C 2021-06-26 16:45:37   \n",
       "2253   72F9E49B-27F3-4D0B-903C-FB2218F77647 2022-06-26 00:00:00   \n",
       "\n",
       "       Сумма платежа                                       Рекуррентный  \\\n",
       "7172          500.00  Да                                            ...   \n",
       "13645         200.00  Да                                            ...   \n",
       "2253           50.00  Нет                                           ...   \n",
       "\n",
       "                                  Назначение платежа  \\\n",
       "7172                                   ПОЖЕРТВОВАНИЕ   \n",
       "13645                                  ПОЖЕРТВОВАНИЕ   \n",
       "2253   Добровольное пожертвование. НДС не облагается   \n",
       "\n",
       "                       Канал оплаты  \n",
       "7172             Банковские карты    \n",
       "13645            Банковские карты    \n",
       "2253   Прямые поступления на счет    "
      ]
     },
     "metadata": {},
     "output_type": "display_data"
    },
    {
     "data": {
      "text/plain": [
       "'Общая информация: '"
      ]
     },
     "metadata": {},
     "output_type": "display_data"
    },
    {
     "name": "stdout",
     "output_type": "stream",
     "text": [
      "<class 'pandas.core.frame.DataFrame'>\n",
      "RangeIndex: 14043 entries, 0 to 14042\n",
      "Data columns (total 6 columns):\n",
      " #   Column              Non-Null Count  Dtype         \n",
      "---  ------              --------------  -----         \n",
      " 0   Donor ID            14043 non-null  object        \n",
      " 1   Дата платежа        14043 non-null  datetime64[ns]\n",
      " 2   Сумма платежа       14043 non-null  float64       \n",
      " 3   Рекуррентный        14043 non-null  object        \n",
      " 4   Назначение платежа  12774 non-null  object        \n",
      " 5   Канал оплаты        14043 non-null  object        \n",
      "dtypes: datetime64[ns](1), float64(1), object(4)\n",
      "memory usage: 658.4+ KB\n"
     ]
    },
    {
     "data": {
      "text/plain": [
       "'Дубликаты: '"
      ]
     },
     "metadata": {},
     "output_type": "display_data"
    },
    {
     "data": {
      "text/plain": [
       "12"
      ]
     },
     "metadata": {},
     "output_type": "display_data"
    },
    {
     "data": {
      "text/plain": [
       "'Уникальные значения в колонке Donor ID и их количество: '"
      ]
     },
     "metadata": {},
     "output_type": "display_data"
    },
    {
     "data": {
      "text/plain": [
       "8A8DAECD-40B3-4A41-B53C-06A62BE672E6    83\n",
       "0B6DA68C-558B-4153-806E-B1D775585B88    76\n",
       "F836F738-FB7E-4134-ABA8-B6E9CA1E71EA    76\n",
       "85348172-F358-4345-91F1-DB8CF0531C8A    73\n",
       "4ECB767F-8830-497B-B395-851D4EACD1F8    65\n",
       "                                        ..\n",
       "804C12BD-B832-401A-BCF1-D2C7DF98F796     1\n",
       "6A615CD3-D75B-45D2-9555-D5060D0FBECE     1\n",
       "D05EED5F-98BE-4A99-BE06-5E34B3CFBF9D     1\n",
       "A198F17E-1D15-428C-A40B-43E30323461B     1\n",
       "3CB754A9-7B08-40FB-A350-FFDB291DA9E1     1\n",
       "Name: Donor ID, Length: 3683, dtype: int64"
      ]
     },
     "metadata": {},
     "output_type": "display_data"
    },
    {
     "data": {
      "text/plain": [
       "'Уникальные значения в колонке Дата платежа и их количество: '"
      ]
     },
     "metadata": {},
     "output_type": "display_data"
    },
    {
     "data": {
      "text/plain": [
       "2021-04-12 00:00:00    9\n",
       "2022-05-02 00:00:00    8\n",
       "2022-07-18 00:00:00    8\n",
       "2022-04-24 00:00:00    7\n",
       "2021-06-16 00:00:00    7\n",
       "                      ..\n",
       "2021-03-25 15:48:54    1\n",
       "2016-04-16 14:40:04    1\n",
       "2021-12-25 09:13:51    1\n",
       "2022-03-03 20:23:36    1\n",
       "2019-04-28 20:04:13    1\n",
       "Name: Дата платежа, Length: 13386, dtype: int64"
      ]
     },
     "metadata": {},
     "output_type": "display_data"
    },
    {
     "data": {
      "text/plain": [
       "'Уникальные значения в колонке Сумма платежа и их количество: '"
      ]
     },
     "metadata": {},
     "output_type": "display_data"
    },
    {
     "data": {
      "text/plain": [
       "500.00       3175\n",
       "100.00       2470\n",
       "300.00       1744\n",
       "1,000.00     1743\n",
       "200.00       1454\n",
       "             ... \n",
       "27,108.00       1\n",
       "661.00          1\n",
       "0.69            1\n",
       "8.65            1\n",
       "188.00          1\n",
       "Name: Сумма платежа, Length: 373, dtype: int64"
      ]
     },
     "metadata": {},
     "output_type": "display_data"
    },
    {
     "data": {
      "text/plain": [
       "'Уникальные значения в колонке Рекуррентный и их количество: '"
      ]
     },
     "metadata": {},
     "output_type": "display_data"
    },
    {
     "data": {
      "text/plain": [
       "Да                                                                                                                                                                                                                                                            8085\n",
       "Нет                                                                                                                                                                                                                                                           5958\n",
       "Name: Рекуррентный, dtype: int64"
      ]
     },
     "metadata": {},
     "output_type": "display_data"
    },
    {
     "data": {
      "text/plain": [
       "'Уникальные значения в колонке Назначение платежа и их количество: '"
      ]
     },
     "metadata": {},
     "output_type": "display_data"
    },
    {
     "data": {
      "text/plain": [
       "ПОЖЕРТВОВАНИЕ                                                                                                             3811\n",
       "Пожертвование в фонд помощи детям-отказникам и детям-сиротам \"Бюро Добрых Дел\"                                            3335\n",
       "ПОЖЕРТВОВАНИЕ  undefined                                                                                                  2162\n",
       "NaN                                                                                                                       1269\n",
       "Добровольное пожертвование. НДС не облагается                                                                              497\n",
       "                                                                                                                          ... \n",
       "ДОБРОВОЛЬНОЕ ПОЖЕРТВОВАНИЕ;Сумма 200 руб.;Комиссия 0 руб;Дата оплаты 17/11/2020;                                             1\n",
       "ДОБРОВОЛЬНОЕ ПОЖЕРТВОВАНИЕ;Сумма 30.00 руб.;Комиссия 0.00 руб;Дата оплаты 08/05/2022;                                        1\n",
       "ДОБРОВОЛЬНОЕ ПОЖЕРТВОВАНИЕ;Благотворительное пожертвование;Сумма 111.00 руб.;Комиссия 0.00 руб;Дата оплаты 07/02/2021;       1\n",
       "ДОБРОВОЛЬНОЕ ПОЖЕРТВОВАНИЕ;Ноутбук для Ильи и других ребят;Сумма 240.23 руб.;Комиссия 0 руб;Дата оплаты 06/11/2020;          1\n",
       "ДОБРОВОЛЬНОЕ ПОЖЕРТВОВАНИЕ;7545 Вова;Сумма 100.00 руб.;Комиссия 0.00 руб;Дата оплаты 05/09/2021;                             1\n",
       "Name: Назначение платежа, Length: 894, dtype: int64"
      ]
     },
     "metadata": {},
     "output_type": "display_data"
    },
    {
     "data": {
      "text/plain": [
       "'Уникальные значения в колонке Канал оплаты и их количество: '"
      ]
     },
     "metadata": {},
     "output_type": "display_data"
    },
    {
     "data": {
      "text/plain": [
       "Банковские карты                11204\n",
       "SMS                              1474\n",
       "Прямые поступления на счет       1362\n",
       "Наличные в кассу                    3\n",
       "Name: Канал оплаты, dtype: int64"
      ]
     },
     "metadata": {},
     "output_type": "display_data"
    }
   ],
   "source": [
    "for df in [donors,donats]:\n",
    "    date_first_glampse(df)"
   ]
  },
  {
   "cell_type": "code",
   "execution_count": 5,
   "id": "6459f6af",
   "metadata": {},
   "outputs": [],
   "source": [
    "# т.к. количество уникальных id равны, объединим таблицы в одну,\n",
    "# предварительно переименовав столбец в donats\n",
    "\n",
    "donats = donats.rename(columns={'Donor ID' : 'ID'})\n",
    "\n",
    "df = donats.merge(donors, how='left', on = 'ID')"
   ]
  },
  {
   "cell_type": "code",
   "execution_count": 6,
   "id": "e00f19bf",
   "metadata": {},
   "outputs": [],
   "source": [
    "#приведем датасет к нижнему регистру\n",
    "df = df.apply(lambda x: x.str.lower() if(x.dtype == 'object') else x)\n",
    "\n",
    "# переименуем столбцы, приведя их к змеиному регистру\n",
    "df = df.rename(columns = \n",
    "              {\n",
    "                  'ID':'id',\n",
    "                  'Дата платежа':'date',\n",
    "                  'Сумма платежа':'sum',\n",
    "                  'Пол':'gender',\n",
    "                  'Город':'city',\n",
    "                  'Назначение платежа' : 'purpose',\n",
    "                  'Рекуррентный' : 'is_reccurent',\n",
    "                  'Канал оплаты' : 'channel',\n",
    "                  'Дата последней email активности': 'last_email_activity'\n",
    "                  \n",
    "              }\n",
    "              )\n",
    "\n",
    "# удалим дубликаты\n",
    "df = df.drop_duplicates()"
   ]
  },
  {
   "cell_type": "code",
   "execution_count": 7,
   "id": "ccbc4a91",
   "metadata": {},
   "outputs": [],
   "source": [
    "df['payment_date'] = df['date'].dt.date\n",
    "df = df.drop('date',axis=1)"
   ]
  },
  {
   "cell_type": "code",
   "execution_count": 8,
   "id": "8f0128b3",
   "metadata": {},
   "outputs": [
    {
     "data": {
      "text/plain": [
       "id                    0.00\n",
       "sum                   0.00\n",
       "is_reccurent          0.00\n",
       "purpose               0.09\n",
       "channel               0.00\n",
       "gender                0.11\n",
       "city                  0.52\n",
       "last_email_activity   0.21\n",
       "payment_date          0.00\n",
       "dtype: float64"
      ]
     },
     "execution_count": 8,
     "metadata": {},
     "output_type": "execute_result"
    }
   ],
   "source": [
    "# Пропуски\n",
    "df.isna().sum()/len(df)"
   ]
  },
  {
   "cell_type": "code",
   "execution_count": 9,
   "id": "9034cf19",
   "metadata": {},
   "outputs": [],
   "source": [
    "df['is_reccurent'] = df['is_reccurent'].replace({'нет                                                                                                                                                                                                                                                       ':\n",
    "                                                 0, \n",
    "                                                 'да                                                                                                                                                                                                                                                        ':\n",
    "                                                 1})\n",
    "df['is_woman'] = df['gender'].replace({'мужской                                                                                                                                                                                                                                                   ':\n",
    "                                     0, \n",
    "                                    'женский                                                                                                                                                                                                                                                   ':\n",
    "                                    1})\n",
    "# удалим столбец 'city'\n",
    "df = df.drop('gender',axis=1)"
   ]
  },
  {
   "cell_type": "code",
   "execution_count": 10,
   "id": "82ed6cf1",
   "metadata": {},
   "outputs": [
    {
     "data": {
      "text/html": [
       "<div>\n",
       "<style scoped>\n",
       "    .dataframe tbody tr th:only-of-type {\n",
       "        vertical-align: middle;\n",
       "    }\n",
       "\n",
       "    .dataframe tbody tr th {\n",
       "        vertical-align: top;\n",
       "    }\n",
       "\n",
       "    .dataframe thead th {\n",
       "        text-align: right;\n",
       "    }\n",
       "</style>\n",
       "<table border=\"1\" class=\"dataframe\">\n",
       "  <thead>\n",
       "    <tr style=\"text-align: right;\">\n",
       "      <th></th>\n",
       "      <th>id</th>\n",
       "      <th>sum</th>\n",
       "      <th>is_reccurent</th>\n",
       "      <th>purpose</th>\n",
       "      <th>channel</th>\n",
       "      <th>city</th>\n",
       "      <th>last_email_activity</th>\n",
       "      <th>payment_date</th>\n",
       "      <th>is_woman</th>\n",
       "      <th>life_time</th>\n",
       "      <th>delta_days_with_first_pay</th>\n",
       "      <th>day_of_year</th>\n",
       "      <th>life_time_cumsum</th>\n",
       "      <th>life_time_cumsum_group</th>\n",
       "      <th>is_last_year_pay</th>\n",
       "      <th>is_first_year_pay</th>\n",
       "    </tr>\n",
       "  </thead>\n",
       "  <tbody>\n",
       "    <tr>\n",
       "      <th>9856</th>\n",
       "      <td>c56dceac-0680-4e26-85a1-e4c35079cca6</td>\n",
       "      <td>100.00</td>\n",
       "      <td>1</td>\n",
       "      <td>пожертвование</td>\n",
       "      <td>банковские карты</td>\n",
       "      <td>воронеж</td>\n",
       "      <td>2022-07-18 17:06:21</td>\n",
       "      <td>2022-01-24</td>\n",
       "      <td>1.00</td>\n",
       "      <td>31</td>\n",
       "      <td>2381</td>\n",
       "      <td>24</td>\n",
       "      <td>395</td>\n",
       "      <td>от 1 до 2</td>\n",
       "      <td>1</td>\n",
       "      <td>0</td>\n",
       "    </tr>\n",
       "    <tr>\n",
       "      <th>3400</th>\n",
       "      <td>cad3bce5-2860-4d2d-b198-cc47b8121244</td>\n",
       "      <td>1,000.00</td>\n",
       "      <td>0</td>\n",
       "      <td>пожертвование</td>\n",
       "      <td>банковские карты</td>\n",
       "      <td>москва</td>\n",
       "      <td>2022-07-27 14:07:31</td>\n",
       "      <td>2021-07-30</td>\n",
       "      <td>1.00</td>\n",
       "      <td>14</td>\n",
       "      <td>2203</td>\n",
       "      <td>211</td>\n",
       "      <td>458</td>\n",
       "      <td>от 1 до 2</td>\n",
       "      <td>1</td>\n",
       "      <td>0</td>\n",
       "    </tr>\n",
       "    <tr>\n",
       "      <th>2667</th>\n",
       "      <td>6246ed33-cf41-4f33-88f3-7002a436e483</td>\n",
       "      <td>100.00</td>\n",
       "      <td>0</td>\n",
       "      <td>sms bdd</td>\n",
       "      <td>sms</td>\n",
       "      <td>NaN</td>\n",
       "      <td>NaT</td>\n",
       "      <td>2020-12-16</td>\n",
       "      <td>NaN</td>\n",
       "      <td>0</td>\n",
       "      <td>1977</td>\n",
       "      <td>351</td>\n",
       "      <td>0</td>\n",
       "      <td>NaN</td>\n",
       "      <td>1</td>\n",
       "      <td>1</td>\n",
       "    </tr>\n",
       "  </tbody>\n",
       "</table>\n",
       "</div>"
      ],
      "text/plain": [
       "                                        id      sum  is_reccurent  \\\n",
       "9856  c56dceac-0680-4e26-85a1-e4c35079cca6   100.00             1   \n",
       "3400  cad3bce5-2860-4d2d-b198-cc47b8121244 1,000.00             0   \n",
       "2667  6246ed33-cf41-4f33-88f3-7002a436e483   100.00             0   \n",
       "\n",
       "            purpose             channel     city last_email_activity  \\\n",
       "9856  пожертвование  банковские карты    воронеж 2022-07-18 17:06:21   \n",
       "3400  пожертвование  банковские карты     москва 2022-07-27 14:07:31   \n",
       "2667        sms bdd               sms        NaN                 NaT   \n",
       "\n",
       "     payment_date  is_woman  life_time  delta_days_with_first_pay  \\\n",
       "9856   2022-01-24      1.00         31                       2381   \n",
       "3400   2021-07-30      1.00         14                       2203   \n",
       "2667   2020-12-16       NaN          0                       1977   \n",
       "\n",
       "      day_of_year  life_time_cumsum life_time_cumsum_group  is_last_year_pay  \\\n",
       "9856           24               395              от 1 до 2                 1   \n",
       "3400          211               458              от 1 до 2                 1   \n",
       "2667          351                 0                    NaN                 1   \n",
       "\n",
       "      is_first_year_pay  \n",
       "9856                  0  \n",
       "3400                  0  \n",
       "2667                  1  "
      ]
     },
     "execution_count": 10,
     "metadata": {},
     "output_type": "execute_result"
    }
   ],
   "source": [
    "# Лайфтайм\n",
    "df = df.sort_values(by='payment_date')\n",
    "df['life_time'] = df.groupby('id')['payment_date'].apply(lambda x: x.diff().abs().fillna(pd.Timedelta(0)))\n",
    "df['life_time'] = df['life_time'].dt.days.astype('int')\n",
    "\n",
    "# Количество дней с самого первого платежа или номер дня с начала анализа\n",
    "df['delta_days_with_first_pay'] = (df['payment_date'] - df['payment_date'].min()).dt.days\n",
    "\n",
    "# Пронумеруем день года от начала анализа для каждого года\n",
    "df['day_of_year']=pd.to_datetime(df['payment_date']).dt.dayofyear\n",
    "\n",
    "# Добавим точки для каждого платежа от начала платежей каждого пользователя\n",
    "df['life_time_cumsum'] = df.groupby('id')['life_time'].apply(lambda x: x.cumsum())\n",
    "\n",
    "# Разбиваем точки лайфтайма на группы\n",
    "df['life_time_cumsum_group'] = pd.cut(df['life_time_cumsum'],\n",
    "                                      [x*365 for x in range(round(df['life_time_cumsum'].max()/365)+1)],\n",
    "                                      labels=['до 1', 'от 1 до 2', 'от 2 до 3', \n",
    "                                              'от 3 до 4', 'от 4 до 5', 'от 5 до 6',\n",
    "                                              'более 6'])\n",
    "\n",
    "# Добавляем метку для платежей последнего года\n",
    "df['is_last_year_pay'] = df.groupby('id')['payment_date'].apply(lambda x: (x.max()-x).fillna(pd.Timedelta(0)))\n",
    "df['is_last_year_pay'] = df['is_last_year_pay'].dt.days.astype('int')\n",
    "df['is_last_year_pay'] = df['is_last_year_pay'].apply(lambda x: 1 if x<366 else 0)\n",
    "\n",
    "# Добавляем метку для платежей первого полугодия\n",
    "df['is_first_year_pay'] = df.groupby('id')['payment_date'].apply(lambda x: (x-x.min()).fillna(pd.Timedelta(0)))\n",
    "df['is_first_year_pay'] = df['is_first_year_pay'].dt.days.astype('int')\n",
    "df['is_first_year_pay'] = df['is_first_year_pay'].apply(lambda x: 1 if x<91 else 0)\n",
    "\n",
    "df.sample(3)"
   ]
  },
  {
   "cell_type": "markdown",
   "id": "f467ad91",
   "metadata": {},
   "source": [
    "## purpose,city_category, channel -> DAMMI"
   ]
  },
  {
   "cell_type": "code",
   "execution_count": 11,
   "id": "e825d868",
   "metadata": {},
   "outputs": [
    {
     "data": {
      "text/plain": [
       "пожертвование                                                                                                       0.27\n",
       "пожертвование в фонд помощи детям-отказникам и детям-сиротам \"бюро добрых дел\"                                      0.24\n",
       "пожертвование  undefined                                                                                            0.15\n",
       "добровольное пожертвование. ндс не облагается                                                                       0.04\n",
       "sms bdd                                                                                                             0.02\n",
       "пожертвование клуб друзей                                                                                           0.01\n",
       "на психологические консультации артёму                                                                              0.01\n",
       "пожертвование без назначения                                                                                        0.01\n",
       "пожертвование на обучение артёма                                                                                    0.00\n",
       "пожертвование на обучение александры                                                                                0.00\n",
       "день рождения со смыслом_м. виторган                                                                                0.00\n",
       "на работу фонда                                                                                                     0.00\n",
       "на ресурсный центр                                                                                                  0.00\n",
       "добровольное пожертвование                                                                                          0.00\n",
       "на обучение дмитрия                                                                                                 0.00\n",
       "на обучение саши в мастерской                                                                                       0.00\n",
       "на тьютора ренате                                                                                                   0.00\n",
       "на обучение александра                                                                                              0.00\n",
       "на обучение романа в мастерской                                                                                     0.00\n",
       "на обучение наташи                                                                                                  0.00\n",
       "московские каникулы 2022                                                                                            0.00\n",
       "на обучение даниила                                                                                                 0.00\n",
       "на обучение валеры                                                                                                  0.00\n",
       "на обучение фёдора                                                                                                  0.00\n",
       "на обучение светланы                                                                                                0.00\n",
       "на психологическую помощь лизе                                                                                      0.00\n",
       "на обучение владимира​ в мастерской                                                                                 0.00\n",
       "на психологическую помощь юре                                                                                       0.00\n",
       "на проживание евгении                                                                                               0.00\n",
       "на программу окно в мир                                                                                             0.00\n",
       "пожертвование на обучение георгия                                                                                   0.00\n",
       "без ндс пожертвование в благотворительный фонд помощи детям-отказникам и детям-сиротам \"бюро добрых дел\". без ндс   0.00\n",
       "на программу история успеха                                                                                         0.00\n",
       "на обучение софьи                                                                                                   0.00\n",
       "пожертвование на программу \"школа семьи\"\"                                                                           0.00\n",
       "на обучение елизаветы                                                                                               0.00\n",
       "на проживание анастасии                                                                                             0.00\n",
       "на обучение никиты                                                                                                  0.00\n",
       "на обучение полины                                                                                                  0.00\n",
       "на обучение олега                                                                                                   0.00\n",
       "на проживание коли и димы                                                                                           0.00\n",
       "на обучение лизы                                                                                                    0.00\n",
       "на обучение ангелины                                                                                                0.00\n",
       "на компьютерный класс артему                                                                                        0.00\n",
       "добровольный взнос                                                                                                  0.00\n",
       "на проживание дарьи                                                                                                 0.00\n",
       "на программу история успеха                                                                                         0.00\n",
       "на обучение леры                                                                                                    0.00\n",
       "на трудоустройство                                                                                                  0.00\n",
       "пожертвование  всем                                                                                                 0.00\n",
       "Name: purpose, dtype: float64"
      ]
     },
     "execution_count": 11,
     "metadata": {},
     "output_type": "execute_result"
    }
   ],
   "source": [
    "# доля назначений пожертвований\n",
    "(df['purpose'].value_counts()/len(df['id'])).head(50)"
   ]
  },
  {
   "cell_type": "code",
   "execution_count": 12,
   "id": "bf994f5e",
   "metadata": {},
   "outputs": [],
   "source": [
    "def purose_category(purpose):\n",
    "    \n",
    "    if 'фонд' in purpose.loc['purpose']:\n",
    "        return 'for_fund'\n",
    "    elif purpose.loc['purpose'] == 'пожертвование':\n",
    "        return 'for_fund'\n",
    "    elif purpose.loc['purpose'] == 'пожертвование  undefined':\n",
    "        return 'for_fund'\n",
    "    elif purpose.loc['purpose'] == 'добровольное пожертвование. ндс не облагается':\n",
    "        return 'for_fund'\n",
    "    elif purpose.loc['purpose'] == 'добровольный взнос':\n",
    "        return 'for_fund'\n",
    "    elif purpose.loc['purpose'] == 'пожертвование  всем':\n",
    "        return 'for_fund'\n",
    "    elif purpose.loc['purpose'] == 'sms bdd':\n",
    "        return 'for_fund'\n",
    "    elif 'программ' in purpose.loc['purpose']:\n",
    "        return 'for_programm'\n",
    "    elif 'no_info' in purpose.loc['purpose']:\n",
    "        return 'no_info_purpose'\n",
    "    else:\n",
    "        return 'for_person'\n",
    "\n",
    "\n",
    "# применим функцию\n",
    "df['purpose'] = df['purpose'].fillna('no_info')\n",
    "df['purpose'] = df.apply(purose_category, axis=1)"
   ]
  },
  {
   "cell_type": "code",
   "execution_count": 13,
   "id": "12617702",
   "metadata": {},
   "outputs": [
    {
     "data": {
      "image/png": "[encoded data removed]",
      "text/plain": [
       "<Figure size 432x216 with 1 Axes>"
      ]
     },
     "metadata": {
      "needs_background": "light"
     },
     "output_type": "display_data"
    }
   ],
   "source": [
    "df['purpose'].hist(figsize=(6,3));"
   ]
  },
  {
   "cell_type": "code",
   "execution_count": 14,
   "id": "cb4ff9d4",
   "metadata": {},
   "outputs": [
    {
     "data": {
      "text/plain": [
       "москва               0.26\n",
       "санкт-петербург      0.04\n",
       "краснодар            0.02\n",
       "якутск               0.01\n",
       "екатеринбург         0.01\n",
       "мытищи               0.01\n",
       "самара               0.01\n",
       "frankfurt am main    0.01\n",
       "ростов-на-дону       0.01\n",
       "сочи                 0.01\n",
       "изобильный           0.01\n",
       "нижний новгород      0.01\n",
       "одинцово             0.01\n",
       "брянск               0.00\n",
       "воронеж              0.00\n",
       "казань               0.00\n",
       "charleston           0.00\n",
       "саратов              0.00\n",
       "владивосток          0.00\n",
       "ставрополь           0.00\n",
       "новосибирск          0.00\n",
       "курган               0.00\n",
       "рязань               0.00\n",
       "каменск-шахтинский   0.00\n",
       "новороссийск         0.00\n",
       "кемерово             0.00\n",
       "helsinki             0.00\n",
       "уфа                  0.00\n",
       "ульяновск            0.00\n",
       "нижневартовск        0.00\n",
       "усть-илимск          0.00\n",
       "ярославль            0.00\n",
       "старый оскол         0.00\n",
       "волгоград            0.00\n",
       "вологда              0.00\n",
       "san jose             0.00\n",
       "красногорск          0.00\n",
       "vancouver            0.00\n",
       "алупка               0.00\n",
       "тверь                0.00\n",
       "хабаровск            0.00\n",
       "истра                0.00\n",
       "караганда            0.00\n",
       "химки                0.00\n",
       "ленск                0.00\n",
       "чебоксары            0.00\n",
       "астрахань            0.00\n",
       "herndon              0.00\n",
       "оренбург             0.00\n",
       "архангельск          0.00\n",
       "Name: city, dtype: float64"
      ]
     },
     "execution_count": 14,
     "metadata": {},
     "output_type": "execute_result"
    }
   ],
   "source": [
    "# доля городов пожертвований\n",
    "(df['city'].value_counts()/len(df['id'])).head(50)"
   ]
  },
  {
   "cell_type": "code",
   "execution_count": 15,
   "id": "394431cf",
   "metadata": {},
   "outputs": [
    {
     "data": {
      "text/html": [
       "<div>\n",
       "<style scoped>\n",
       "    .dataframe tbody tr th:only-of-type {\n",
       "        vertical-align: middle;\n",
       "    }\n",
       "\n",
       "    .dataframe tbody tr th {\n",
       "        vertical-align: top;\n",
       "    }\n",
       "\n",
       "    .dataframe thead th {\n",
       "        text-align: right;\n",
       "    }\n",
       "</style>\n",
       "<table border=\"1\" class=\"dataframe\">\n",
       "  <thead>\n",
       "    <tr style=\"text-align: right;\">\n",
       "      <th></th>\n",
       "      <th>id</th>\n",
       "      <th>sum</th>\n",
       "      <th>is_reccurent</th>\n",
       "      <th>purpose</th>\n",
       "      <th>channel</th>\n",
       "      <th>last_email_activity</th>\n",
       "      <th>payment_date</th>\n",
       "      <th>is_woman</th>\n",
       "      <th>life_time</th>\n",
       "      <th>delta_days_with_first_pay</th>\n",
       "      <th>day_of_year</th>\n",
       "      <th>life_time_cumsum</th>\n",
       "      <th>life_time_cumsum_group</th>\n",
       "      <th>is_last_year_pay</th>\n",
       "      <th>is_first_year_pay</th>\n",
       "      <th>city_category</th>\n",
       "    </tr>\n",
       "  </thead>\n",
       "  <tbody>\n",
       "    <tr>\n",
       "      <th>829</th>\n",
       "      <td>91478e1b-c882-4f24-a435-fc4930218c4a</td>\n",
       "      <td>300.00</td>\n",
       "      <td>1</td>\n",
       "      <td>for_fund</td>\n",
       "      <td>банковские карты</td>\n",
       "      <td>2022-07-18 16:29:47</td>\n",
       "      <td>2017-07-12</td>\n",
       "      <td>0.00</td>\n",
       "      <td>30</td>\n",
       "      <td>724</td>\n",
       "      <td>193</td>\n",
       "      <td>579</td>\n",
       "      <td>от 1 до 2</td>\n",
       "      <td>0</td>\n",
       "      <td>0</td>\n",
       "      <td>other_rus_city</td>\n",
       "    </tr>\n",
       "  </tbody>\n",
       "</table>\n",
       "</div>"
      ],
      "text/plain": [
       "                                       id    sum  is_reccurent   purpose  \\\n",
       "829  91478e1b-c882-4f24-a435-fc4930218c4a 300.00             1  for_fund   \n",
       "\n",
       "                channel last_email_activity payment_date  is_woman  life_time  \\\n",
       "829  банковские карты   2022-07-18 16:29:47   2017-07-12      0.00         30   \n",
       "\n",
       "     delta_days_with_first_pay  day_of_year  life_time_cumsum  \\\n",
       "829                        724          193               579   \n",
       "\n",
       "    life_time_cumsum_group  is_last_year_pay  is_first_year_pay  \\\n",
       "829              от 1 до 2                 0                  0   \n",
       "\n",
       "      city_category  \n",
       "829  other_rus_city  "
      ]
     },
     "execution_count": 15,
     "metadata": {},
     "output_type": "execute_result"
    }
   ],
   "source": [
    "# Напишем функцию для категоризации городов\n",
    "\n",
    "def city_category(city):\n",
    "    foreign_cities = ['frankfurt am main', 'charleston', 'helsinki', 'juba', 'copenhagen', 'holon', \n",
    "                     'hyderabad', 'alameda', 'jakarta', 'keighley', 'southall', 'denver']\n",
    "    \n",
    "    if city.loc['city'] == 'москва':\n",
    "        return 'moscow'\n",
    "    elif city.loc['city'] == 'санкт-петербург':\n",
    "        return 'peterburg'\n",
    "    elif city.loc['city'] in foreign_cities:\n",
    "        return 'foreign'\n",
    "    elif city.loc['city'] == 'no_info':\n",
    "        return 'no_info_city'\n",
    "    else:\n",
    "        return 'other_rus_city'\n",
    "\n",
    "df['city'] = df['city'].fillna('no_info')\n",
    "# применим функцию\n",
    "df['city_category'] = df.apply(city_category, axis=1)\n",
    "# удалим столбец 'city'\n",
    "df = df.drop('city',axis=1)\n",
    "\n",
    "df.sample()"
   ]
  },
  {
   "cell_type": "code",
   "execution_count": 16,
   "id": "ac878512",
   "metadata": {},
   "outputs": [
    {
     "data": {
      "image/png": "[encoded data removed]",
      "text/plain": [
       "<Figure size 432x216 with 1 Axes>"
      ]
     },
     "metadata": {
      "needs_background": "light"
     },
     "output_type": "display_data"
    }
   ],
   "source": [
    "df['city_category'].hist(figsize=(6,3));"
   ]
  },
  {
   "cell_type": "code",
   "execution_count": 17,
   "id": "acedbcc9",
   "metadata": {},
   "outputs": [
    {
     "data": {
      "text/plain": [
       "банковские карты               0.80\n",
       "sms                            0.11\n",
       "прямые поступления на счет     0.10\n",
       "наличные в кассу               0.00\n",
       "Name: channel, dtype: float64"
      ]
     },
     "execution_count": 17,
     "metadata": {},
     "output_type": "execute_result"
    }
   ],
   "source": [
    "# доля каналов пожертвований\n",
    "(df['channel'].value_counts()/len(df['id'])).head(50)"
   ]
  },
  {
   "cell_type": "code",
   "execution_count": 18,
   "id": "16c0035d",
   "metadata": {},
   "outputs": [
    {
     "data": {
      "text/html": [
       "<div>\n",
       "<style scoped>\n",
       "    .dataframe tbody tr th:only-of-type {\n",
       "        vertical-align: middle;\n",
       "    }\n",
       "\n",
       "    .dataframe tbody tr th {\n",
       "        vertical-align: top;\n",
       "    }\n",
       "\n",
       "    .dataframe thead th {\n",
       "        text-align: right;\n",
       "    }\n",
       "</style>\n",
       "<table border=\"1\" class=\"dataframe\">\n",
       "  <thead>\n",
       "    <tr style=\"text-align: right;\">\n",
       "      <th></th>\n",
       "      <th>id</th>\n",
       "      <th>sum</th>\n",
       "      <th>is_reccurent</th>\n",
       "      <th>purpose</th>\n",
       "      <th>channel</th>\n",
       "      <th>last_email_activity</th>\n",
       "      <th>payment_date</th>\n",
       "      <th>is_woman</th>\n",
       "      <th>life_time</th>\n",
       "      <th>delta_days_with_first_pay</th>\n",
       "      <th>day_of_year</th>\n",
       "      <th>life_time_cumsum</th>\n",
       "      <th>life_time_cumsum_group</th>\n",
       "      <th>is_last_year_pay</th>\n",
       "      <th>is_first_year_pay</th>\n",
       "      <th>city_category</th>\n",
       "    </tr>\n",
       "  </thead>\n",
       "  <tbody>\n",
       "    <tr>\n",
       "      <th>11585</th>\n",
       "      <td>4aefddd7-a382-44a0-9341-55859b2e5c88</td>\n",
       "      <td>300.00</td>\n",
       "      <td>0</td>\n",
       "      <td>no_info_purpose</td>\n",
       "      <td>sms</td>\n",
       "      <td>NaT</td>\n",
       "      <td>2019-09-20</td>\n",
       "      <td>NaN</td>\n",
       "      <td>0</td>\n",
       "      <td>1524</td>\n",
       "      <td>263</td>\n",
       "      <td>0</td>\n",
       "      <td>NaN</td>\n",
       "      <td>1</td>\n",
       "      <td>1</td>\n",
       "      <td>no_info_city</td>\n",
       "    </tr>\n",
       "  </tbody>\n",
       "</table>\n",
       "</div>"
      ],
      "text/plain": [
       "                                         id    sum  is_reccurent  \\\n",
       "11585  4aefddd7-a382-44a0-9341-55859b2e5c88 300.00             0   \n",
       "\n",
       "               purpose channel last_email_activity payment_date  is_woman  \\\n",
       "11585  no_info_purpose     sms                 NaT   2019-09-20       NaN   \n",
       "\n",
       "       life_time  delta_days_with_first_pay  day_of_year  life_time_cumsum  \\\n",
       "11585          0                       1524          263                 0   \n",
       "\n",
       "      life_time_cumsum_group  is_last_year_pay  is_first_year_pay  \\\n",
       "11585                    NaN                 1                  1   \n",
       "\n",
       "      city_category  \n",
       "11585  no_info_city  "
      ]
     },
     "execution_count": 18,
     "metadata": {},
     "output_type": "execute_result"
    }
   ],
   "source": [
    "# Напишем функцию для категоризации городов\n",
    "\n",
    "def channel_category(channel):\n",
    "        \n",
    "    if channel.loc['channel'] == 'sms  ':\n",
    "        return 'sms'\n",
    "    elif channel.loc['channel'] == 'банковские карты  ':\n",
    "        return 'card'\n",
    "    elif channel.loc['channel'] == 'прямые поступления на счет  ':\n",
    "        return 'direct_to_account'\n",
    "    elif 'наличные' in channel.loc['channel']:\n",
    "        return 'cash'\n",
    "    else:\n",
    "        return 'no_info_channel'\n",
    "\n",
    "df['channel'] = df['channel'].fillna('no_info')\n",
    "# применим функцию\n",
    "df['channel'] = df.apply(channel_category, axis=1)\n",
    "\n",
    "df.sample()"
   ]
  },
  {
   "cell_type": "code",
   "execution_count": 19,
   "id": "4f4666f6",
   "metadata": {},
   "outputs": [
    {
     "data": {
      "image/png": "[encoded data removed]",
      "text/plain": [
       "<Figure size 432x216 with 1 Axes>"
      ]
     },
     "metadata": {
      "needs_background": "light"
     },
     "output_type": "display_data"
    }
   ],
   "source": [
    "df['channel'].hist(figsize=(6,3));"
   ]
  },
  {
   "cell_type": "code",
   "execution_count": 20,
   "id": "d1e570af",
   "metadata": {},
   "outputs": [],
   "source": [
    "# Добавим дамми переменные по признаку причин, города, канала\n",
    "df = pd.concat([df, pd.get_dummies(df['purpose'])], axis=1)\n",
    "df = pd.concat([df, pd.get_dummies(df['channel'])], axis=1)\n",
    "df = pd.concat([df, pd.get_dummies(df['city_category'])], axis=1)\n",
    "# удалим столбцы purpose,channel,city_category\n",
    "df = df.drop(['purpose','channel','city_category'],axis=1)"
   ]
  },
  {
   "cell_type": "code",
   "execution_count": 21,
   "id": "6656c766",
   "metadata": {},
   "outputs": [
    {
     "data": {
      "text/html": [
       "<div>\n",
       "<style scoped>\n",
       "    .dataframe tbody tr th:only-of-type {\n",
       "        vertical-align: middle;\n",
       "    }\n",
       "\n",
       "    .dataframe tbody tr th {\n",
       "        vertical-align: top;\n",
       "    }\n",
       "\n",
       "    .dataframe thead th {\n",
       "        text-align: right;\n",
       "    }\n",
       "</style>\n",
       "<table border=\"1\" class=\"dataframe\">\n",
       "  <thead>\n",
       "    <tr style=\"text-align: right;\">\n",
       "      <th></th>\n",
       "      <th>id</th>\n",
       "      <th>sum</th>\n",
       "      <th>is_reccurent</th>\n",
       "      <th>last_email_activity</th>\n",
       "      <th>payment_date</th>\n",
       "      <th>is_woman</th>\n",
       "      <th>life_time</th>\n",
       "      <th>delta_days_with_first_pay</th>\n",
       "      <th>day_of_year</th>\n",
       "      <th>life_time_cumsum</th>\n",
       "      <th>...</th>\n",
       "      <th>no_info_purpose</th>\n",
       "      <th>card</th>\n",
       "      <th>cash</th>\n",
       "      <th>direct_to_account</th>\n",
       "      <th>sms</th>\n",
       "      <th>foreign</th>\n",
       "      <th>moscow</th>\n",
       "      <th>no_info_city</th>\n",
       "      <th>other_rus_city</th>\n",
       "      <th>peterburg</th>\n",
       "    </tr>\n",
       "  </thead>\n",
       "  <tbody>\n",
       "    <tr>\n",
       "      <th>9802</th>\n",
       "      <td>8de34c9d-2ffd-48ea-b386-b676f4a9aa5d</td>\n",
       "      <td>500.00</td>\n",
       "      <td>1</td>\n",
       "      <td>2022-07-18 16:29:48</td>\n",
       "      <td>2021-04-28</td>\n",
       "      <td>1.00</td>\n",
       "      <td>33</td>\n",
       "      <td>2110</td>\n",
       "      <td>118</td>\n",
       "      <td>398</td>\n",
       "      <td>...</td>\n",
       "      <td>0</td>\n",
       "      <td>1</td>\n",
       "      <td>0</td>\n",
       "      <td>0</td>\n",
       "      <td>0</td>\n",
       "      <td>0</td>\n",
       "      <td>0</td>\n",
       "      <td>1</td>\n",
       "      <td>0</td>\n",
       "      <td>0</td>\n",
       "    </tr>\n",
       "  </tbody>\n",
       "</table>\n",
       "<p>1 rows × 26 columns</p>\n",
       "</div>"
      ],
      "text/plain": [
       "                                        id    sum  is_reccurent  \\\n",
       "9802  8de34c9d-2ffd-48ea-b386-b676f4a9aa5d 500.00             1   \n",
       "\n",
       "     last_email_activity payment_date  is_woman  life_time  \\\n",
       "9802 2022-07-18 16:29:48   2021-04-28      1.00         33   \n",
       "\n",
       "      delta_days_with_first_pay  day_of_year  life_time_cumsum  ...  \\\n",
       "9802                       2110          118               398  ...   \n",
       "\n",
       "     no_info_purpose  card  cash  direct_to_account  sms  foreign  moscow  \\\n",
       "9802               0     1     0                  0    0        0       0   \n",
       "\n",
       "      no_info_city  other_rus_city  peterburg  \n",
       "9802             1               0          0  \n",
       "\n",
       "[1 rows x 26 columns]"
      ]
     },
     "execution_count": 21,
     "metadata": {},
     "output_type": "execute_result"
    }
   ],
   "source": [
    "df.sample()"
   ]
  },
  {
   "cell_type": "markdown",
   "id": "3aca66a6",
   "metadata": {},
   "source": [
    "# Объединяем несколько платежей в  день в один"
   ]
  },
  {
   "cell_type": "code",
   "execution_count": 22,
   "id": "e0ad6154",
   "metadata": {},
   "outputs": [
    {
     "data": {
      "text/html": [
       "<div>\n",
       "<style scoped>\n",
       "    .dataframe tbody tr th:only-of-type {\n",
       "        vertical-align: middle;\n",
       "    }\n",
       "\n",
       "    .dataframe tbody tr th {\n",
       "        vertical-align: top;\n",
       "    }\n",
       "\n",
       "    .dataframe thead th {\n",
       "        text-align: right;\n",
       "    }\n",
       "</style>\n",
       "<table border=\"1\" class=\"dataframe\">\n",
       "  <thead>\n",
       "    <tr style=\"text-align: right;\">\n",
       "      <th></th>\n",
       "      <th>id</th>\n",
       "      <th>payment_date</th>\n",
       "      <th>count</th>\n",
       "      <th>sum</th>\n",
       "    </tr>\n",
       "  </thead>\n",
       "  <tbody>\n",
       "    <tr>\n",
       "      <th>22</th>\n",
       "      <td>0015a100-2d8c-4262-a9b3-bb1461c0c8b8</td>\n",
       "      <td>2021-07-27</td>\n",
       "      <td>2</td>\n",
       "      <td>400.00</td>\n",
       "    </tr>\n",
       "    <tr>\n",
       "      <th>73</th>\n",
       "      <td>0329cf14-1f5b-4776-9a2a-5236b02cf6ac</td>\n",
       "      <td>2015-07-24</td>\n",
       "      <td>2</td>\n",
       "      <td>222.00</td>\n",
       "    </tr>\n",
       "    <tr>\n",
       "      <th>92</th>\n",
       "      <td>0477632c-6b6f-490e-9245-12c7f6b04757</td>\n",
       "      <td>2020-06-01</td>\n",
       "      <td>3</td>\n",
       "      <td>900.00</td>\n",
       "    </tr>\n",
       "    <tr>\n",
       "      <th>121</th>\n",
       "      <td>05343f01-7d7a-4147-8ece-74f6f8da69a8</td>\n",
       "      <td>2021-04-06</td>\n",
       "      <td>2</td>\n",
       "      <td>2,000.00</td>\n",
       "    </tr>\n",
       "    <tr>\n",
       "      <th>126</th>\n",
       "      <td>05343f01-7d7a-4147-8ece-74f6f8da69a8</td>\n",
       "      <td>2021-06-21</td>\n",
       "      <td>2</td>\n",
       "      <td>1,000.00</td>\n",
       "    </tr>\n",
       "    <tr>\n",
       "      <th>...</th>\n",
       "      <td>...</td>\n",
       "      <td>...</td>\n",
       "      <td>...</td>\n",
       "      <td>...</td>\n",
       "    </tr>\n",
       "    <tr>\n",
       "      <th>13183</th>\n",
       "      <td>f7f24b47-3341-49eb-90d4-ac2e8f4fb320</td>\n",
       "      <td>2019-12-09</td>\n",
       "      <td>5</td>\n",
       "      <td>34,300.00</td>\n",
       "    </tr>\n",
       "    <tr>\n",
       "      <th>13184</th>\n",
       "      <td>f7f24b47-3341-49eb-90d4-ac2e8f4fb320</td>\n",
       "      <td>2020-02-06</td>\n",
       "      <td>3</td>\n",
       "      <td>76,700.00</td>\n",
       "    </tr>\n",
       "    <tr>\n",
       "      <th>13310</th>\n",
       "      <td>fa587aeb-c2ed-4a79-9c2c-8fe53ee2f24f</td>\n",
       "      <td>2020-12-20</td>\n",
       "      <td>2</td>\n",
       "      <td>200.00</td>\n",
       "    </tr>\n",
       "    <tr>\n",
       "      <th>13446</th>\n",
       "      <td>fd7388f4-d9b2-4567-8995-e1ba5c0e3ba9</td>\n",
       "      <td>2020-12-12</td>\n",
       "      <td>3</td>\n",
       "      <td>1,800.00</td>\n",
       "    </tr>\n",
       "    <tr>\n",
       "      <th>13612</th>\n",
       "      <td>ffa30123-a516-44a7-b030-f83ed369b645</td>\n",
       "      <td>2021-03-01</td>\n",
       "      <td>2</td>\n",
       "      <td>200.00</td>\n",
       "    </tr>\n",
       "  </tbody>\n",
       "</table>\n",
       "<p>271 rows × 4 columns</p>\n",
       "</div>"
      ],
      "text/plain": [
       "                                         id payment_date  count       sum\n",
       "22     0015a100-2d8c-4262-a9b3-bb1461c0c8b8   2021-07-27      2    400.00\n",
       "73     0329cf14-1f5b-4776-9a2a-5236b02cf6ac   2015-07-24      2    222.00\n",
       "92     0477632c-6b6f-490e-9245-12c7f6b04757   2020-06-01      3    900.00\n",
       "121    05343f01-7d7a-4147-8ece-74f6f8da69a8   2021-04-06      2  2,000.00\n",
       "126    05343f01-7d7a-4147-8ece-74f6f8da69a8   2021-06-21      2  1,000.00\n",
       "...                                     ...          ...    ...       ...\n",
       "13183  f7f24b47-3341-49eb-90d4-ac2e8f4fb320   2019-12-09      5 34,300.00\n",
       "13184  f7f24b47-3341-49eb-90d4-ac2e8f4fb320   2020-02-06      3 76,700.00\n",
       "13310  fa587aeb-c2ed-4a79-9c2c-8fe53ee2f24f   2020-12-20      2    200.00\n",
       "13446  fd7388f4-d9b2-4567-8995-e1ba5c0e3ba9   2020-12-12      3  1,800.00\n",
       "13612  ffa30123-a516-44a7-b030-f83ed369b645   2021-03-01      2    200.00\n",
       "\n",
       "[271 rows x 4 columns]"
      ]
     },
     "execution_count": 22,
     "metadata": {},
     "output_type": "execute_result"
    }
   ],
   "source": [
    "users_donat_cnt_in_date = df.groupby(['id','payment_date']).agg({'sum':['count','sum']}).set_axis(['count','sum'],axis=1,inplace=False).reset_index()\n",
    "users_donat_cnt_in_date = users_donat_cnt_in_date[users_donat_cnt_in_date['count']>1]\n",
    "users_donat_cnt_in_date"
   ]
  },
  {
   "cell_type": "code",
   "execution_count": 23,
   "id": "d5acbf26",
   "metadata": {},
   "outputs": [
    {
     "data": {
      "text/plain": [
       "Index(['id', 'sum', 'is_reccurent', 'last_email_activity', 'payment_date',\n",
       "       'is_woman', 'life_time', 'delta_days_with_first_pay', 'day_of_year',\n",
       "       'life_time_cumsum', 'life_time_cumsum_group', 'is_last_year_pay',\n",
       "       'is_first_year_pay', 'for_fund', 'for_person', 'for_programm',\n",
       "       'no_info_purpose', 'card', 'cash', 'direct_to_account', 'sms',\n",
       "       'foreign', 'moscow', 'no_info_city', 'other_rus_city', 'peterburg'],\n",
       "      dtype='object')"
      ]
     },
     "execution_count": 23,
     "metadata": {},
     "output_type": "execute_result"
    }
   ],
   "source": [
    "df.columns"
   ]
  },
  {
   "cell_type": "code",
   "execution_count": 24,
   "id": "874ee166",
   "metadata": {},
   "outputs": [
    {
     "data": {
      "text/html": [
       "<div>\n",
       "<style scoped>\n",
       "    .dataframe tbody tr th:only-of-type {\n",
       "        vertical-align: middle;\n",
       "    }\n",
       "\n",
       "    .dataframe tbody tr th {\n",
       "        vertical-align: top;\n",
       "    }\n",
       "\n",
       "    .dataframe thead th {\n",
       "        text-align: right;\n",
       "    }\n",
       "</style>\n",
       "<table border=\"1\" class=\"dataframe\">\n",
       "  <thead>\n",
       "    <tr style=\"text-align: right;\">\n",
       "      <th></th>\n",
       "      <th>sum</th>\n",
       "      <th>reccurent_mean</th>\n",
       "      <th>is_woman</th>\n",
       "      <th>life_time</th>\n",
       "      <th>is_last_year_pay</th>\n",
       "      <th>is_first_year_pay</th>\n",
       "      <th>for_fund</th>\n",
       "      <th>for_person</th>\n",
       "      <th>for_programm</th>\n",
       "      <th>no_info_purpose</th>\n",
       "      <th>card</th>\n",
       "      <th>cash</th>\n",
       "      <th>direct_to_account</th>\n",
       "      <th>sms</th>\n",
       "      <th>foreign</th>\n",
       "      <th>moscow</th>\n",
       "      <th>no_info_city</th>\n",
       "      <th>other_rus_city</th>\n",
       "      <th>peterburg</th>\n",
       "    </tr>\n",
       "  </thead>\n",
       "  <tbody>\n",
       "    <tr>\n",
       "      <th>count</th>\n",
       "      <td>13,624.00</td>\n",
       "      <td>13,624.00</td>\n",
       "      <td>12,082.00</td>\n",
       "      <td>13,624.00</td>\n",
       "      <td>13,624.00</td>\n",
       "      <td>13,624.00</td>\n",
       "      <td>13,624.00</td>\n",
       "      <td>13,624.00</td>\n",
       "      <td>13,624.00</td>\n",
       "      <td>13,624.00</td>\n",
       "      <td>13,624.00</td>\n",
       "      <td>13,624.00</td>\n",
       "      <td>13,624.00</td>\n",
       "      <td>13,624.00</td>\n",
       "      <td>13,624.00</td>\n",
       "      <td>13,624.00</td>\n",
       "      <td>13,624.00</td>\n",
       "      <td>13,624.00</td>\n",
       "      <td>13,624.00</td>\n",
       "    </tr>\n",
       "    <tr>\n",
       "      <th>mean</th>\n",
       "      <td>1,773.76</td>\n",
       "      <td>0.59</td>\n",
       "      <td>0.78</td>\n",
       "      <td>35.17</td>\n",
       "      <td>0.66</td>\n",
       "      <td>0.37</td>\n",
       "      <td>0.74</td>\n",
       "      <td>0.16</td>\n",
       "      <td>0.01</td>\n",
       "      <td>0.09</td>\n",
       "      <td>0.79</td>\n",
       "      <td>0.00</td>\n",
       "      <td>0.10</td>\n",
       "      <td>0.11</td>\n",
       "      <td>0.02</td>\n",
       "      <td>0.25</td>\n",
       "      <td>0.53</td>\n",
       "      <td>0.17</td>\n",
       "      <td>0.04</td>\n",
       "    </tr>\n",
       "    <tr>\n",
       "      <th>std</th>\n",
       "      <td>30,011.43</td>\n",
       "      <td>0.49</td>\n",
       "      <td>0.42</td>\n",
       "      <td>89.45</td>\n",
       "      <td>0.47</td>\n",
       "      <td>0.48</td>\n",
       "      <td>0.44</td>\n",
       "      <td>0.37</td>\n",
       "      <td>0.09</td>\n",
       "      <td>0.29</td>\n",
       "      <td>0.40</td>\n",
       "      <td>0.01</td>\n",
       "      <td>0.30</td>\n",
       "      <td>0.31</td>\n",
       "      <td>0.13</td>\n",
       "      <td>0.43</td>\n",
       "      <td>0.50</td>\n",
       "      <td>0.37</td>\n",
       "      <td>0.19</td>\n",
       "    </tr>\n",
       "    <tr>\n",
       "      <th>min</th>\n",
       "      <td>0.01</td>\n",
       "      <td>0.00</td>\n",
       "      <td>0.00</td>\n",
       "      <td>0.00</td>\n",
       "      <td>0.00</td>\n",
       "      <td>0.00</td>\n",
       "      <td>0.00</td>\n",
       "      <td>0.00</td>\n",
       "      <td>0.00</td>\n",
       "      <td>0.00</td>\n",
       "      <td>0.00</td>\n",
       "      <td>0.00</td>\n",
       "      <td>0.00</td>\n",
       "      <td>0.00</td>\n",
       "      <td>0.00</td>\n",
       "      <td>0.00</td>\n",
       "      <td>0.00</td>\n",
       "      <td>0.00</td>\n",
       "      <td>0.00</td>\n",
       "    </tr>\n",
       "    <tr>\n",
       "      <th>25%</th>\n",
       "      <td>150.00</td>\n",
       "      <td>0.00</td>\n",
       "      <td>1.00</td>\n",
       "      <td>0.00</td>\n",
       "      <td>0.00</td>\n",
       "      <td>0.00</td>\n",
       "      <td>0.00</td>\n",
       "      <td>0.00</td>\n",
       "      <td>0.00</td>\n",
       "      <td>0.00</td>\n",
       "      <td>1.00</td>\n",
       "      <td>0.00</td>\n",
       "      <td>0.00</td>\n",
       "      <td>0.00</td>\n",
       "      <td>0.00</td>\n",
       "      <td>0.00</td>\n",
       "      <td>0.00</td>\n",
       "      <td>0.00</td>\n",
       "      <td>0.00</td>\n",
       "    </tr>\n",
       "    <tr>\n",
       "      <th>50%</th>\n",
       "      <td>350.00</td>\n",
       "      <td>1.00</td>\n",
       "      <td>1.00</td>\n",
       "      <td>30.00</td>\n",
       "      <td>1.00</td>\n",
       "      <td>0.00</td>\n",
       "      <td>1.00</td>\n",
       "      <td>0.00</td>\n",
       "      <td>0.00</td>\n",
       "      <td>0.00</td>\n",
       "      <td>1.00</td>\n",
       "      <td>0.00</td>\n",
       "      <td>0.00</td>\n",
       "      <td>0.00</td>\n",
       "      <td>0.00</td>\n",
       "      <td>0.00</td>\n",
       "      <td>1.00</td>\n",
       "      <td>0.00</td>\n",
       "      <td>0.00</td>\n",
       "    </tr>\n",
       "    <tr>\n",
       "      <th>75%</th>\n",
       "      <td>700.00</td>\n",
       "      <td>1.00</td>\n",
       "      <td>1.00</td>\n",
       "      <td>31.00</td>\n",
       "      <td>1.00</td>\n",
       "      <td>1.00</td>\n",
       "      <td>1.00</td>\n",
       "      <td>0.00</td>\n",
       "      <td>0.00</td>\n",
       "      <td>0.00</td>\n",
       "      <td>1.00</td>\n",
       "      <td>0.00</td>\n",
       "      <td>0.00</td>\n",
       "      <td>0.00</td>\n",
       "      <td>0.00</td>\n",
       "      <td>1.00</td>\n",
       "      <td>1.00</td>\n",
       "      <td>0.00</td>\n",
       "      <td>0.00</td>\n",
       "    </tr>\n",
       "    <tr>\n",
       "      <th>max</th>\n",
       "      <td>3,000,000.00</td>\n",
       "      <td>1.00</td>\n",
       "      <td>1.00</td>\n",
       "      <td>1,764.00</td>\n",
       "      <td>1.00</td>\n",
       "      <td>1.00</td>\n",
       "      <td>1.00</td>\n",
       "      <td>1.00</td>\n",
       "      <td>1.00</td>\n",
       "      <td>1.00</td>\n",
       "      <td>1.00</td>\n",
       "      <td>1.00</td>\n",
       "      <td>1.00</td>\n",
       "      <td>1.00</td>\n",
       "      <td>1.00</td>\n",
       "      <td>1.00</td>\n",
       "      <td>1.00</td>\n",
       "      <td>1.00</td>\n",
       "      <td>1.00</td>\n",
       "    </tr>\n",
       "  </tbody>\n",
       "</table>\n",
       "</div>"
      ],
      "text/plain": [
       "               sum  reccurent_mean  is_woman  life_time  is_last_year_pay  \\\n",
       "count    13,624.00       13,624.00 12,082.00  13,624.00         13,624.00   \n",
       "mean      1,773.76            0.59      0.78      35.17              0.66   \n",
       "std      30,011.43            0.49      0.42      89.45              0.47   \n",
       "min           0.01            0.00      0.00       0.00              0.00   \n",
       "25%         150.00            0.00      1.00       0.00              0.00   \n",
       "50%         350.00            1.00      1.00      30.00              1.00   \n",
       "75%         700.00            1.00      1.00      31.00              1.00   \n",
       "max   3,000,000.00            1.00      1.00   1,764.00              1.00   \n",
       "\n",
       "       is_first_year_pay  for_fund  for_person  for_programm  no_info_purpose  \\\n",
       "count          13,624.00 13,624.00   13,624.00     13,624.00        13,624.00   \n",
       "mean                0.37      0.74        0.16          0.01             0.09   \n",
       "std                 0.48      0.44        0.37          0.09             0.29   \n",
       "min                 0.00      0.00        0.00          0.00             0.00   \n",
       "25%                 0.00      0.00        0.00          0.00             0.00   \n",
       "50%                 0.00      1.00        0.00          0.00             0.00   \n",
       "75%                 1.00      1.00        0.00          0.00             0.00   \n",
       "max                 1.00      1.00        1.00          1.00             1.00   \n",
       "\n",
       "           card      cash  direct_to_account       sms   foreign    moscow  \\\n",
       "count 13,624.00 13,624.00          13,624.00 13,624.00 13,624.00 13,624.00   \n",
       "mean       0.79      0.00               0.10      0.11      0.02      0.25   \n",
       "std        0.40      0.01               0.30      0.31      0.13      0.43   \n",
       "min        0.00      0.00               0.00      0.00      0.00      0.00   \n",
       "25%        1.00      0.00               0.00      0.00      0.00      0.00   \n",
       "50%        1.00      0.00               0.00      0.00      0.00      0.00   \n",
       "75%        1.00      0.00               0.00      0.00      0.00      1.00   \n",
       "max        1.00      1.00               1.00      1.00      1.00      1.00   \n",
       "\n",
       "       no_info_city  other_rus_city  peterburg  \n",
       "count     13,624.00       13,624.00  13,624.00  \n",
       "mean           0.53            0.17       0.04  \n",
       "std            0.50            0.37       0.19  \n",
       "min            0.00            0.00       0.00  \n",
       "25%            0.00            0.00       0.00  \n",
       "50%            1.00            0.00       0.00  \n",
       "75%            1.00            0.00       0.00  \n",
       "max            1.00            1.00       1.00  "
      ]
     },
     "execution_count": 24,
     "metadata": {},
     "output_type": "execute_result"
    }
   ],
   "source": [
    "df_agg_by_days = df.groupby(['id','payment_date']).agg({'sum':'sum',\n",
    "                                                       'is_reccurent':'mean', \n",
    "                                                       'is_woman':'max', \n",
    "                                                       'life_time':'first', \n",
    "                                                       'is_last_year_pay':'first',\n",
    "                                                       'is_first_year_pay':'first', \n",
    "                                                       'for_fund':'mean', \n",
    "                                                       'for_person':'mean', \n",
    "                                                       'for_programm':'mean',\n",
    "                                                       'no_info_purpose':'mean', \n",
    "                                                       'card':'mean',\n",
    "                                                       'cash':'mean', \n",
    "                                                       'direct_to_account':'mean', \n",
    "                                                       'sms':'mean',\n",
    "                                                       'foreign':'mean', \n",
    "                                                       'moscow':'mean', \n",
    "                                                       'no_info_city':'mean', \n",
    "                                                       'other_rus_city':'mean', \n",
    "                                                       'peterburg':'mean'}).set_axis(['sum',\n",
    "                                                                                     'reccurent_mean', \n",
    "                                                                                      'is_woman',\n",
    "                                                                                      'life_time', \n",
    "                                                                                      'is_last_year_pay',\n",
    "                                                                                      'is_first_year_pay',\n",
    "                                                                                      'for_fund',\n",
    "                                                                                      'for_person',\n",
    "                                                                                      'for_programm',\n",
    "                                                                                      'no_info_purpose', \n",
    "                                                                                      'card',\n",
    "                                                                                      'cash',\n",
    "                                                                                      'direct_to_account',\n",
    "                                                                                      'sms',\n",
    "                                                                                      'foreign', \n",
    "                                                                                      'moscow',\n",
    "                                                                                      'no_info_city',\n",
    "                                                                                      'other_rus_city',\n",
    "                                                                                      'peterburg'],axis=1,\n",
    "                                                                                     inplace=False).reset_index()\n",
    "df_agg_by_days.describe()"
   ]
  },
  {
   "cell_type": "code",
   "execution_count": 25,
   "id": "0fc11fa7",
   "metadata": {},
   "outputs": [
    {
     "data": {
      "text/plain": [
       "191"
      ]
     },
     "execution_count": 25,
     "metadata": {},
     "output_type": "execute_result"
    }
   ],
   "source": [
    "users_donat_cnt_in_date.id.nunique()"
   ]
  },
  {
   "cell_type": "code",
   "execution_count": 26,
   "id": "a415b011",
   "metadata": {},
   "outputs": [
    {
     "data": {
      "image/png": "[encoded data removed]",
      "text/plain": [
       "<Figure size 432x288 with 1 Axes>"
      ]
     },
     "metadata": {
      "needs_background": "light"
     },
     "output_type": "display_data"
    },
    {
     "data": {
      "image/png": "[encoded data removed]",
      "text/plain": [
       "<Figure size 432x288 with 1 Axes>"
      ]
     },
     "metadata": {
      "needs_background": "light"
     },
     "output_type": "display_data"
    },
    {
     "data": {
      "image/png": "[encoded data removed]",
      "text/plain": [
       "<Figure size 432x288 with 1 Axes>"
      ]
     },
     "metadata": {
      "needs_background": "light"
     },
     "output_type": "display_data"
    }
   ],
   "source": [
    "users_donat_cnt_in_date.plot(kind='scatter',x='payment_date',y='count', title='Количество повторных платежей по годам')\n",
    "plt.show()\n",
    "users_donat_cnt_in_date.plot(kind='scatter',x='payment_date',y='sum', title='Размер повторных платежей по годам')\n",
    "plt.show()\n",
    "users_donat_cnt_in_date.plot(kind='scatter',x='count',y='sum', title='Размер повторных платежей в зависимости от их количества')\n",
    "plt.show()"
   ]
  },
  {
   "cell_type": "markdown",
   "id": "9f3382af",
   "metadata": {},
   "source": [
    "## Группировка по пользователю для МЛ"
   ]
  },
  {
   "cell_type": "markdown",
   "id": "f9bb5d90",
   "metadata": {},
   "source": [
    "Найдём всех новых пользователей, чей первый платёж после 01.07.2021 и сохраним их id в переменную `id_new`"
   ]
  },
  {
   "cell_type": "code",
   "execution_count": 27,
   "id": "014fc596",
   "metadata": {},
   "outputs": [
    {
     "name": "stdout",
     "output_type": "stream",
     "text": [
      "Новых пользователей  387\n"
     ]
    }
   ],
   "source": [
    "first_dates = df.groupby('id')['payment_date'].first().reset_index()\n",
    "first_dates['payment_date'] = pd.to_datetime(first_dates['payment_date'])\n",
    "id_new = first_dates[first_dates['payment_date'].isin(pd.date_range(start='2021-07-01', end=df.payment_date.max()))]['id']\n",
    "print('Новых пользователей ',len(id_new))"
   ]
  },
  {
   "cell_type": "markdown",
   "id": "0d2fdd52",
   "metadata": {},
   "source": [
    "В качестве целевой переменной обозначим `total_sum` - общую сумму пожертвований от пользователя в течение всего срока взаимодействия с фодндом. Найдём `total_sum` для каждого:"
   ]
  },
  {
   "cell_type": "code",
   "execution_count": 28,
   "id": "b2297bf2",
   "metadata": {
    "scrolled": true
   },
   "outputs": [
    {
     "data": {
      "text/html": [
       "<div>\n",
       "<style scoped>\n",
       "    .dataframe tbody tr th:only-of-type {\n",
       "        vertical-align: middle;\n",
       "    }\n",
       "\n",
       "    .dataframe tbody tr th {\n",
       "        vertical-align: top;\n",
       "    }\n",
       "\n",
       "    .dataframe thead th {\n",
       "        text-align: right;\n",
       "    }\n",
       "</style>\n",
       "<table border=\"1\" class=\"dataframe\">\n",
       "  <thead>\n",
       "    <tr style=\"text-align: right;\">\n",
       "      <th></th>\n",
       "      <th>id</th>\n",
       "      <th>total_sum</th>\n",
       "    </tr>\n",
       "  </thead>\n",
       "  <tbody>\n",
       "    <tr>\n",
       "      <th>3461</th>\n",
       "      <td>f0d21988-41fc-4220-b3b4-904f216bf22d</td>\n",
       "      <td>1,100.00</td>\n",
       "    </tr>\n",
       "    <tr>\n",
       "      <th>2261</th>\n",
       "      <td>9c92faa3-e9cb-4b1a-8df3-7de2107c9626</td>\n",
       "      <td>50.00</td>\n",
       "    </tr>\n",
       "    <tr>\n",
       "      <th>2409</th>\n",
       "      <td>a73f8c21-27fc-4672-bd6a-5b326965988f</td>\n",
       "      <td>500.00</td>\n",
       "    </tr>\n",
       "  </tbody>\n",
       "</table>\n",
       "</div>"
      ],
      "text/plain": [
       "                                        id  total_sum\n",
       "3461  f0d21988-41fc-4220-b3b4-904f216bf22d   1,100.00\n",
       "2261  9c92faa3-e9cb-4b1a-8df3-7de2107c9626      50.00\n",
       "2409  a73f8c21-27fc-4672-bd6a-5b326965988f     500.00"
      ]
     },
     "execution_count": 28,
     "metadata": {},
     "output_type": "execute_result"
    }
   ],
   "source": [
    "id_total_sum = df_agg_by_days.groupby('id').agg({'sum':'sum'}).reset_index().rename(columns={'sum':'total_sum'})\n",
    "id_total_sum.sample(3)"
   ]
  },
  {
   "cell_type": "code",
   "execution_count": 29,
   "id": "c844b3a9",
   "metadata": {},
   "outputs": [
    {
     "data": {
      "text/html": [
       "<div>\n",
       "<style scoped>\n",
       "    .dataframe tbody tr th:only-of-type {\n",
       "        vertical-align: middle;\n",
       "    }\n",
       "\n",
       "    .dataframe tbody tr th {\n",
       "        vertical-align: top;\n",
       "    }\n",
       "\n",
       "    .dataframe thead th {\n",
       "        text-align: right;\n",
       "    }\n",
       "</style>\n",
       "<table border=\"1\" class=\"dataframe\">\n",
       "  <thead>\n",
       "    <tr style=\"text-align: right;\">\n",
       "      <th></th>\n",
       "      <th>id</th>\n",
       "      <th>total_sum_lg</th>\n",
       "      <th>total_frequency</th>\n",
       "    </tr>\n",
       "  </thead>\n",
       "  <tbody>\n",
       "    <tr>\n",
       "      <th>2848</th>\n",
       "      <td>c532433b-18ac-4c9d-b1dc-4ac124d2996d</td>\n",
       "      <td>5.30</td>\n",
       "      <td>0.00</td>\n",
       "    </tr>\n",
       "    <tr>\n",
       "      <th>2550</th>\n",
       "      <td>b0fe9a24-d361-4445-b09d-5632538ba10b</td>\n",
       "      <td>6.91</td>\n",
       "      <td>0.00</td>\n",
       "    </tr>\n",
       "    <tr>\n",
       "      <th>3357</th>\n",
       "      <td>ea620740-c812-4c9c-8f6f-5f31b1dea06b</td>\n",
       "      <td>4.61</td>\n",
       "      <td>0.00</td>\n",
       "    </tr>\n",
       "  </tbody>\n",
       "</table>\n",
       "</div>"
      ],
      "text/plain": [
       "                                        id  total_sum_lg  total_frequency\n",
       "2848  c532433b-18ac-4c9d-b1dc-4ac124d2996d          5.30             0.00\n",
       "2550  b0fe9a24-d361-4445-b09d-5632538ba10b          6.91             0.00\n",
       "3357  ea620740-c812-4c9c-8f6f-5f31b1dea06b          4.61             0.00"
      ]
     },
     "execution_count": 29,
     "metadata": {},
     "output_type": "execute_result"
    }
   ],
   "source": [
    "id_total_sum_freq = df_agg_by_days.groupby('id').agg({'sum':(lambda x: np.log(x.sum())),\n",
    "                                                       'payment_date':'count',\n",
    "                                                       'life_time':'sum'}).reset_index().rename(columns={'sum':'total_sum_lg', \n",
    "                                                                                                  'payment_date':'total_count', \n",
    "                                                                                                   'life_time':'total_lt_sum'})\n",
    "\n",
    "id_total_sum_freq['total_frequency'] = np.where(id_total_sum_freq['total_lt_sum'] == 0, 0, \n",
    "                                                 id_total_sum_freq['total_count']/id_total_sum_freq['total_lt_sum'])\n",
    "id_total_sum_freq = id_total_sum_freq.drop(columns=['total_count','total_lt_sum'])\n",
    "id_total_sum_freq.sample(3)"
   ]
  },
  {
   "cell_type": "markdown",
   "id": "33d8fdf5",
   "metadata": {},
   "source": [
    "Нам нужны данные только за первый год лайфтайма каждого пользователя, т.к. модель должна адекватно предсказывать на год вперёд. Поэтому сделаем группировку по пользователям и оставим данные только о тех платежах, которые были совершены пользователями за первый год их сотрудничества с фондом"
   ]
  },
  {
   "cell_type": "code",
   "execution_count": 30,
   "id": "471f2707",
   "metadata": {},
   "outputs": [
    {
     "data": {
      "text/plain": [
       "Index(['id', 'sum', 'is_reccurent', 'last_email_activity', 'payment_date',\n",
       "       'is_woman', 'life_time', 'delta_days_with_first_pay', 'day_of_year',\n",
       "       'life_time_cumsum', 'life_time_cumsum_group', 'is_last_year_pay',\n",
       "       'is_first_year_pay', 'for_fund', 'for_person', 'for_programm',\n",
       "       'no_info_purpose', 'card', 'cash', 'direct_to_account', 'sms',\n",
       "       'foreign', 'moscow', 'no_info_city', 'other_rus_city', 'peterburg'],\n",
       "      dtype='object')"
      ]
     },
     "execution_count": 30,
     "metadata": {},
     "output_type": "execute_result"
    }
   ],
   "source": [
    "df.columns"
   ]
  },
  {
   "cell_type": "code",
   "execution_count": 31,
   "id": "dbd56075",
   "metadata": {},
   "outputs": [
    {
     "data": {
      "text/html": [
       "<div>\n",
       "<style scoped>\n",
       "    .dataframe tbody tr th:only-of-type {\n",
       "        vertical-align: middle;\n",
       "    }\n",
       "\n",
       "    .dataframe tbody tr th {\n",
       "        vertical-align: top;\n",
       "    }\n",
       "\n",
       "    .dataframe thead th {\n",
       "        text-align: right;\n",
       "    }\n",
       "</style>\n",
       "<table border=\"1\" class=\"dataframe\">\n",
       "  <thead>\n",
       "    <tr style=\"text-align: right;\">\n",
       "      <th></th>\n",
       "      <th>id</th>\n",
       "      <th>sum_mean_lg</th>\n",
       "      <th>donat_count</th>\n",
       "      <th>life_time_mean</th>\n",
       "      <th>life_time_sum</th>\n",
       "      <th>is_woman</th>\n",
       "      <th>is_reccurent_mean</th>\n",
       "      <th>for_fund_mean</th>\n",
       "      <th>for_person_mean</th>\n",
       "      <th>for_programm_mean</th>\n",
       "      <th>no_info_purpose_mean</th>\n",
       "      <th>card_mean</th>\n",
       "      <th>cash_mean</th>\n",
       "      <th>direct_to_account_mean</th>\n",
       "      <th>sms_mean</th>\n",
       "      <th>foreign_mean</th>\n",
       "      <th>moscow_mean</th>\n",
       "      <th>peterburg_mean</th>\n",
       "      <th>no_info_city_mean</th>\n",
       "      <th>other_rus_city_mean</th>\n",
       "    </tr>\n",
       "  </thead>\n",
       "  <tbody>\n",
       "    <tr>\n",
       "      <th>1666</th>\n",
       "      <td>75162895-69c7-4aed-84df-9cd915ca9b28</td>\n",
       "      <td>7.31</td>\n",
       "      <td>3</td>\n",
       "      <td>20.67</td>\n",
       "      <td>62</td>\n",
       "      <td>1.00</td>\n",
       "      <td>1.00</td>\n",
       "      <td>1.00</td>\n",
       "      <td>0.00</td>\n",
       "      <td>0.00</td>\n",
       "      <td>0.00</td>\n",
       "      <td>1.00</td>\n",
       "      <td>0</td>\n",
       "      <td>0.00</td>\n",
       "      <td>0.00</td>\n",
       "      <td>0</td>\n",
       "      <td>0</td>\n",
       "      <td>0</td>\n",
       "      <td>1</td>\n",
       "      <td>0</td>\n",
       "    </tr>\n",
       "    <tr>\n",
       "      <th>506</th>\n",
       "      <td>2359c39b-220a-4b7c-85b0-abba8143e706</td>\n",
       "      <td>5.30</td>\n",
       "      <td>1</td>\n",
       "      <td>0.00</td>\n",
       "      <td>0</td>\n",
       "      <td>1.00</td>\n",
       "      <td>0.00</td>\n",
       "      <td>1.00</td>\n",
       "      <td>0.00</td>\n",
       "      <td>0.00</td>\n",
       "      <td>0.00</td>\n",
       "      <td>1.00</td>\n",
       "      <td>0</td>\n",
       "      <td>0.00</td>\n",
       "      <td>0.00</td>\n",
       "      <td>0</td>\n",
       "      <td>0</td>\n",
       "      <td>0</td>\n",
       "      <td>1</td>\n",
       "      <td>0</td>\n",
       "    </tr>\n",
       "    <tr>\n",
       "      <th>866</th>\n",
       "      <td>3d213d6d-0466-44e1-a7ec-ef4214bcb930</td>\n",
       "      <td>8.29</td>\n",
       "      <td>2</td>\n",
       "      <td>14.00</td>\n",
       "      <td>28</td>\n",
       "      <td>1.00</td>\n",
       "      <td>0.50</td>\n",
       "      <td>0.50</td>\n",
       "      <td>0.50</td>\n",
       "      <td>0.00</td>\n",
       "      <td>0.00</td>\n",
       "      <td>1.00</td>\n",
       "      <td>0</td>\n",
       "      <td>0.00</td>\n",
       "      <td>0.00</td>\n",
       "      <td>1</td>\n",
       "      <td>0</td>\n",
       "      <td>0</td>\n",
       "      <td>0</td>\n",
       "      <td>0</td>\n",
       "    </tr>\n",
       "  </tbody>\n",
       "</table>\n",
       "</div>"
      ],
      "text/plain": [
       "                                        id  sum_mean_lg  donat_count  \\\n",
       "1666  75162895-69c7-4aed-84df-9cd915ca9b28         7.31            3   \n",
       "506   2359c39b-220a-4b7c-85b0-abba8143e706         5.30            1   \n",
       "866   3d213d6d-0466-44e1-a7ec-ef4214bcb930         8.29            2   \n",
       "\n",
       "      life_time_mean  life_time_sum  is_woman  is_reccurent_mean  \\\n",
       "1666           20.67             62      1.00               1.00   \n",
       "506             0.00              0      1.00               0.00   \n",
       "866            14.00             28      1.00               0.50   \n",
       "\n",
       "      for_fund_mean  for_person_mean  for_programm_mean  no_info_purpose_mean  \\\n",
       "1666           1.00             0.00               0.00                  0.00   \n",
       "506            1.00             0.00               0.00                  0.00   \n",
       "866            0.50             0.50               0.00                  0.00   \n",
       "\n",
       "      card_mean  cash_mean  direct_to_account_mean  sms_mean  foreign_mean  \\\n",
       "1666       1.00          0                    0.00      0.00             0   \n",
       "506        1.00          0                    0.00      0.00             0   \n",
       "866        1.00          0                    0.00      0.00             1   \n",
       "\n",
       "      moscow_mean  peterburg_mean  no_info_city_mean  other_rus_city_mean  \n",
       "1666            0               0                  1                    0  \n",
       "506             0               0                  1                    0  \n",
       "866             0               0                  0                    0  "
      ]
     },
     "execution_count": 31,
     "metadata": {},
     "output_type": "execute_result"
    }
   ],
   "source": [
    "# Группируем по пользователю, оставим только некоторые признаки\n",
    "df_by_id = df_agg_by_days.query('is_first_year_pay==1').groupby('id').agg({'sum':[(lambda x: np.log(x.sum())),'count'],\n",
    "                                                               'life_time':['mean','sum'],\n",
    "                                                               'is_woman':'first',\n",
    "                                                               'reccurent_mean':'mean',\n",
    "                                                               'for_fund':'mean',\n",
    "                                                               'for_person':'mean',\n",
    "                                                               'for_programm':'mean', \n",
    "                                                               'no_info_purpose':'mean', \n",
    "                                                               'card':'mean', \n",
    "                                                               'cash':'mean',\n",
    "                                                               'direct_to_account':'mean',\n",
    "                                                               'sms':'mean',\n",
    "                                                               'foreign':'mean',\n",
    "                                                               'moscow':'mean',\n",
    "                                                               'peterburg':'mean',\n",
    "                                                               'no_info_city':'mean',\n",
    "                                                               'other_rus_city':'mean'}).set_axis(['sum_mean_lg','donat_count',\n",
    "                                                                                                   'life_time_mean','life_time_sum',\n",
    "                                                                                                   'is_woman',\n",
    "                                                                                                   'is_reccurent_mean',\n",
    "                                                                                                   'for_fund_mean', \n",
    "                                                                                                   'for_person_mean',\n",
    "                                                                                                   'for_programm_mean',\n",
    "                                                                                                   'no_info_purpose_mean', \n",
    "                                                                                                   'card_mean',\n",
    "                                                                                                   'cash_mean',\n",
    "                                                                                                   'direct_to_account_mean',\n",
    "                                                                                                   'sms_mean', \n",
    "                                                                                                   'foreign_mean',\n",
    "                                                                                                   'moscow_mean',\n",
    "                                                                                                   'peterburg_mean',\n",
    "                                                                                                   'no_info_city_mean', \n",
    "                                                                                                   'other_rus_city_mean'],\n",
    "                                                                                                  axis=1, inplace=False).reset_index()\n",
    "df_by_id.sample(3)"
   ]
  },
  {
   "cell_type": "code",
   "execution_count": 32,
   "id": "e601785d",
   "metadata": {},
   "outputs": [
    {
     "data": {
      "text/html": [
       "<div>\n",
       "<style scoped>\n",
       "    .dataframe tbody tr th:only-of-type {\n",
       "        vertical-align: middle;\n",
       "    }\n",
       "\n",
       "    .dataframe tbody tr th {\n",
       "        vertical-align: top;\n",
       "    }\n",
       "\n",
       "    .dataframe thead th {\n",
       "        text-align: right;\n",
       "    }\n",
       "</style>\n",
       "<table border=\"1\" class=\"dataframe\">\n",
       "  <thead>\n",
       "    <tr style=\"text-align: right;\">\n",
       "      <th></th>\n",
       "      <th>id</th>\n",
       "      <th>sum_mean_lg</th>\n",
       "      <th>life_time_mean</th>\n",
       "      <th>is_woman</th>\n",
       "      <th>is_reccurent_mean</th>\n",
       "      <th>for_fund_mean</th>\n",
       "      <th>for_person_mean</th>\n",
       "      <th>for_programm_mean</th>\n",
       "      <th>no_info_purpose_mean</th>\n",
       "      <th>card_mean</th>\n",
       "      <th>cash_mean</th>\n",
       "      <th>direct_to_account_mean</th>\n",
       "      <th>sms_mean</th>\n",
       "      <th>foreign_mean</th>\n",
       "      <th>moscow_mean</th>\n",
       "      <th>peterburg_mean</th>\n",
       "      <th>no_info_city_mean</th>\n",
       "      <th>other_rus_city_mean</th>\n",
       "      <th>frequency</th>\n",
       "    </tr>\n",
       "  </thead>\n",
       "  <tbody>\n",
       "    <tr>\n",
       "      <th>3211</th>\n",
       "      <td>dfb848ca-75f1-470b-a4dd-a7c294923e08</td>\n",
       "      <td>5.70</td>\n",
       "      <td>0.00</td>\n",
       "      <td>0.00</td>\n",
       "      <td>0.00</td>\n",
       "      <td>1.00</td>\n",
       "      <td>0.00</td>\n",
       "      <td>0.00</td>\n",
       "      <td>0.00</td>\n",
       "      <td>1.00</td>\n",
       "      <td>0</td>\n",
       "      <td>0.00</td>\n",
       "      <td>0.00</td>\n",
       "      <td>0</td>\n",
       "      <td>0</td>\n",
       "      <td>0</td>\n",
       "      <td>0</td>\n",
       "      <td>1</td>\n",
       "      <td>0.00</td>\n",
       "    </tr>\n",
       "    <tr>\n",
       "      <th>140</th>\n",
       "      <td>0a7f4b31-e138-4793-a314-27d16d4be8dd</td>\n",
       "      <td>5.70</td>\n",
       "      <td>0.00</td>\n",
       "      <td>1.00</td>\n",
       "      <td>0.00</td>\n",
       "      <td>0.00</td>\n",
       "      <td>1.00</td>\n",
       "      <td>0.00</td>\n",
       "      <td>0.00</td>\n",
       "      <td>1.00</td>\n",
       "      <td>0</td>\n",
       "      <td>0.00</td>\n",
       "      <td>0.00</td>\n",
       "      <td>0</td>\n",
       "      <td>0</td>\n",
       "      <td>1</td>\n",
       "      <td>0</td>\n",
       "      <td>0</td>\n",
       "      <td>0.00</td>\n",
       "    </tr>\n",
       "    <tr>\n",
       "      <th>1628</th>\n",
       "      <td>72f8e5e9-0197-4b4f-a377-447b5b37d037</td>\n",
       "      <td>5.99</td>\n",
       "      <td>9.00</td>\n",
       "      <td>1.00</td>\n",
       "      <td>0.00</td>\n",
       "      <td>0.50</td>\n",
       "      <td>0.00</td>\n",
       "      <td>0.50</td>\n",
       "      <td>0.00</td>\n",
       "      <td>1.00</td>\n",
       "      <td>0</td>\n",
       "      <td>0.00</td>\n",
       "      <td>0.00</td>\n",
       "      <td>0</td>\n",
       "      <td>0</td>\n",
       "      <td>0</td>\n",
       "      <td>1</td>\n",
       "      <td>0</td>\n",
       "      <td>0.11</td>\n",
       "    </tr>\n",
       "  </tbody>\n",
       "</table>\n",
       "</div>"
      ],
      "text/plain": [
       "                                        id  sum_mean_lg  life_time_mean  \\\n",
       "3211  dfb848ca-75f1-470b-a4dd-a7c294923e08         5.70            0.00   \n",
       "140   0a7f4b31-e138-4793-a314-27d16d4be8dd         5.70            0.00   \n",
       "1628  72f8e5e9-0197-4b4f-a377-447b5b37d037         5.99            9.00   \n",
       "\n",
       "      is_woman  is_reccurent_mean  for_fund_mean  for_person_mean  \\\n",
       "3211      0.00               0.00           1.00             0.00   \n",
       "140       1.00               0.00           0.00             1.00   \n",
       "1628      1.00               0.00           0.50             0.00   \n",
       "\n",
       "      for_programm_mean  no_info_purpose_mean  card_mean  cash_mean  \\\n",
       "3211               0.00                  0.00       1.00          0   \n",
       "140                0.00                  0.00       1.00          0   \n",
       "1628               0.50                  0.00       1.00          0   \n",
       "\n",
       "      direct_to_account_mean  sms_mean  foreign_mean  moscow_mean  \\\n",
       "3211                    0.00      0.00             0            0   \n",
       "140                     0.00      0.00             0            0   \n",
       "1628                    0.00      0.00             0            0   \n",
       "\n",
       "      peterburg_mean  no_info_city_mean  other_rus_city_mean  frequency  \n",
       "3211               0                  0                    1       0.00  \n",
       "140                1                  0                    0       0.00  \n",
       "1628               0                  1                    0       0.11  "
      ]
     },
     "execution_count": 32,
     "metadata": {},
     "output_type": "execute_result"
    }
   ],
   "source": [
    "# frequency - частота плптежей - количество платежей на 1 день лайфтайма\n",
    "df_by_id['frequency'] = np.where(df_by_id['life_time_sum']==0,0,\n",
    "                                 df_by_id['donat_count']/df_by_id['life_time_sum'])\n",
    "\n",
    "df_by_id = df_by_id.drop(columns=['donat_count','life_time_sum'])\n",
    "df_by_id.sample(3)"
   ]
  },
  {
   "cell_type": "code",
   "execution_count": 33,
   "id": "258e300c",
   "metadata": {
    "scrolled": true
   },
   "outputs": [
    {
     "data": {
      "text/html": [
       "<div>\n",
       "<style scoped>\n",
       "    .dataframe tbody tr th:only-of-type {\n",
       "        vertical-align: middle;\n",
       "    }\n",
       "\n",
       "    .dataframe tbody tr th {\n",
       "        vertical-align: top;\n",
       "    }\n",
       "\n",
       "    .dataframe thead th {\n",
       "        text-align: right;\n",
       "    }\n",
       "</style>\n",
       "<table border=\"1\" class=\"dataframe\">\n",
       "  <thead>\n",
       "    <tr style=\"text-align: right;\">\n",
       "      <th></th>\n",
       "      <th>sum_mean_lg</th>\n",
       "      <th>life_time_mean</th>\n",
       "      <th>is_woman</th>\n",
       "      <th>is_reccurent_mean</th>\n",
       "      <th>for_fund_mean</th>\n",
       "      <th>for_person_mean</th>\n",
       "      <th>for_programm_mean</th>\n",
       "      <th>no_info_purpose_mean</th>\n",
       "      <th>card_mean</th>\n",
       "      <th>cash_mean</th>\n",
       "      <th>direct_to_account_mean</th>\n",
       "      <th>sms_mean</th>\n",
       "      <th>foreign_mean</th>\n",
       "      <th>moscow_mean</th>\n",
       "      <th>peterburg_mean</th>\n",
       "      <th>no_info_city_mean</th>\n",
       "      <th>other_rus_city_mean</th>\n",
       "      <th>frequency</th>\n",
       "    </tr>\n",
       "  </thead>\n",
       "  <tbody>\n",
       "    <tr>\n",
       "      <th>count</th>\n",
       "      <td>3,683.00</td>\n",
       "      <td>3,683.00</td>\n",
       "      <td>2,431.00</td>\n",
       "      <td>3,683.00</td>\n",
       "      <td>3,683.00</td>\n",
       "      <td>3,683.00</td>\n",
       "      <td>3,683.00</td>\n",
       "      <td>3,683.00</td>\n",
       "      <td>3,683.00</td>\n",
       "      <td>3,683.00</td>\n",
       "      <td>3,683.00</td>\n",
       "      <td>3,683.00</td>\n",
       "      <td>3,683.00</td>\n",
       "      <td>3,683.00</td>\n",
       "      <td>3,683.00</td>\n",
       "      <td>3,683.00</td>\n",
       "      <td>3,683.00</td>\n",
       "      <td>3,683.00</td>\n",
       "    </tr>\n",
       "    <tr>\n",
       "      <th>mean</th>\n",
       "      <td>6.02</td>\n",
       "      <td>3.95</td>\n",
       "      <td>0.77</td>\n",
       "      <td>0.12</td>\n",
       "      <td>0.47</td>\n",
       "      <td>0.23</td>\n",
       "      <td>0.01</td>\n",
       "      <td>0.29</td>\n",
       "      <td>0.53</td>\n",
       "      <td>0.00</td>\n",
       "      <td>0.15</td>\n",
       "      <td>0.32</td>\n",
       "      <td>0.00</td>\n",
       "      <td>0.12</td>\n",
       "      <td>0.02</td>\n",
       "      <td>0.72</td>\n",
       "      <td>0.13</td>\n",
       "      <td>0.02</td>\n",
       "    </tr>\n",
       "    <tr>\n",
       "      <th>std</th>\n",
       "      <td>1.61</td>\n",
       "      <td>8.81</td>\n",
       "      <td>0.42</td>\n",
       "      <td>0.32</td>\n",
       "      <td>0.49</td>\n",
       "      <td>0.42</td>\n",
       "      <td>0.11</td>\n",
       "      <td>0.45</td>\n",
       "      <td>0.50</td>\n",
       "      <td>0.00</td>\n",
       "      <td>0.36</td>\n",
       "      <td>0.46</td>\n",
       "      <td>0.06</td>\n",
       "      <td>0.33</td>\n",
       "      <td>0.14</td>\n",
       "      <td>0.45</td>\n",
       "      <td>0.33</td>\n",
       "      <td>0.13</td>\n",
       "    </tr>\n",
       "    <tr>\n",
       "      <th>min</th>\n",
       "      <td>-4.61</td>\n",
       "      <td>0.00</td>\n",
       "      <td>0.00</td>\n",
       "      <td>0.00</td>\n",
       "      <td>0.00</td>\n",
       "      <td>0.00</td>\n",
       "      <td>0.00</td>\n",
       "      <td>0.00</td>\n",
       "      <td>0.00</td>\n",
       "      <td>0.00</td>\n",
       "      <td>0.00</td>\n",
       "      <td>0.00</td>\n",
       "      <td>0.00</td>\n",
       "      <td>0.00</td>\n",
       "      <td>0.00</td>\n",
       "      <td>0.00</td>\n",
       "      <td>0.00</td>\n",
       "      <td>0.00</td>\n",
       "    </tr>\n",
       "    <tr>\n",
       "      <th>25%</th>\n",
       "      <td>5.01</td>\n",
       "      <td>0.00</td>\n",
       "      <td>1.00</td>\n",
       "      <td>0.00</td>\n",
       "      <td>0.00</td>\n",
       "      <td>0.00</td>\n",
       "      <td>0.00</td>\n",
       "      <td>0.00</td>\n",
       "      <td>0.00</td>\n",
       "      <td>0.00</td>\n",
       "      <td>0.00</td>\n",
       "      <td>0.00</td>\n",
       "      <td>0.00</td>\n",
       "      <td>0.00</td>\n",
       "      <td>0.00</td>\n",
       "      <td>0.00</td>\n",
       "      <td>0.00</td>\n",
       "      <td>0.00</td>\n",
       "    </tr>\n",
       "    <tr>\n",
       "      <th>50%</th>\n",
       "      <td>5.86</td>\n",
       "      <td>0.00</td>\n",
       "      <td>1.00</td>\n",
       "      <td>0.00</td>\n",
       "      <td>0.00</td>\n",
       "      <td>0.00</td>\n",
       "      <td>0.00</td>\n",
       "      <td>0.00</td>\n",
       "      <td>1.00</td>\n",
       "      <td>0.00</td>\n",
       "      <td>0.00</td>\n",
       "      <td>0.00</td>\n",
       "      <td>0.00</td>\n",
       "      <td>0.00</td>\n",
       "      <td>0.00</td>\n",
       "      <td>1.00</td>\n",
       "      <td>0.00</td>\n",
       "      <td>0.00</td>\n",
       "    </tr>\n",
       "    <tr>\n",
       "      <th>75%</th>\n",
       "      <td>6.91</td>\n",
       "      <td>0.00</td>\n",
       "      <td>1.00</td>\n",
       "      <td>0.00</td>\n",
       "      <td>1.00</td>\n",
       "      <td>0.00</td>\n",
       "      <td>0.00</td>\n",
       "      <td>1.00</td>\n",
       "      <td>1.00</td>\n",
       "      <td>0.00</td>\n",
       "      <td>0.00</td>\n",
       "      <td>1.00</td>\n",
       "      <td>0.00</td>\n",
       "      <td>0.00</td>\n",
       "      <td>0.00</td>\n",
       "      <td>1.00</td>\n",
       "      <td>0.00</td>\n",
       "      <td>0.00</td>\n",
       "    </tr>\n",
       "    <tr>\n",
       "      <th>max</th>\n",
       "      <td>14.91</td>\n",
       "      <td>45.00</td>\n",
       "      <td>1.00</td>\n",
       "      <td>1.00</td>\n",
       "      <td>1.00</td>\n",
       "      <td>1.00</td>\n",
       "      <td>1.00</td>\n",
       "      <td>1.00</td>\n",
       "      <td>1.00</td>\n",
       "      <td>0.00</td>\n",
       "      <td>1.00</td>\n",
       "      <td>1.00</td>\n",
       "      <td>1.00</td>\n",
       "      <td>1.00</td>\n",
       "      <td>1.00</td>\n",
       "      <td>1.00</td>\n",
       "      <td>1.00</td>\n",
       "      <td>2.00</td>\n",
       "    </tr>\n",
       "  </tbody>\n",
       "</table>\n",
       "</div>"
      ],
      "text/plain": [
       "       sum_mean_lg  life_time_mean  is_woman  is_reccurent_mean  \\\n",
       "count     3,683.00        3,683.00  2,431.00           3,683.00   \n",
       "mean          6.02            3.95      0.77               0.12   \n",
       "std           1.61            8.81      0.42               0.32   \n",
       "min          -4.61            0.00      0.00               0.00   \n",
       "25%           5.01            0.00      1.00               0.00   \n",
       "50%           5.86            0.00      1.00               0.00   \n",
       "75%           6.91            0.00      1.00               0.00   \n",
       "max          14.91           45.00      1.00               1.00   \n",
       "\n",
       "       for_fund_mean  for_person_mean  for_programm_mean  \\\n",
       "count       3,683.00         3,683.00           3,683.00   \n",
       "mean            0.47             0.23               0.01   \n",
       "std             0.49             0.42               0.11   \n",
       "min             0.00             0.00               0.00   \n",
       "25%             0.00             0.00               0.00   \n",
       "50%             0.00             0.00               0.00   \n",
       "75%             1.00             0.00               0.00   \n",
       "max             1.00             1.00               1.00   \n",
       "\n",
       "       no_info_purpose_mean  card_mean  cash_mean  direct_to_account_mean  \\\n",
       "count              3,683.00   3,683.00   3,683.00                3,683.00   \n",
       "mean                   0.29       0.53       0.00                    0.15   \n",
       "std                    0.45       0.50       0.00                    0.36   \n",
       "min                    0.00       0.00       0.00                    0.00   \n",
       "25%                    0.00       0.00       0.00                    0.00   \n",
       "50%                    0.00       1.00       0.00                    0.00   \n",
       "75%                    1.00       1.00       0.00                    0.00   \n",
       "max                    1.00       1.00       0.00                    1.00   \n",
       "\n",
       "       sms_mean  foreign_mean  moscow_mean  peterburg_mean  no_info_city_mean  \\\n",
       "count  3,683.00      3,683.00     3,683.00        3,683.00           3,683.00   \n",
       "mean       0.32          0.00         0.12            0.02               0.72   \n",
       "std        0.46          0.06         0.33            0.14               0.45   \n",
       "min        0.00          0.00         0.00            0.00               0.00   \n",
       "25%        0.00          0.00         0.00            0.00               0.00   \n",
       "50%        0.00          0.00         0.00            0.00               1.00   \n",
       "75%        1.00          0.00         0.00            0.00               1.00   \n",
       "max        1.00          1.00         1.00            1.00               1.00   \n",
       "\n",
       "       other_rus_city_mean  frequency  \n",
       "count             3,683.00   3,683.00  \n",
       "mean                  0.13       0.02  \n",
       "std                   0.33       0.13  \n",
       "min                   0.00       0.00  \n",
       "25%                   0.00       0.00  \n",
       "50%                   0.00       0.00  \n",
       "75%                   0.00       0.00  \n",
       "max                   1.00       2.00  "
      ]
     },
     "execution_count": 33,
     "metadata": {},
     "output_type": "execute_result"
    }
   ],
   "source": [
    "df_by_id.describe()"
   ]
  },
  {
   "cell_type": "code",
   "execution_count": 34,
   "id": "140a6e96",
   "metadata": {},
   "outputs": [],
   "source": [
    "df_by_id = df_by_id.merge(id_total_sum_freq, on='id', how='left')"
   ]
  },
  {
   "cell_type": "markdown",
   "id": "ec0822aa",
   "metadata": {},
   "source": [
    "Разделим выборку на 2 части:  \n",
    "1) старые пользователи: оставим только тех пользователей, которые не входят в `id_new` (новые пользователи) - это **train data** + **validation data**    \n",
    "2) только новые - это будет **test data**"
   ]
  },
  {
   "cell_type": "code",
   "execution_count": 35,
   "id": "53d9e8eb",
   "metadata": {},
   "outputs": [
    {
     "name": "stdout",
     "output_type": "stream",
     "text": [
      "0\n",
      "True\n"
     ]
    }
   ],
   "source": [
    "df_by_id_1 = df_by_id.query('id not in @id_new')\n",
    "\n",
    "#Проверочка, если всё хорошо то будет 0\n",
    "print(len(df_by_id)-len(df_by_id_1)-len(id_new))\n",
    "\n",
    "df_by_id_2 = df_by_id.query('id in @id_new')\n",
    "\n",
    "#Проверочка, если всё хорошо то будет True\n",
    "print(len(df_by_id_2)==len(id_new))"
   ]
  },
  {
   "cell_type": "markdown",
   "id": "02f780d0",
   "metadata": {},
   "source": [
    "`df_by_id_1` - выборка для обучения  \n",
    "`df_by_id_2` - выборка для тестирования правдивости предсказаний  "
   ]
  },
  {
   "cell_type": "code",
   "execution_count": 36,
   "id": "c74e0688",
   "metadata": {},
   "outputs": [
    {
     "data": {
      "text/plain": [
       "'Несколько строк: '"
      ]
     },
     "metadata": {},
     "output_type": "display_data"
    },
    {
     "data": {
      "text/html": [
       "<div>\n",
       "<style scoped>\n",
       "    .dataframe tbody tr th:only-of-type {\n",
       "        vertical-align: middle;\n",
       "    }\n",
       "\n",
       "    .dataframe tbody tr th {\n",
       "        vertical-align: top;\n",
       "    }\n",
       "\n",
       "    .dataframe thead th {\n",
       "        text-align: right;\n",
       "    }\n",
       "</style>\n",
       "<table border=\"1\" class=\"dataframe\">\n",
       "  <thead>\n",
       "    <tr style=\"text-align: right;\">\n",
       "      <th></th>\n",
       "      <th>id</th>\n",
       "      <th>sum_mean_lg</th>\n",
       "      <th>life_time_mean</th>\n",
       "      <th>is_woman</th>\n",
       "      <th>is_reccurent_mean</th>\n",
       "      <th>for_fund_mean</th>\n",
       "      <th>for_person_mean</th>\n",
       "      <th>for_programm_mean</th>\n",
       "      <th>no_info_purpose_mean</th>\n",
       "      <th>card_mean</th>\n",
       "      <th>...</th>\n",
       "      <th>direct_to_account_mean</th>\n",
       "      <th>sms_mean</th>\n",
       "      <th>foreign_mean</th>\n",
       "      <th>moscow_mean</th>\n",
       "      <th>peterburg_mean</th>\n",
       "      <th>no_info_city_mean</th>\n",
       "      <th>other_rus_city_mean</th>\n",
       "      <th>frequency</th>\n",
       "      <th>total_sum_lg</th>\n",
       "      <th>total_frequency</th>\n",
       "    </tr>\n",
       "  </thead>\n",
       "  <tbody>\n",
       "    <tr>\n",
       "      <th>2518</th>\n",
       "      <td>aee5d8b1-366b-4502-aa60-5f1d704eafeb</td>\n",
       "      <td>5.30</td>\n",
       "      <td>0.00</td>\n",
       "      <td>NaN</td>\n",
       "      <td>0.00</td>\n",
       "      <td>0.00</td>\n",
       "      <td>0.00</td>\n",
       "      <td>0.00</td>\n",
       "      <td>1.00</td>\n",
       "      <td>0.00</td>\n",
       "      <td>...</td>\n",
       "      <td>0.00</td>\n",
       "      <td>1.00</td>\n",
       "      <td>0</td>\n",
       "      <td>0</td>\n",
       "      <td>0</td>\n",
       "      <td>1</td>\n",
       "      <td>0</td>\n",
       "      <td>0.00</td>\n",
       "      <td>5.30</td>\n",
       "      <td>0.00</td>\n",
       "    </tr>\n",
       "    <tr>\n",
       "      <th>3440</th>\n",
       "      <td>efd1e59d-0572-4730-8973-c198e78b59d0</td>\n",
       "      <td>5.30</td>\n",
       "      <td>0.00</td>\n",
       "      <td>1.00</td>\n",
       "      <td>0.00</td>\n",
       "      <td>1.00</td>\n",
       "      <td>0.00</td>\n",
       "      <td>0.00</td>\n",
       "      <td>0.00</td>\n",
       "      <td>1.00</td>\n",
       "      <td>...</td>\n",
       "      <td>0.00</td>\n",
       "      <td>0.00</td>\n",
       "      <td>0</td>\n",
       "      <td>0</td>\n",
       "      <td>0</td>\n",
       "      <td>1</td>\n",
       "      <td>0</td>\n",
       "      <td>0.00</td>\n",
       "      <td>5.30</td>\n",
       "      <td>0.00</td>\n",
       "    </tr>\n",
       "    <tr>\n",
       "      <th>1953</th>\n",
       "      <td>871413fb-fb3f-48ce-9f92-4262675300df</td>\n",
       "      <td>8.52</td>\n",
       "      <td>0.00</td>\n",
       "      <td>0.00</td>\n",
       "      <td>0.00</td>\n",
       "      <td>0.00</td>\n",
       "      <td>1.00</td>\n",
       "      <td>0.00</td>\n",
       "      <td>0.00</td>\n",
       "      <td>1.00</td>\n",
       "      <td>...</td>\n",
       "      <td>0.00</td>\n",
       "      <td>0.00</td>\n",
       "      <td>0</td>\n",
       "      <td>0</td>\n",
       "      <td>0</td>\n",
       "      <td>1</td>\n",
       "      <td>0</td>\n",
       "      <td>0.00</td>\n",
       "      <td>8.52</td>\n",
       "      <td>0.00</td>\n",
       "    </tr>\n",
       "  </tbody>\n",
       "</table>\n",
       "<p>3 rows × 21 columns</p>\n",
       "</div>"
      ],
      "text/plain": [
       "                                        id  sum_mean_lg  life_time_mean  \\\n",
       "2518  aee5d8b1-366b-4502-aa60-5f1d704eafeb         5.30            0.00   \n",
       "3440  efd1e59d-0572-4730-8973-c198e78b59d0         5.30            0.00   \n",
       "1953  871413fb-fb3f-48ce-9f92-4262675300df         8.52            0.00   \n",
       "\n",
       "      is_woman  is_reccurent_mean  for_fund_mean  for_person_mean  \\\n",
       "2518       NaN               0.00           0.00             0.00   \n",
       "3440      1.00               0.00           1.00             0.00   \n",
       "1953      0.00               0.00           0.00             1.00   \n",
       "\n",
       "      for_programm_mean  no_info_purpose_mean  card_mean  ...  \\\n",
       "2518               0.00                  1.00       0.00  ...   \n",
       "3440               0.00                  0.00       1.00  ...   \n",
       "1953               0.00                  0.00       1.00  ...   \n",
       "\n",
       "      direct_to_account_mean  sms_mean  foreign_mean  moscow_mean  \\\n",
       "2518                    0.00      1.00             0            0   \n",
       "3440                    0.00      0.00             0            0   \n",
       "1953                    0.00      0.00             0            0   \n",
       "\n",
       "      peterburg_mean  no_info_city_mean  other_rus_city_mean  frequency  \\\n",
       "2518               0                  1                    0       0.00   \n",
       "3440               0                  1                    0       0.00   \n",
       "1953               0                  1                    0       0.00   \n",
       "\n",
       "      total_sum_lg  total_frequency  \n",
       "2518          5.30             0.00  \n",
       "3440          5.30             0.00  \n",
       "1953          8.52             0.00  \n",
       "\n",
       "[3 rows x 21 columns]"
      ]
     },
     "metadata": {},
     "output_type": "display_data"
    },
    {
     "data": {
      "text/plain": [
       "'Общая информация: '"
      ]
     },
     "metadata": {},
     "output_type": "display_data"
    },
    {
     "name": "stdout",
     "output_type": "stream",
     "text": [
      "<class 'pandas.core.frame.DataFrame'>\n",
      "Int64Index: 3296 entries, 0 to 3682\n",
      "Data columns (total 21 columns):\n",
      " #   Column                  Non-Null Count  Dtype  \n",
      "---  ------                  --------------  -----  \n",
      " 0   id                      3296 non-null   object \n",
      " 1   sum_mean_lg             3296 non-null   float64\n",
      " 2   life_time_mean          3296 non-null   float64\n",
      " 3   is_woman                2131 non-null   float64\n",
      " 4   is_reccurent_mean       3296 non-null   float64\n",
      " 5   for_fund_mean           3296 non-null   float64\n",
      " 6   for_person_mean         3296 non-null   float64\n",
      " 7   for_programm_mean       3296 non-null   float64\n",
      " 8   no_info_purpose_mean    3296 non-null   float64\n",
      " 9   card_mean               3296 non-null   float64\n",
      " 10  cash_mean               3296 non-null   uint8  \n",
      " 11  direct_to_account_mean  3296 non-null   float64\n",
      " 12  sms_mean                3296 non-null   float64\n",
      " 13  foreign_mean            3296 non-null   uint8  \n",
      " 14  moscow_mean             3296 non-null   uint8  \n",
      " 15  peterburg_mean          3296 non-null   uint8  \n",
      " 16  no_info_city_mean       3296 non-null   uint8  \n",
      " 17  other_rus_city_mean     3296 non-null   uint8  \n",
      " 18  frequency               3296 non-null   float64\n",
      " 19  total_sum_lg            3296 non-null   float64\n",
      " 20  total_frequency         3296 non-null   float64\n",
      "dtypes: float64(14), object(1), uint8(6)\n",
      "memory usage: 431.3+ KB\n"
     ]
    },
    {
     "data": {
      "text/plain": [
       "'Дубликаты: '"
      ]
     },
     "metadata": {},
     "output_type": "display_data"
    },
    {
     "data": {
      "text/plain": [
       "0"
      ]
     },
     "metadata": {},
     "output_type": "display_data"
    },
    {
     "data": {
      "text/plain": [
       "'Уникальные значения в колонке id и их количество: '"
      ]
     },
     "metadata": {},
     "output_type": "display_data"
    },
    {
     "data": {
      "text/plain": [
       "91501122-c292-4657-b524-63184fc02f55    1\n",
       "02af4091-407e-44e0-b547-eac79c0ba1e4    1\n",
       "1ab8ff80-1582-46ff-9c17-50b53d00744e    1\n",
       "56611f40-1fd4-42ce-95dc-36670d4f0b8a    1\n",
       "ab212950-b307-432d-a06f-825f0815ba83    1\n",
       "                                       ..\n",
       "05354f3c-0487-46f3-85ad-fb7cfc665bda    1\n",
       "160b2119-932c-4745-8a35-847f676318bf    1\n",
       "b9525ea2-fbf9-4f38-9b5d-4b8c8be91a18    1\n",
       "14e266cf-bfaf-4413-853a-a59f0a6e48d4    1\n",
       "536d1f48-eaf0-4ca0-9893-a1614ad1a4a8    1\n",
       "Name: id, Length: 3296, dtype: int64"
      ]
     },
     "metadata": {},
     "output_type": "display_data"
    },
    {
     "data": {
      "text/plain": [
       "'Уникальные значения в колонке sum_mean_lg и их количество: '"
      ]
     },
     "metadata": {},
     "output_type": "display_data"
    },
    {
     "data": {
      "text/plain": [
       "4.61    584\n",
       "6.21    438\n",
       "5.70    380\n",
       "5.30    303\n",
       "6.91    276\n",
       "       ... \n",
       "5.35      1\n",
       "4.08      1\n",
       "2.61      1\n",
       "3.22      1\n",
       "9.84      1\n",
       "Name: sum_mean_lg, Length: 247, dtype: int64"
      ]
     },
     "metadata": {},
     "output_type": "display_data"
    },
    {
     "data": {
      "text/plain": [
       "'Уникальные значения в колонке life_time_mean и их количество: '"
      ]
     },
     "metadata": {},
     "output_type": "display_data"
    },
    {
     "data": {
      "text/plain": [
       "0.00     2643\n",
       "20.33     223\n",
       "22.50      49\n",
       "20.67      41\n",
       "20.00      18\n",
       "         ... \n",
       "13.60       1\n",
       "12.67       1\n",
       "17.00       1\n",
       "31.50       1\n",
       "8.70        1\n",
       "Name: life_time_mean, Length: 131, dtype: int64"
      ]
     },
     "metadata": {},
     "output_type": "display_data"
    },
    {
     "data": {
      "text/plain": [
       "'Уникальные значения в колонке is_woman и их количество: '"
      ]
     },
     "metadata": {},
     "output_type": "display_data"
    },
    {
     "data": {
      "text/plain": [
       "1.00    1680\n",
       "NaN     1165\n",
       "0.00     451\n",
       "Name: is_woman, dtype: int64"
      ]
     },
     "metadata": {},
     "output_type": "display_data"
    },
    {
     "data": {
      "text/plain": [
       "'Уникальные значения в колонке is_reccurent_mean и их количество: '"
      ]
     },
     "metadata": {},
     "output_type": "display_data"
    },
    {
     "data": {
      "text/plain": [
       "0.00    2880\n",
       "1.00     378\n",
       "0.75      11\n",
       "0.83       8\n",
       "0.50       6\n",
       "0.67       4\n",
       "0.88       3\n",
       "0.80       2\n",
       "0.33       1\n",
       "0.29       1\n",
       "0.62       1\n",
       "0.25       1\n",
       "Name: is_reccurent_mean, dtype: int64"
      ]
     },
     "metadata": {},
     "output_type": "display_data"
    },
    {
     "data": {
      "text/plain": [
       "'Уникальные значения в колонке for_fund_mean и их количество: '"
      ]
     },
     "metadata": {},
     "output_type": "display_data"
    },
    {
     "data": {
      "text/plain": [
       "0.00    1774\n",
       "1.00    1448\n",
       "0.50      46\n",
       "0.67       4\n",
       "0.83       4\n",
       "0.88       3\n",
       "0.33       3\n",
       "0.75       3\n",
       "0.20       2\n",
       "0.25       2\n",
       "0.17       2\n",
       "0.90       1\n",
       "0.80       1\n",
       "0.78       1\n",
       "0.11       1\n",
       "0.12       1\n",
       "Name: for_fund_mean, dtype: int64"
      ]
     },
     "metadata": {},
     "output_type": "display_data"
    },
    {
     "data": {
      "text/plain": [
       "'Уникальные значения в колонке for_person_mean и их количество: '"
      ]
     },
     "metadata": {},
     "output_type": "display_data"
    },
    {
     "data": {
      "text/plain": [
       "0.00    2552\n",
       "1.00     681\n",
       "0.50      37\n",
       "0.25       5\n",
       "0.33       4\n",
       "0.17       4\n",
       "0.12       3\n",
       "0.67       2\n",
       "0.80       2\n",
       "0.22       1\n",
       "0.83       1\n",
       "0.20       1\n",
       "0.88       1\n",
       "0.83       1\n",
       "0.75       1\n",
       "Name: for_person_mean, dtype: int64"
      ]
     },
     "metadata": {},
     "output_type": "display_data"
    },
    {
     "data": {
      "text/plain": [
       "'Уникальные значения в колонке for_programm_mean и их количество: '"
      ]
     },
     "metadata": {},
     "output_type": "display_data"
    },
    {
     "data": {
      "text/plain": [
       "0.00    3247\n",
       "1.00      44\n",
       "0.75       2\n",
       "0.50       2\n",
       "0.67       1\n",
       "Name: for_programm_mean, dtype: int64"
      ]
     },
     "metadata": {},
     "output_type": "display_data"
    },
    {
     "data": {
      "text/plain": [
       "'Уникальные значения в колонке no_info_purpose_mean и их количество: '"
      ]
     },
     "metadata": {},
     "output_type": "display_data"
    },
    {
     "data": {
      "text/plain": [
       "0.00    2238\n",
       "1.00    1046\n",
       "0.50       9\n",
       "0.10       1\n",
       "0.89       1\n",
       "0.75       1\n",
       "Name: no_info_purpose_mean, dtype: int64"
      ]
     },
     "metadata": {},
     "output_type": "display_data"
    },
    {
     "data": {
      "text/plain": [
       "'Уникальные значения в колонке card_mean и их количество: '"
      ]
     },
     "metadata": {},
     "output_type": "display_data"
    },
    {
     "data": {
      "text/plain": [
       "1.00    1775\n",
       "0.00    1504\n",
       "0.50      10\n",
       "0.92       2\n",
       "0.80       1\n",
       "0.11       1\n",
       "0.83       1\n",
       "0.75       1\n",
       "0.25       1\n",
       "Name: card_mean, dtype: int64"
      ]
     },
     "metadata": {},
     "output_type": "display_data"
    },
    {
     "data": {
      "text/plain": [
       "'Уникальные значения в колонке cash_mean и их количество: '"
      ]
     },
     "metadata": {},
     "output_type": "display_data"
    },
    {
     "data": {
      "text/plain": [
       "0    3296\n",
       "Name: cash_mean, dtype: int64"
      ]
     },
     "metadata": {},
     "output_type": "display_data"
    },
    {
     "data": {
      "text/plain": [
       "'Уникальные значения в колонке direct_to_account_mean и их количество: '"
      ]
     },
     "metadata": {},
     "output_type": "display_data"
    },
    {
     "data": {
      "text/plain": [
       "0.00    2926\n",
       "1.00     369\n",
       "0.50       1\n",
       "Name: direct_to_account_mean, dtype: int64"
      ]
     },
     "metadata": {},
     "output_type": "display_data"
    },
    {
     "data": {
      "text/plain": [
       "'Уникальные значения в колонке sms_mean и их количество: '"
      ]
     },
     "metadata": {},
     "output_type": "display_data"
    },
    {
     "data": {
      "text/plain": [
       "0.00    2145\n",
       "1.00    1135\n",
       "0.50       9\n",
       "0.08       2\n",
       "0.89       1\n",
       "0.20       1\n",
       "0.75       1\n",
       "0.25       1\n",
       "0.17       1\n",
       "Name: sms_mean, dtype: int64"
      ]
     },
     "metadata": {},
     "output_type": "display_data"
    },
    {
     "data": {
      "text/plain": [
       "'Уникальные значения в колонке foreign_mean и их количество: '"
      ]
     },
     "metadata": {},
     "output_type": "display_data"
    },
    {
     "data": {
      "text/plain": [
       "0    3285\n",
       "1      11\n",
       "Name: foreign_mean, dtype: int64"
      ]
     },
     "metadata": {},
     "output_type": "display_data"
    },
    {
     "data": {
      "text/plain": [
       "'Уникальные значения в колонке moscow_mean и их количество: '"
      ]
     },
     "metadata": {},
     "output_type": "display_data"
    },
    {
     "data": {
      "text/plain": [
       "0    2924\n",
       "1     372\n",
       "Name: moscow_mean, dtype: int64"
      ]
     },
     "metadata": {},
     "output_type": "display_data"
    },
    {
     "data": {
      "text/plain": [
       "'Уникальные значения в колонке peterburg_mean и их количество: '"
      ]
     },
     "metadata": {},
     "output_type": "display_data"
    },
    {
     "data": {
      "text/plain": [
       "0    3231\n",
       "1      65\n",
       "Name: peterburg_mean, dtype: int64"
      ]
     },
     "metadata": {},
     "output_type": "display_data"
    },
    {
     "data": {
      "text/plain": [
       "'Уникальные значения в колонке no_info_city_mean и их количество: '"
      ]
     },
     "metadata": {},
     "output_type": "display_data"
    },
    {
     "data": {
      "text/plain": [
       "1    2468\n",
       "0     828\n",
       "Name: no_info_city_mean, dtype: int64"
      ]
     },
     "metadata": {},
     "output_type": "display_data"
    },
    {
     "data": {
      "text/plain": [
       "'Уникальные значения в колонке other_rus_city_mean и их количество: '"
      ]
     },
     "metadata": {},
     "output_type": "display_data"
    },
    {
     "data": {
      "text/plain": [
       "0    2916\n",
       "1     380\n",
       "Name: other_rus_city_mean, dtype: int64"
      ]
     },
     "metadata": {},
     "output_type": "display_data"
    },
    {
     "data": {
      "text/plain": [
       "'Уникальные значения в колонке frequency и их количество: '"
      ]
     },
     "metadata": {},
     "output_type": "display_data"
    },
    {
     "data": {
      "text/plain": [
       "0.00    2643\n",
       "0.05     223\n",
       "0.04      49\n",
       "0.05      41\n",
       "0.05      18\n",
       "        ... \n",
       "0.04       1\n",
       "0.32       1\n",
       "0.07       1\n",
       "0.09       1\n",
       "0.08       1\n",
       "Name: frequency, Length: 131, dtype: int64"
      ]
     },
     "metadata": {},
     "output_type": "display_data"
    },
    {
     "data": {
      "text/plain": [
       "'Уникальные значения в колонке total_sum_lg и их количество: '"
      ]
     },
     "metadata": {},
     "output_type": "display_data"
    },
    {
     "data": {
      "text/plain": [
       "4.61     553\n",
       "6.21     399\n",
       "5.70     310\n",
       "5.30     291\n",
       "6.91     236\n",
       "        ... \n",
       "10.43      1\n",
       "4.89       1\n",
       "10.20      1\n",
       "4.90       1\n",
       "5.71       1\n",
       "Name: total_sum_lg, Length: 400, dtype: int64"
      ]
     },
     "metadata": {},
     "output_type": "display_data"
    },
    {
     "data": {
      "text/plain": [
       "'Уникальные значения в колонке total_frequency и их количество: '"
      ]
     },
     "metadata": {},
     "output_type": "display_data"
    },
    {
     "data": {
      "text/plain": [
       "0.00    2408\n",
       "0.07       9\n",
       "0.04       9\n",
       "0.05       9\n",
       "0.04       9\n",
       "        ... \n",
       "0.03       1\n",
       "0.01       1\n",
       "0.01       1\n",
       "0.01       1\n",
       "0.02       1\n",
       "Name: total_frequency, Length: 646, dtype: int64"
      ]
     },
     "metadata": {},
     "output_type": "display_data"
    }
   ],
   "source": [
    "date_first_glampse(df_by_id_1)"
   ]
  },
  {
   "cell_type": "code",
   "execution_count": 37,
   "id": "faf95b91",
   "metadata": {},
   "outputs": [
    {
     "data": {
      "text/html": [
       "<div>\n",
       "<style scoped>\n",
       "    .dataframe tbody tr th:only-of-type {\n",
       "        vertical-align: middle;\n",
       "    }\n",
       "\n",
       "    .dataframe tbody tr th {\n",
       "        vertical-align: top;\n",
       "    }\n",
       "\n",
       "    .dataframe thead th {\n",
       "        text-align: right;\n",
       "    }\n",
       "</style>\n",
       "<table border=\"1\" class=\"dataframe\">\n",
       "  <thead>\n",
       "    <tr style=\"text-align: right;\">\n",
       "      <th></th>\n",
       "      <th>sum_mean_lg</th>\n",
       "      <th>life_time_mean</th>\n",
       "      <th>is_woman</th>\n",
       "      <th>is_reccurent_mean</th>\n",
       "      <th>for_fund_mean</th>\n",
       "      <th>for_person_mean</th>\n",
       "      <th>for_programm_mean</th>\n",
       "      <th>no_info_purpose_mean</th>\n",
       "      <th>card_mean</th>\n",
       "      <th>cash_mean</th>\n",
       "      <th>direct_to_account_mean</th>\n",
       "      <th>sms_mean</th>\n",
       "      <th>foreign_mean</th>\n",
       "      <th>moscow_mean</th>\n",
       "      <th>peterburg_mean</th>\n",
       "      <th>no_info_city_mean</th>\n",
       "      <th>other_rus_city_mean</th>\n",
       "      <th>frequency</th>\n",
       "      <th>total_sum_lg</th>\n",
       "      <th>total_frequency</th>\n",
       "    </tr>\n",
       "  </thead>\n",
       "  <tbody>\n",
       "    <tr>\n",
       "      <th>count</th>\n",
       "      <td>3,296.00</td>\n",
       "      <td>3,296.00</td>\n",
       "      <td>2,131.00</td>\n",
       "      <td>3,296.00</td>\n",
       "      <td>3,296.00</td>\n",
       "      <td>3,296.00</td>\n",
       "      <td>3,296.00</td>\n",
       "      <td>3,296.00</td>\n",
       "      <td>3,296.00</td>\n",
       "      <td>3,296.00</td>\n",
       "      <td>3,296.00</td>\n",
       "      <td>3,296.00</td>\n",
       "      <td>3,296.00</td>\n",
       "      <td>3,296.00</td>\n",
       "      <td>3,296.00</td>\n",
       "      <td>3,296.00</td>\n",
       "      <td>3,296.00</td>\n",
       "      <td>3,296.00</td>\n",
       "      <td>3,296.00</td>\n",
       "      <td>3,296.00</td>\n",
       "    </tr>\n",
       "    <tr>\n",
       "      <th>mean</th>\n",
       "      <td>6.02</td>\n",
       "      <td>4.02</td>\n",
       "      <td>0.79</td>\n",
       "      <td>0.12</td>\n",
       "      <td>0.45</td>\n",
       "      <td>0.22</td>\n",
       "      <td>0.01</td>\n",
       "      <td>0.32</td>\n",
       "      <td>0.54</td>\n",
       "      <td>0.00</td>\n",
       "      <td>0.11</td>\n",
       "      <td>0.35</td>\n",
       "      <td>0.00</td>\n",
       "      <td>0.11</td>\n",
       "      <td>0.02</td>\n",
       "      <td>0.75</td>\n",
       "      <td>0.12</td>\n",
       "      <td>0.02</td>\n",
       "      <td>6.35</td>\n",
       "      <td>0.02</td>\n",
       "    </tr>\n",
       "    <tr>\n",
       "      <th>std</th>\n",
       "      <td>1.56</td>\n",
       "      <td>8.91</td>\n",
       "      <td>0.41</td>\n",
       "      <td>0.32</td>\n",
       "      <td>0.49</td>\n",
       "      <td>0.41</td>\n",
       "      <td>0.12</td>\n",
       "      <td>0.47</td>\n",
       "      <td>0.50</td>\n",
       "      <td>0.00</td>\n",
       "      <td>0.32</td>\n",
       "      <td>0.47</td>\n",
       "      <td>0.06</td>\n",
       "      <td>0.32</td>\n",
       "      <td>0.14</td>\n",
       "      <td>0.43</td>\n",
       "      <td>0.32</td>\n",
       "      <td>0.13</td>\n",
       "      <td>1.87</td>\n",
       "      <td>0.11</td>\n",
       "    </tr>\n",
       "    <tr>\n",
       "      <th>min</th>\n",
       "      <td>-4.61</td>\n",
       "      <td>0.00</td>\n",
       "      <td>0.00</td>\n",
       "      <td>0.00</td>\n",
       "      <td>0.00</td>\n",
       "      <td>0.00</td>\n",
       "      <td>0.00</td>\n",
       "      <td>0.00</td>\n",
       "      <td>0.00</td>\n",
       "      <td>0.00</td>\n",
       "      <td>0.00</td>\n",
       "      <td>0.00</td>\n",
       "      <td>0.00</td>\n",
       "      <td>0.00</td>\n",
       "      <td>0.00</td>\n",
       "      <td>0.00</td>\n",
       "      <td>0.00</td>\n",
       "      <td>0.00</td>\n",
       "      <td>-4.61</td>\n",
       "      <td>0.00</td>\n",
       "    </tr>\n",
       "    <tr>\n",
       "      <th>25%</th>\n",
       "      <td>5.01</td>\n",
       "      <td>0.00</td>\n",
       "      <td>1.00</td>\n",
       "      <td>0.00</td>\n",
       "      <td>0.00</td>\n",
       "      <td>0.00</td>\n",
       "      <td>0.00</td>\n",
       "      <td>0.00</td>\n",
       "      <td>0.00</td>\n",
       "      <td>0.00</td>\n",
       "      <td>0.00</td>\n",
       "      <td>0.00</td>\n",
       "      <td>0.00</td>\n",
       "      <td>0.00</td>\n",
       "      <td>0.00</td>\n",
       "      <td>0.00</td>\n",
       "      <td>0.00</td>\n",
       "      <td>0.00</td>\n",
       "      <td>5.01</td>\n",
       "      <td>0.00</td>\n",
       "    </tr>\n",
       "    <tr>\n",
       "      <th>50%</th>\n",
       "      <td>5.86</td>\n",
       "      <td>0.00</td>\n",
       "      <td>1.00</td>\n",
       "      <td>0.00</td>\n",
       "      <td>0.00</td>\n",
       "      <td>0.00</td>\n",
       "      <td>0.00</td>\n",
       "      <td>0.00</td>\n",
       "      <td>1.00</td>\n",
       "      <td>0.00</td>\n",
       "      <td>0.00</td>\n",
       "      <td>0.00</td>\n",
       "      <td>0.00</td>\n",
       "      <td>0.00</td>\n",
       "      <td>0.00</td>\n",
       "      <td>1.00</td>\n",
       "      <td>0.00</td>\n",
       "      <td>0.00</td>\n",
       "      <td>6.21</td>\n",
       "      <td>0.00</td>\n",
       "    </tr>\n",
       "    <tr>\n",
       "      <th>75%</th>\n",
       "      <td>6.91</td>\n",
       "      <td>0.00</td>\n",
       "      <td>1.00</td>\n",
       "      <td>0.00</td>\n",
       "      <td>1.00</td>\n",
       "      <td>0.00</td>\n",
       "      <td>0.00</td>\n",
       "      <td>1.00</td>\n",
       "      <td>1.00</td>\n",
       "      <td>0.00</td>\n",
       "      <td>0.00</td>\n",
       "      <td>1.00</td>\n",
       "      <td>0.00</td>\n",
       "      <td>0.00</td>\n",
       "      <td>0.00</td>\n",
       "      <td>1.00</td>\n",
       "      <td>0.00</td>\n",
       "      <td>0.00</td>\n",
       "      <td>7.31</td>\n",
       "      <td>0.00</td>\n",
       "    </tr>\n",
       "    <tr>\n",
       "      <th>max</th>\n",
       "      <td>14.91</td>\n",
       "      <td>45.00</td>\n",
       "      <td>1.00</td>\n",
       "      <td>1.00</td>\n",
       "      <td>1.00</td>\n",
       "      <td>1.00</td>\n",
       "      <td>1.00</td>\n",
       "      <td>1.00</td>\n",
       "      <td>1.00</td>\n",
       "      <td>0.00</td>\n",
       "      <td>1.00</td>\n",
       "      <td>1.00</td>\n",
       "      <td>1.00</td>\n",
       "      <td>1.00</td>\n",
       "      <td>1.00</td>\n",
       "      <td>1.00</td>\n",
       "      <td>1.00</td>\n",
       "      <td>2.00</td>\n",
       "      <td>14.91</td>\n",
       "      <td>2.00</td>\n",
       "    </tr>\n",
       "  </tbody>\n",
       "</table>\n",
       "</div>"
      ],
      "text/plain": [
       "       sum_mean_lg  life_time_mean  is_woman  is_reccurent_mean  \\\n",
       "count     3,296.00        3,296.00  2,131.00           3,296.00   \n",
       "mean          6.02            4.02      0.79               0.12   \n",
       "std           1.56            8.91      0.41               0.32   \n",
       "min          -4.61            0.00      0.00               0.00   \n",
       "25%           5.01            0.00      1.00               0.00   \n",
       "50%           5.86            0.00      1.00               0.00   \n",
       "75%           6.91            0.00      1.00               0.00   \n",
       "max          14.91           45.00      1.00               1.00   \n",
       "\n",
       "       for_fund_mean  for_person_mean  for_programm_mean  \\\n",
       "count       3,296.00         3,296.00           3,296.00   \n",
       "mean            0.45             0.22               0.01   \n",
       "std             0.49             0.41               0.12   \n",
       "min             0.00             0.00               0.00   \n",
       "25%             0.00             0.00               0.00   \n",
       "50%             0.00             0.00               0.00   \n",
       "75%             1.00             0.00               0.00   \n",
       "max             1.00             1.00               1.00   \n",
       "\n",
       "       no_info_purpose_mean  card_mean  cash_mean  direct_to_account_mean  \\\n",
       "count              3,296.00   3,296.00   3,296.00                3,296.00   \n",
       "mean                   0.32       0.54       0.00                    0.11   \n",
       "std                    0.47       0.50       0.00                    0.32   \n",
       "min                    0.00       0.00       0.00                    0.00   \n",
       "25%                    0.00       0.00       0.00                    0.00   \n",
       "50%                    0.00       1.00       0.00                    0.00   \n",
       "75%                    1.00       1.00       0.00                    0.00   \n",
       "max                    1.00       1.00       0.00                    1.00   \n",
       "\n",
       "       sms_mean  foreign_mean  moscow_mean  peterburg_mean  no_info_city_mean  \\\n",
       "count  3,296.00      3,296.00     3,296.00        3,296.00           3,296.00   \n",
       "mean       0.35          0.00         0.11            0.02               0.75   \n",
       "std        0.47          0.06         0.32            0.14               0.43   \n",
       "min        0.00          0.00         0.00            0.00               0.00   \n",
       "25%        0.00          0.00         0.00            0.00               0.00   \n",
       "50%        0.00          0.00         0.00            0.00               1.00   \n",
       "75%        1.00          0.00         0.00            0.00               1.00   \n",
       "max        1.00          1.00         1.00            1.00               1.00   \n",
       "\n",
       "       other_rus_city_mean  frequency  total_sum_lg  total_frequency  \n",
       "count             3,296.00   3,296.00      3,296.00         3,296.00  \n",
       "mean                  0.12       0.02          6.35             0.02  \n",
       "std                   0.32       0.13          1.87             0.11  \n",
       "min                   0.00       0.00         -4.61             0.00  \n",
       "25%                   0.00       0.00          5.01             0.00  \n",
       "50%                   0.00       0.00          6.21             0.00  \n",
       "75%                   0.00       0.00          7.31             0.00  \n",
       "max                   1.00       2.00         14.91             2.00  "
      ]
     },
     "execution_count": 37,
     "metadata": {},
     "output_type": "execute_result"
    }
   ],
   "source": [
    "df_by_id_1.describe()"
   ]
  },
  {
   "cell_type": "code",
   "execution_count": 38,
   "id": "3e7cd63c",
   "metadata": {},
   "outputs": [
    {
     "data": {
      "text/plain": [
       "'life_time_mean'"
      ]
     },
     "execution_count": 38,
     "metadata": {},
     "output_type": "execute_result"
    }
   ],
   "source": [
    "df_by_id_1.columns.values[2]"
   ]
  },
  {
   "cell_type": "code",
   "execution_count": 39,
   "id": "ab30d636",
   "metadata": {},
   "outputs": [],
   "source": [
    "def show_me_comparison(df1, df2, col1,col2, name1,name2):\n",
    "    fig, axes = plt.subplots(1,2,figsize=(10, 4), sharey=True)\n",
    "    \n",
    "    sns.lineplot(data=df1, x=col1, y=col2, ax=axes[0]).set(title=name1)\n",
    "    sns.lineplot(data=df2, x=col1, y=col2, ax=axes[1]).set(title=name2)\n",
    "    \n",
    "    plt.tight_layout()\n",
    "    plt.show()"
   ]
  },
  {
   "cell_type": "code",
   "execution_count": 40,
   "id": "7f7bc048",
   "metadata": {
    "scrolled": true
   },
   "outputs": [
    {
     "data": {
      "image/png": "[encoded data removed]",
      "text/plain": [
       "<Figure size 720x288 with 2 Axes>"
      ]
     },
     "metadata": {
      "needs_background": "light"
     },
     "output_type": "display_data"
    },
    {
     "data": {
      "image/png": "[encoded data removed]",
      "text/plain": [
       "<Figure size 720x288 with 2 Axes>"
      ]
     },
     "metadata": {
      "needs_background": "light"
     },
     "output_type": "display_data"
    },
    {
     "data": {
      "image/png": "[encoded data removed]",
      "text/plain": [
       "<Figure size 720x288 with 2 Axes>"
      ]
     },
     "metadata": {
      "needs_background": "light"
     },
     "output_type": "display_data"
    },
    {
     "data": {
      "image/png": "[encoded data removed]",
      "text/plain": [
       "<Figure size 720x288 with 2 Axes>"
      ]
     },
     "metadata": {
      "needs_background": "light"
     },
     "output_type": "display_data"
    },
    {
     "data": {
      "image/png": "[encoded data removed]",
      "text/plain": [
       "<Figure size 720x288 with 2 Axes>"
      ]
     },
     "metadata": {
      "needs_background": "light"
     },
     "output_type": "display_data"
    }
   ],
   "source": [
    "for col in ['sum_mean_lg','frequency','life_time_mean','is_woman','is_reccurent_mean']:\n",
    "    show_me_comparison(df_by_id_1, df_by_id_2, col, 'total_sum_lg', 'обучающая', 'тестовая')"
   ]
  },
  {
   "cell_type": "code",
   "execution_count": 41,
   "id": "0dc84ecf",
   "metadata": {
    "scrolled": true
   },
   "outputs": [
    {
     "data": {
      "image/png": "[encoded data removed]",
      "text/plain": [
       "<Figure size 720x288 with 2 Axes>"
      ]
     },
     "metadata": {
      "needs_background": "light"
     },
     "output_type": "display_data"
    },
    {
     "data": {
      "image/png": "[encoded data removed]",
      "text/plain": [
       "<Figure size 720x288 with 2 Axes>"
      ]
     },
     "metadata": {
      "needs_background": "light"
     },
     "output_type": "display_data"
    },
    {
     "data": {
      "image/png": "[encoded data removed]",
      "text/plain": [
       "<Figure size 720x288 with 2 Axes>"
      ]
     },
     "metadata": {
      "needs_background": "light"
     },
     "output_type": "display_data"
    },
    {
     "data": {
      "image/png": "[encoded data removed]",
      "text/plain": [
       "<Figure size 720x288 with 2 Axes>"
      ]
     },
     "metadata": {
      "needs_background": "light"
     },
     "output_type": "display_data"
    },
    {
     "data": {
      "image/png": "[encoded data removed]",
      "text/plain": [
       "<Figure size 720x288 with 2 Axes>"
      ]
     },
     "metadata": {
      "needs_background": "light"
     },
     "output_type": "display_data"
    }
   ],
   "source": [
    "for col in ['sum_mean_lg','frequency','life_time_mean','is_woman','is_reccurent_mean']:\n",
    "    show_me_comparison(df_by_id_1, df_by_id_2, col, 'total_frequency', 'обучающая', 'тестовая')\n",
    "    plt.show()"
   ]
  },
  {
   "cell_type": "markdown",
   "id": "f499b98b",
   "metadata": {},
   "source": [
    "# МЛ"
   ]
  },
  {
   "cell_type": "markdown",
   "id": "513f5310",
   "metadata": {},
   "source": [
    "## План МЛ:\n",
    "  \n",
    "Данные:\n",
    "\n",
    "Т.к. в признаке пола у нас много пропусков попробуем сначала удалить этот признак, а потом оставим его и избавимся от nan. Далее сравним какой вариант будет точнее\n",
    "\n",
    "1. Нет признака пола  \n",
    "2. Заменим Нан методом машинного обучения  \n",
    "\n",
    "Методы:\n",
    "1. LinearRegression  \n",
    "2. GradientBoostingRegressor  \n",
    "3. RandomForestRegressor\n",
    "4. VotingRegressor\n",
    "  \n",
    "  целевой признак:  \n",
    "1. 1:  \n",
    "1) сумма  \n",
    "2) количество  \n",
    "2. 2: сумма + количество"
   ]
  },
  {
   "cell_type": "markdown",
   "id": "0e04950a",
   "metadata": {},
   "source": [
    "## 1: без гендера\n",
    "### целевой признак - общая сумма пожертвований за всё время сотрудничества total_sum"
   ]
  },
  {
   "cell_type": "code",
   "execution_count": 42,
   "id": "64ec13f4",
   "metadata": {},
   "outputs": [
    {
     "data": {
      "text/plain": [
       "Index(['id', 'sum_mean_lg', 'life_time_mean', 'is_woman', 'is_reccurent_mean',\n",
       "       'for_fund_mean', 'for_person_mean', 'for_programm_mean',\n",
       "       'no_info_purpose_mean', 'card_mean', 'cash_mean',\n",
       "       'direct_to_account_mean', 'sms_mean', 'foreign_mean', 'moscow_mean',\n",
       "       'peterburg_mean', 'no_info_city_mean', 'other_rus_city_mean',\n",
       "       'frequency', 'total_sum_lg', 'total_frequency'],\n",
       "      dtype='object')"
      ]
     },
     "execution_count": 42,
     "metadata": {},
     "output_type": "execute_result"
    }
   ],
   "source": [
    "df_by_id_1.columns"
   ]
  },
  {
   "cell_type": "code",
   "execution_count": 43,
   "id": "19857839",
   "metadata": {},
   "outputs": [],
   "source": [
    "from sklearn.ensemble import GradientBoostingRegressor\n",
    "from sklearn.ensemble import RandomForestRegressor\n",
    "from sklearn.linear_model import LinearRegression\n",
    "from sklearn.neighbors import KNeighborsRegressor\n",
    "from sklearn.ensemble import VotingRegressor\n",
    "from sklearn.metrics import mean_absolute_error, mean_absolute_percentage_error, r2_score\n",
    "\n",
    "# Загрузим данные с одним признаком\n",
    "X_train_sum = df_by_id_1.drop(columns=['is_woman','id','total_sum_lg','total_frequency'], axis=1)\n",
    "y_train_sum = df_by_id_1['total_sum_lg']\n",
    "\n",
    "X_test_sum = df_by_id_2.drop(columns=['is_woman','id','total_sum_lg','total_frequency'], axis=1)\n",
    "y_test_sum = df_by_id_2['total_sum_lg']\n",
    "\n",
    "# Train classifiers\n",
    "reg1_sum = GradientBoostingRegressor(random_state=1)\n",
    "reg2_sum = RandomForestRegressor(random_state=1)\n",
    "reg3_sum = LinearRegression()\n",
    "reg4_sum = KNeighborsRegressor()\n",
    "\n",
    "reg1_sum.fit(X_train_sum, y_train_sum)\n",
    "reg2_sum.fit(X_train_sum, y_train_sum)\n",
    "reg3_sum.fit(X_train_sum, y_train_sum)\n",
    "reg4_sum.fit(X_train_sum, y_train_sum)\n",
    "\n",
    "ereg_sum = VotingRegressor([(\"gb\", reg1_sum), (\"rf\", reg2_sum), (\"lr\", reg3_sum), (\"kn\", reg4_sum)])\n",
    "ereg_sum.fit(X_train_sum, y_train_sum)\n",
    "\n",
    "pred1_sum = reg1_sum.predict(X_test_sum)\n",
    "pred2_sum = reg2_sum.predict(X_test_sum)\n",
    "pred3_sum = reg3_sum.predict(X_test_sum)\n",
    "pred4_sum = reg4_sum.predict(X_test_sum)\n",
    "pred5_sum = ereg_sum.predict(X_test_sum)"
   ]
  },
  {
   "cell_type": "code",
   "execution_count": 44,
   "id": "77380c87",
   "metadata": {},
   "outputs": [
    {
     "data": {
      "image/png": "[encoded data removed]",
      "text/plain": [
       "<Figure size 864x432 with 2 Axes>"
      ]
     },
     "metadata": {
      "needs_background": "light"
     },
     "output_type": "display_data"
    }
   ],
   "source": [
    "from sklearn.inspection import permutation_importance\n",
    "feature_importance = reg1_sum.feature_importances_\n",
    "sorted_idx = np.argsort(feature_importance)\n",
    "pos = np.arange(sorted_idx.shape[0]) + 0.5\n",
    "fig = plt.figure(figsize=(12, 6))\n",
    "plt.subplot(1, 2, 1)\n",
    "plt.barh(pos, feature_importance[sorted_idx], align=\"center\")\n",
    "plt.yticks(pos, np.array(X_train_sum.columns)[sorted_idx])\n",
    "plt.title(\"Feature Importance (MDI)\")\n",
    "\n",
    "result = permutation_importance(\n",
    "    reg1_sum, X_test_sum, y_test_sum, n_repeats=10, random_state=42, n_jobs=2\n",
    ")\n",
    "sorted_idx = result.importances_mean.argsort()\n",
    "plt.subplot(1, 2, 2)\n",
    "plt.boxplot(\n",
    "    result.importances[sorted_idx].T,\n",
    "    vert=False,\n",
    "    labels=np.array(X_train_sum.columns)[sorted_idx],\n",
    ")\n",
    "plt.title(\"Permutation Importance (test set)\")\n",
    "fig.tight_layout()\n",
    "plt.show()"
   ]
  },
  {
   "cell_type": "code",
   "execution_count": 45,
   "id": "526f89e7",
   "metadata": {},
   "outputs": [],
   "source": [
    "def print_metrics(reg,pred,y_test):\n",
    "    print(reg)\n",
    "    # Уберём логарифмы, вернём денежные знаки\n",
    "    y_test=y_test.apply(lambda x: np.exp(x))\n",
    "    pred=np.exp(pred)\n",
    "    \n",
    "    # выведем среднее значение целевой переменной на тесте\n",
    "    print('Mean_target: {:.2f}'.format(y_test.mean()))\n",
    "    # выведем основные метрики\n",
    "    print('MAE: {:.2f}'.format(mean_absolute_error(y_test, pred)))\n",
    "    print('MAPE: {:.2f}'.format(mean_absolute_percentage_error(y_test, pred)))\n",
    "    print('R2: {:.2f}'.format(r2_score(y_test, pred)))"
   ]
  },
  {
   "cell_type": "code",
   "execution_count": 46,
   "id": "08dfbf7e",
   "metadata": {},
   "outputs": [
    {
     "name": "stdout",
     "output_type": "stream",
     "text": [
      "GradientBoostingRegressor(random_state=1)\n",
      "Mean_target: 3797.35\n",
      "MAE: 1631.38\n",
      "MAPE: 0.51\n",
      "R2: 0.91\n",
      "Важность признаков [9.17900451e-01 1.55846074e-02 2.99625442e-02 4.73251606e-04\n",
      " 3.11440489e-03 4.16819415e-04 2.28491349e-05 6.82705598e-04\n",
      " 0.00000000e+00 6.52749328e-04 3.79348715e-03 5.64992172e-04\n",
      " 8.35757718e-03 3.95935230e-04 6.81195811e-03 2.18909853e-04\n",
      " 1.10467580e-02]\n"
     ]
    }
   ],
   "source": [
    "print_metrics(reg1_sum,pred1_sum,y_test_sum)\n",
    "print('Важность признаков', reg1_sum.feature_importances_)"
   ]
  },
  {
   "cell_type": "code",
   "execution_count": 47,
   "id": "57424f75",
   "metadata": {},
   "outputs": [
    {
     "name": "stdout",
     "output_type": "stream",
     "text": [
      "RandomForestRegressor(random_state=1)\n",
      "Mean_target: 3797.35\n",
      "MAE: 1954.38\n",
      "MAPE: 0.57\n",
      "R2: 0.77\n",
      "Важность признаков [0.89458575 0.02086716 0.0328788  0.00313852 0.00349453 0.00099437\n",
      " 0.00144333 0.00128247 0.         0.00140678 0.00511227 0.00162862\n",
      " 0.01064172 0.00201921 0.00528603 0.00266108 0.01255935]\n"
     ]
    }
   ],
   "source": [
    "print_metrics(reg2_sum,pred2_sum,y_test_sum)\n",
    "print('Важность признаков', reg2_sum.feature_importances_)"
   ]
  },
  {
   "cell_type": "code",
   "execution_count": 48,
   "id": "9cc26dd2",
   "metadata": {},
   "outputs": [
    {
     "name": "stdout",
     "output_type": "stream",
     "text": [
      "LinearRegression()\n",
      "Mean_target: 3797.35\n",
      "MAE: 2436.49\n",
      "MAPE: 0.47\n",
      "R2: 0.57\n",
      "Коэффициенты признаков [ 9.95930951e-01  1.58776773e-02  9.50981739e-01  3.81183301e-02\n",
      " -1.24570017e-01  7.49929324e-02  1.14587545e-02  3.33407151e-02\n",
      "  4.85722573e-17 -5.69364363e-02  2.35957212e-02  3.79139943e-01\n",
      "  2.12702616e-01 -3.78222259e-02 -4.51852689e-01 -1.02167644e-01\n",
      "  6.51928554e-02]\n"
     ]
    }
   ],
   "source": [
    "print_metrics(reg3_sum,pred3_sum,y_test_sum)\n",
    "print('Коэффициенты признаков', reg3_sum.coef_)"
   ]
  },
  {
   "cell_type": "code",
   "execution_count": 49,
   "id": "cbd5e2a4",
   "metadata": {
    "scrolled": true
   },
   "outputs": [
    {
     "name": "stdout",
     "output_type": "stream",
     "text": [
      "KNeighborsRegressor()\n",
      "Mean_target: 3797.35\n",
      "MAE: 1822.94\n",
      "MAPE: 0.83\n",
      "R2: 0.76\n"
     ]
    }
   ],
   "source": [
    "print_metrics(reg4_sum,pred4_sum,y_test_sum)"
   ]
  },
  {
   "cell_type": "code",
   "execution_count": 50,
   "id": "92f71057",
   "metadata": {},
   "outputs": [
    {
     "name": "stdout",
     "output_type": "stream",
     "text": [
      "VotingRegressor(estimators=[('gb', GradientBoostingRegressor(random_state=1)),\n",
      "                            ('rf', RandomForestRegressor(random_state=1)),\n",
      "                            ('lr', LinearRegression()),\n",
      "                            ('kn', KNeighborsRegressor())])\n",
      "Mean_target: 3797.35\n",
      "MAE: 1593.52\n",
      "MAPE: 0.49\n",
      "R2: 0.90\n"
     ]
    }
   ],
   "source": [
    "print_metrics(ereg_sum,pred5_sum,y_test_sum)"
   ]
  },
  {
   "cell_type": "code",
   "execution_count": 51,
   "id": "bf2874a9",
   "metadata": {},
   "outputs": [
    {
     "data": {
      "image/png": "[encoded data removed]",
      "text/plain": [
       "<Figure size 1224x720 with 1 Axes>"
      ]
     },
     "metadata": {
      "needs_background": "light"
     },
     "output_type": "display_data"
    }
   ],
   "source": [
    "# Визуализируем:\n",
    "plt.figure(figsize=(17,10))\n",
    "plt.plot(pred1_sum, \"gd\", label=\"GradientBoostingRegressor\")\n",
    "plt.plot(pred2_sum, \"b^\", label=\"RandomForestRegressor\")\n",
    "plt.plot(pred3_sum, \"ys\", label=\"LinearRegression\")\n",
    "plt.plot(pred4_sum, \"*\", label=\"KNeighborsRegressor\")\n",
    "plt.plot(pred5_sum, \"r*\", ms=10, label=\"VotingRegressor\")\n",
    "plt.plot(y_test_sum.reset_index(drop=True), label=\"test_data\")\n",
    "\n",
    "plt.tick_params(axis=\"x\", which=\"both\", bottom=False, top=False, labelbottom=False)\n",
    "plt.ylabel(\"predicted\")\n",
    "plt.xlabel(\"training samples\")\n",
    "plt.legend(loc=\"best\")\n",
    "plt.title(\"Предсказания регрессий и их среднее\")\n",
    "\n",
    "plt.show()"
   ]
  },
  {
   "cell_type": "code",
   "execution_count": 52,
   "id": "3d7f7f7d",
   "metadata": {},
   "outputs": [
    {
     "data": {
      "text/html": [
       "<div>\n",
       "<style scoped>\n",
       "    .dataframe tbody tr th:only-of-type {\n",
       "        vertical-align: middle;\n",
       "    }\n",
       "\n",
       "    .dataframe tbody tr th {\n",
       "        vertical-align: top;\n",
       "    }\n",
       "\n",
       "    .dataframe thead th {\n",
       "        text-align: right;\n",
       "    }\n",
       "</style>\n",
       "<table border=\"1\" class=\"dataframe\">\n",
       "  <thead>\n",
       "    <tr style=\"text-align: right;\">\n",
       "      <th></th>\n",
       "      <th>id</th>\n",
       "      <th>total_sum_real</th>\n",
       "      <th>best_prediction_VR</th>\n",
       "      <th>total_sum</th>\n",
       "    </tr>\n",
       "  </thead>\n",
       "  <tbody>\n",
       "    <tr>\n",
       "      <th>48</th>\n",
       "      <td>1e34fca8-8a77-471f-9370-595443a947b7</td>\n",
       "      <td>250,000.00</td>\n",
       "      <td>222,672.65</td>\n",
       "      <td>250,000.00</td>\n",
       "    </tr>\n",
       "    <tr>\n",
       "      <th>263</th>\n",
       "      <td>ad37d244-cacd-4dd8-a4fb-2dd596c1cd1b</td>\n",
       "      <td>180,000.00</td>\n",
       "      <td>138,648.53</td>\n",
       "      <td>180,000.00</td>\n",
       "    </tr>\n",
       "    <tr>\n",
       "      <th>110</th>\n",
       "      <td>4cf1fe5a-e93c-4425-b56b-afe271294f9b</td>\n",
       "      <td>100,000.00</td>\n",
       "      <td>130,352.64</td>\n",
       "      <td>100,000.00</td>\n",
       "    </tr>\n",
       "    <tr>\n",
       "      <th>19</th>\n",
       "      <td>0d9ea121-0e9a-44af-a9c1-35feddc4841c</td>\n",
       "      <td>70,000.00</td>\n",
       "      <td>84,513.56</td>\n",
       "      <td>70,000.00</td>\n",
       "    </tr>\n",
       "    <tr>\n",
       "      <th>157</th>\n",
       "      <td>69a965e4-6c58-4e18-92d5-94e94a3971bd</td>\n",
       "      <td>50,100.00</td>\n",
       "      <td>64,561.75</td>\n",
       "      <td>50,100.00</td>\n",
       "    </tr>\n",
       "    <tr>\n",
       "      <th>...</th>\n",
       "      <td>...</td>\n",
       "      <td>...</td>\n",
       "      <td>...</td>\n",
       "      <td>...</td>\n",
       "    </tr>\n",
       "    <tr>\n",
       "      <th>123</th>\n",
       "      <td>53e64aea-dea8-4853-842b-8ca9d4c736b6</td>\n",
       "      <td>1.00</td>\n",
       "      <td>1.09</td>\n",
       "      <td>1.00</td>\n",
       "    </tr>\n",
       "    <tr>\n",
       "      <th>381</th>\n",
       "      <td>f91e5bd3-9a5a-46d8-8f95-b13d51e50943</td>\n",
       "      <td>1.00</td>\n",
       "      <td>1.09</td>\n",
       "      <td>1.00</td>\n",
       "    </tr>\n",
       "    <tr>\n",
       "      <th>243</th>\n",
       "      <td>9d7b8263-fc74-4e86-b9b4-d36108929380</td>\n",
       "      <td>1.00</td>\n",
       "      <td>1.09</td>\n",
       "      <td>1.00</td>\n",
       "    </tr>\n",
       "    <tr>\n",
       "      <th>129</th>\n",
       "      <td>5b219522-d624-40a0-bfec-a465968a8788</td>\n",
       "      <td>0.69</td>\n",
       "      <td>0.48</td>\n",
       "      <td>0.69</td>\n",
       "    </tr>\n",
       "    <tr>\n",
       "      <th>385</th>\n",
       "      <td>fc1eb8bd-b30f-47a8-b347-0200183861d8</td>\n",
       "      <td>0.22</td>\n",
       "      <td>0.48</td>\n",
       "      <td>0.22</td>\n",
       "    </tr>\n",
       "  </tbody>\n",
       "</table>\n",
       "<p>387 rows × 4 columns</p>\n",
       "</div>"
      ],
      "text/plain": [
       "                                       id  total_sum_real  best_prediction_VR  \\\n",
       "48   1e34fca8-8a77-471f-9370-595443a947b7      250,000.00          222,672.65   \n",
       "263  ad37d244-cacd-4dd8-a4fb-2dd596c1cd1b      180,000.00          138,648.53   \n",
       "110  4cf1fe5a-e93c-4425-b56b-afe271294f9b      100,000.00          130,352.64   \n",
       "19   0d9ea121-0e9a-44af-a9c1-35feddc4841c       70,000.00           84,513.56   \n",
       "157  69a965e4-6c58-4e18-92d5-94e94a3971bd       50,100.00           64,561.75   \n",
       "..                                    ...             ...                 ...   \n",
       "123  53e64aea-dea8-4853-842b-8ca9d4c736b6            1.00                1.09   \n",
       "381  f91e5bd3-9a5a-46d8-8f95-b13d51e50943            1.00                1.09   \n",
       "243  9d7b8263-fc74-4e86-b9b4-d36108929380            1.00                1.09   \n",
       "129  5b219522-d624-40a0-bfec-a465968a8788            0.69                0.48   \n",
       "385  fc1eb8bd-b30f-47a8-b347-0200183861d8            0.22                0.48   \n",
       "\n",
       "     total_sum  \n",
       "48  250,000.00  \n",
       "263 180,000.00  \n",
       "110 100,000.00  \n",
       "19   70,000.00  \n",
       "157  50,100.00  \n",
       "..         ...  \n",
       "123       1.00  \n",
       "381       1.00  \n",
       "243       1.00  \n",
       "129       0.69  \n",
       "385       0.22  \n",
       "\n",
       "[387 rows x 4 columns]"
      ]
     },
     "execution_count": 52,
     "metadata": {},
     "output_type": "execute_result"
    }
   ],
   "source": [
    "# Вернём значения суммы пожертвований их логарифмов в деньги\n",
    "d_sum = {'id':df_by_id_2.id.reset_index(drop=True),\n",
    "         'total_sum_real': y_test_sum.reset_index(drop=True), \n",
    "         'best_prediction_VR': pred1_sum}\n",
    "df_predictions = pd.DataFrame(d_sum)\n",
    "df_predictions = df_predictions.merge(id_total_sum, on='id')\n",
    "df_predictions[['total_sum_real','best_prediction_VR']] = df_predictions[['total_sum_real','best_prediction_VR']].apply(lambda x: np.exp(x))\n",
    "df_predictions.sort_values(by='total_sum_real', ascending=False)"
   ]
  },
  {
   "cell_type": "code",
   "execution_count": 53,
   "id": "2ebaa1d5",
   "metadata": {},
   "outputs": [
    {
     "data": {
      "text/plain": [
       "0.505731301517801"
      ]
     },
     "execution_count": 53,
     "metadata": {},
     "output_type": "execute_result"
    }
   ],
   "source": [
    "mean_absolute_percentage_error(df_predictions['total_sum'], df_predictions['best_prediction_VR'])"
   ]
  },
  {
   "cell_type": "markdown",
   "id": "18f74aa3",
   "metadata": {},
   "source": [
    "### целевой признак -  среднее количество месяцев в год, в которые совершались пожертвования за всё время сотрудничества - частота платежей total_donat_count_m"
   ]
  },
  {
   "cell_type": "code",
   "execution_count": 54,
   "id": "7380f252",
   "metadata": {},
   "outputs": [
    {
     "data": {
      "text/plain": [
       "Index(['id', 'sum_mean_lg', 'life_time_mean', 'is_woman', 'is_reccurent_mean',\n",
       "       'for_fund_mean', 'for_person_mean', 'for_programm_mean',\n",
       "       'no_info_purpose_mean', 'card_mean', 'cash_mean',\n",
       "       'direct_to_account_mean', 'sms_mean', 'foreign_mean', 'moscow_mean',\n",
       "       'peterburg_mean', 'no_info_city_mean', 'other_rus_city_mean',\n",
       "       'frequency', 'total_sum_lg', 'total_frequency'],\n",
       "      dtype='object')"
      ]
     },
     "execution_count": 54,
     "metadata": {},
     "output_type": "execute_result"
    }
   ],
   "source": [
    "df_by_id_1.columns"
   ]
  },
  {
   "cell_type": "code",
   "execution_count": 55,
   "id": "0d9f7212",
   "metadata": {},
   "outputs": [],
   "source": [
    "def print_metrics_count(reg,pred,y_test):\n",
    "    print(reg)\n",
    "    \n",
    "    # выведем среднее значение целевой переменной на тесте\n",
    "    print('Mean_target: {:.2f}'.format(y_test.mean()))\n",
    "    # выведем основные метрики\n",
    "    print('MAE: {:.2f}'.format(mean_absolute_error(y_test, pred)))\n",
    "    print('MAPE: {:.2f}'.format(mean_absolute_percentage_error(y_test, pred)))\n",
    "    print('R2: {:.2f}'.format(r2_score(y_test, pred)))"
   ]
  },
  {
   "cell_type": "code",
   "execution_count": 56,
   "id": "980048c2",
   "metadata": {},
   "outputs": [
    {
     "name": "stdout",
     "output_type": "stream",
     "text": [
      "GradientBoostingRegressor(random_state=1)\n",
      "Mean_target: 0.03\n",
      "MAE: 0.01\n",
      "MAPE: 4473811675804.97\n",
      "R2: 0.98\n",
      "RandomForestRegressor(random_state=1)\n",
      "Mean_target: 0.03\n",
      "MAE: 0.01\n",
      "MAPE: 7822775176172.17\n",
      "R2: 0.85\n",
      "LinearRegression(positive=True)\n",
      "Mean_target: 0.03\n",
      "MAE: 0.01\n",
      "MAPE: 21009692631653.93\n",
      "R2: 0.94\n",
      "KNeighborsRegressor()\n",
      "Mean_target: 0.03\n",
      "MAE: 0.02\n",
      "MAPE: 5749395648401.28\n",
      "R2: 0.29\n",
      "VotingRegressor(estimators=[('gb', GradientBoostingRegressor(random_state=1)),\n",
      "                            ('rf', RandomForestRegressor(random_state=1)),\n",
      "                            ('lr', LinearRegression(positive=True)),\n",
      "                            ('kn', KNeighborsRegressor())])\n",
      "Mean_target: 0.03\n",
      "MAE: 0.01\n",
      "MAPE: 8402514721000.59\n",
      "R2: 0.85\n"
     ]
    }
   ],
   "source": [
    "# Загрузим данные с одним признаком\n",
    "X_train_freq = df_by_id_1.drop(columns=['is_woman','id','total_sum_lg','total_frequency'], axis=1)\n",
    "y_train_freq = df_by_id_1['total_frequency']\n",
    "\n",
    "X_test_freq = df_by_id_2.drop(columns=['is_woman','id','total_sum_lg','total_frequency'], axis=1)\n",
    "y_test_freq = df_by_id_2['total_frequency']\n",
    "\n",
    "# Train classifiers\n",
    "reg1_freq = GradientBoostingRegressor(random_state=1)\n",
    "reg2_freq = RandomForestRegressor(random_state=1)\n",
    "reg3_freq = LinearRegression(positive=True)\n",
    "reg4_freq = KNeighborsRegressor()\n",
    "\n",
    "reg1_freq.fit(X_train_freq, y_train_freq)\n",
    "reg2_freq.fit(X_train_freq, y_train_freq)\n",
    "reg3_freq.fit(X_train_freq, y_train_freq)\n",
    "reg4_freq.fit(X_train_freq, y_train_freq)\n",
    "\n",
    "ereg_freq = VotingRegressor([(\"gb\", reg1_freq), (\"rf\", reg2_freq), (\"lr\", reg3_freq), (\"kn\", reg4_freq)])\n",
    "ereg_freq.fit(X_train_freq, y_train_freq)\n",
    "\n",
    "pred1_freq = reg1_freq.predict(X_test_freq)\n",
    "pred2_freq = reg2_freq.predict(X_test_freq)\n",
    "pred3_freq = reg3_freq.predict(X_test_freq)\n",
    "pred4_freq = reg4_freq.predict(X_test_freq)\n",
    "pred5_freq = ereg_freq.predict(X_test_freq)\n",
    "\n",
    "print_metrics_count(reg1_freq,pred1_freq,y_test_freq)\n",
    "print_metrics_count(reg2_freq,pred2_freq,y_test_freq)\n",
    "print_metrics_count(reg3_freq,pred3_freq,y_test_freq)\n",
    "print_metrics_count(reg4_freq,pred4_freq,y_test_freq)\n",
    "print_metrics_count(ereg_freq,pred5_freq,y_test_freq)"
   ]
  },
  {
   "cell_type": "code",
   "execution_count": 57,
   "id": "cfd3530c",
   "metadata": {},
   "outputs": [
    {
     "data": {
      "image/png": "[encoded data removed]",
      "text/plain": [
       "<Figure size 1224x720 with 1 Axes>"
      ]
     },
     "metadata": {
      "needs_background": "light"
     },
     "output_type": "display_data"
    }
   ],
   "source": [
    "# Визуализируем:\n",
    "plt.figure(figsize=(17,10))\n",
    "plt.plot(pred1_freq, \"gd\", label=\"GradientBoostingRegressor\")\n",
    "plt.plot(pred2_freq, \"b^\", label=\"RandomForestRegressor\")\n",
    "plt.plot(pred3_freq, \"ys\", label=\"LinearRegression\")\n",
    "plt.plot(pred4_freq, \"*\", label=\"KNeighborsRegressor\")\n",
    "plt.plot(pred5_freq, \"r*\", ms=10, label=\"VotingRegressor\")\n",
    "plt.plot(y_test_freq.reset_index(drop=True), label=\"test_data\")\n",
    "\n",
    "plt.tick_params(axis=\"x\", which=\"both\", bottom=False, top=False, labelbottom=False)\n",
    "plt.ylabel(\"predicted\")\n",
    "plt.xlabel(\"training samples\")\n",
    "plt.legend(loc=\"best\")\n",
    "plt.title(\"Предсказания регрессий и их среднее\")\n",
    "\n",
    "plt.show()"
   ]
  },
  {
   "cell_type": "markdown",
   "id": "e10e6f50",
   "metadata": {},
   "source": [
    "GradientBoostingRegressor - показал метрики лучше других регрессий"
   ]
  },
  {
   "cell_type": "code",
   "execution_count": 58,
   "id": "067ef8c7",
   "metadata": {},
   "outputs": [
    {
     "data": {
      "text/html": [
       "<div>\n",
       "<style scoped>\n",
       "    .dataframe tbody tr th:only-of-type {\n",
       "        vertical-align: middle;\n",
       "    }\n",
       "\n",
       "    .dataframe tbody tr th {\n",
       "        vertical-align: top;\n",
       "    }\n",
       "\n",
       "    .dataframe thead th {\n",
       "        text-align: right;\n",
       "    }\n",
       "</style>\n",
       "<table border=\"1\" class=\"dataframe\">\n",
       "  <thead>\n",
       "    <tr style=\"text-align: right;\">\n",
       "      <th></th>\n",
       "      <th>total_count_real</th>\n",
       "      <th>best_prediction_GBR</th>\n",
       "    </tr>\n",
       "  </thead>\n",
       "  <tbody>\n",
       "    <tr>\n",
       "      <th>0</th>\n",
       "      <td>0.00</td>\n",
       "      <td>0</td>\n",
       "    </tr>\n",
       "    <tr>\n",
       "      <th>1</th>\n",
       "      <td>0.00</td>\n",
       "      <td>0</td>\n",
       "    </tr>\n",
       "    <tr>\n",
       "      <th>2</th>\n",
       "      <td>0.00</td>\n",
       "      <td>0</td>\n",
       "    </tr>\n",
       "    <tr>\n",
       "      <th>3</th>\n",
       "      <td>0.00</td>\n",
       "      <td>0</td>\n",
       "    </tr>\n",
       "    <tr>\n",
       "      <th>4</th>\n",
       "      <td>0.00</td>\n",
       "      <td>0</td>\n",
       "    </tr>\n",
       "    <tr>\n",
       "      <th>...</th>\n",
       "      <td>...</td>\n",
       "      <td>...</td>\n",
       "    </tr>\n",
       "    <tr>\n",
       "      <th>382</th>\n",
       "      <td>0.04</td>\n",
       "      <td>0</td>\n",
       "    </tr>\n",
       "    <tr>\n",
       "      <th>383</th>\n",
       "      <td>0.15</td>\n",
       "      <td>0</td>\n",
       "    </tr>\n",
       "    <tr>\n",
       "      <th>384</th>\n",
       "      <td>0.33</td>\n",
       "      <td>0</td>\n",
       "    </tr>\n",
       "    <tr>\n",
       "      <th>385</th>\n",
       "      <td>0.00</td>\n",
       "      <td>0</td>\n",
       "    </tr>\n",
       "    <tr>\n",
       "      <th>386</th>\n",
       "      <td>0.14</td>\n",
       "      <td>0</td>\n",
       "    </tr>\n",
       "  </tbody>\n",
       "</table>\n",
       "<p>387 rows × 2 columns</p>\n",
       "</div>"
      ],
      "text/plain": [
       "     total_count_real  best_prediction_GBR\n",
       "0                0.00                    0\n",
       "1                0.00                    0\n",
       "2                0.00                    0\n",
       "3                0.00                    0\n",
       "4                0.00                    0\n",
       "..                ...                  ...\n",
       "382              0.04                    0\n",
       "383              0.15                    0\n",
       "384              0.33                    0\n",
       "385              0.00                    0\n",
       "386              0.14                    0\n",
       "\n",
       "[387 rows x 2 columns]"
      ]
     },
     "execution_count": 58,
     "metadata": {},
     "output_type": "execute_result"
    }
   ],
   "source": [
    "d_count = pd.DataFrame({'total_count_real': y_test_freq.reset_index(drop=True), \n",
    "                        'best_prediction_GBR': pred1_freq})\n",
    "d_count.best_prediction_GBR=d_count.best_prediction_GBR.astype('int')\n",
    "d_count"
   ]
  },
  {
   "cell_type": "code",
   "execution_count": 59,
   "id": "47f459ed",
   "metadata": {},
   "outputs": [
    {
     "data": {
      "text/plain": [
       "0.2222222222222222"
      ]
     },
     "execution_count": 59,
     "metadata": {},
     "output_type": "execute_result"
    }
   ],
   "source": [
    "mean_absolute_percentage_error(d_count.total_count_real, d_count.best_prediction_GBR)"
   ]
  },
  {
   "cell_type": "markdown",
   "id": "39ce26f2",
   "metadata": {},
   "source": [
    "## 2: заполним Наны гендера машинным обучением"
   ]
  },
  {
   "cell_type": "code",
   "execution_count": 60,
   "id": "161ccbb6",
   "metadata": {},
   "outputs": [
    {
     "data": {
      "text/plain": [
       "Index(['id', 'sum_mean_lg', 'life_time_mean', 'is_woman', 'is_reccurent_mean',\n",
       "       'for_fund_mean', 'for_person_mean', 'for_programm_mean',\n",
       "       'no_info_purpose_mean', 'card_mean', 'cash_mean',\n",
       "       'direct_to_account_mean', 'sms_mean', 'foreign_mean', 'moscow_mean',\n",
       "       'peterburg_mean', 'no_info_city_mean', 'other_rus_city_mean',\n",
       "       'frequency', 'total_sum_lg', 'total_frequency'],\n",
       "      dtype='object')"
      ]
     },
     "execution_count": 60,
     "metadata": {},
     "output_type": "execute_result"
    }
   ],
   "source": [
    "df_by_id.columns"
   ]
  },
  {
   "cell_type": "code",
   "execution_count": 61,
   "id": "e983235b",
   "metadata": {},
   "outputs": [],
   "source": [
    "from sklearn.impute import KNNImputer\n",
    "\n",
    "df_by_id_no_nan = df_by_id.drop(columns=['id']).copy()\n",
    "imputer = KNNImputer(n_neighbors=5, weights=\"uniform\")\n",
    "imputed_train_df = imputer.fit_transform(df_by_id_no_nan)"
   ]
  },
  {
   "cell_type": "code",
   "execution_count": 62,
   "id": "cb28590c",
   "metadata": {},
   "outputs": [],
   "source": [
    "# Заполняем пропуски в нашем ДФ\n",
    "df_by_id['is_woman'] = pd.DataFrame(imputed_train_df,columns=['sum_mean_lg', 'life_time_mean', 'is_woman', 'is_reccurent_mean',\n",
    "       'for_fund_mean', 'for_person_mean', 'for_programm_mean',\n",
    "       'no_info_purpose_mean', 'card_mean', 'cash_mean',\n",
    "       'direct_to_account_mean', 'sms_mean', 'foreign_mean', 'moscow_mean',\n",
    "       'peterburg_mean', 'no_info_city_mean', 'other_rus_city_mean',\n",
    "       'frequency', 'total_sum_lg', 'total_frequency'])['is_woman'].astype('bool')"
   ]
  },
  {
   "cell_type": "code",
   "execution_count": 63,
   "id": "632408f8",
   "metadata": {},
   "outputs": [
    {
     "name": "stdout",
     "output_type": "stream",
     "text": [
      "0\n",
      "True\n"
     ]
    }
   ],
   "source": [
    "df_by_id_1 = df_by_id.query('id not in @id_new')\n",
    "\n",
    "#Проверочка, если всё хорошо то будет 0\n",
    "print(len(df_by_id)-len(df_by_id_1)-len(id_new))\n",
    "\n",
    "df_by_id_2 = df_by_id.query('id in @id_new')\n",
    "\n",
    "#Проверочка, если всё хорошо то будет True\n",
    "print(len(df_by_id_2)==len(id_new))"
   ]
  },
  {
   "cell_type": "markdown",
   "id": "a7cf2c28",
   "metadata": {},
   "source": [
    "### целевой признак - общая сумма пожертвований за всё время сотрудничества total_sum"
   ]
  },
  {
   "cell_type": "code",
   "execution_count": 64,
   "id": "1f15ff49",
   "metadata": {},
   "outputs": [
    {
     "name": "stdout",
     "output_type": "stream",
     "text": [
      "GradientBoostingRegressor(random_state=1)\n",
      "Mean_target: 3797.35\n",
      "MAE: 1647.57\n",
      "MAPE: 0.51\n",
      "R2: 0.90\n",
      "RandomForestRegressor(random_state=1)\n",
      "Mean_target: 3797.35\n",
      "MAE: 1976.80\n",
      "MAPE: 0.59\n",
      "R2: 0.77\n",
      "LinearRegression()\n",
      "Mean_target: 3797.35\n",
      "MAE: 2438.25\n",
      "MAPE: 0.47\n",
      "R2: 0.56\n",
      "KNeighborsRegressor()\n",
      "Mean_target: 3797.35\n",
      "MAE: 1809.53\n",
      "MAPE: 0.84\n",
      "R2: 0.77\n",
      "VotingRegressor(estimators=[('gb', GradientBoostingRegressor(random_state=1)),\n",
      "                            ('rf', RandomForestRegressor(random_state=1)),\n",
      "                            ('lr', LinearRegression()),\n",
      "                            ('kn', KNeighborsRegressor())])\n",
      "Mean_target: 3797.35\n",
      "MAE: 1575.12\n",
      "MAPE: 0.51\n",
      "R2: 0.91\n"
     ]
    }
   ],
   "source": [
    "# Загрузим данные с одним признаком\n",
    "X_train_sum = df_by_id_1.drop(columns=['id','total_sum_lg','total_frequency'], axis=1)\n",
    "y_train_sum = df_by_id_1['total_sum_lg']\n",
    "\n",
    "X_test_sum = df_by_id_2.drop(columns=['id','total_sum_lg','total_frequency'], axis=1)\n",
    "y_test_sum = df_by_id_2['total_sum_lg']\n",
    "\n",
    "# Train classifiers\n",
    "reg1_sum = GradientBoostingRegressor(random_state=1)\n",
    "reg2_sum = RandomForestRegressor(random_state=1)\n",
    "reg3_sum = LinearRegression()\n",
    "reg4_sum = KNeighborsRegressor()\n",
    "\n",
    "reg1_sum.fit(X_train_sum, y_train_sum)\n",
    "reg2_sum.fit(X_train_sum, y_train_sum)\n",
    "reg3_sum.fit(X_train_sum, y_train_sum)\n",
    "reg4_sum.fit(X_train_sum, y_train_sum)\n",
    "\n",
    "ereg_sum = VotingRegressor([(\"gb\", reg1_sum), (\"rf\", reg2_sum), (\"lr\", reg3_sum), (\"kn\", reg4_sum)])\n",
    "ereg_sum.fit(X_train_sum, y_train_sum)\n",
    "\n",
    "pred1_sum = reg1_sum.predict(X_test_sum)\n",
    "pred2_sum = reg2_sum.predict(X_test_sum)\n",
    "pred3_sum = reg3_sum.predict(X_test_sum)\n",
    "pred4_sum = reg4_sum.predict(X_test_sum)\n",
    "pred5_sum = ereg_sum.predict(X_test_sum)\n",
    "\n",
    "print_metrics(reg1_sum,pred1_sum,y_test_sum)\n",
    "print_metrics(reg2_sum,pred2_sum,y_test_sum)\n",
    "print_metrics(reg3_sum,pred3_sum,y_test_sum)\n",
    "print_metrics(reg4_sum,pred4_sum,y_test_sum)\n",
    "print_metrics(ereg_sum,pred5_sum,y_test_sum)"
   ]
  },
  {
   "cell_type": "markdown",
   "id": "94d7370b",
   "metadata": {},
   "source": [
    "Без Nan - метрики модели увеличились"
   ]
  },
  {
   "cell_type": "markdown",
   "id": "d2352fa2",
   "metadata": {},
   "source": [
    "## Мультирегрессия"
   ]
  },
  {
   "cell_type": "code",
   "execution_count": 65,
   "id": "75d48aa0",
   "metadata": {},
   "outputs": [
    {
     "data": {
      "text/plain": [
       "Index(['id', 'sum_mean_lg', 'life_time_mean', 'is_woman', 'is_reccurent_mean',\n",
       "       'for_fund_mean', 'for_person_mean', 'for_programm_mean',\n",
       "       'no_info_purpose_mean', 'card_mean', 'cash_mean',\n",
       "       'direct_to_account_mean', 'sms_mean', 'foreign_mean', 'moscow_mean',\n",
       "       'peterburg_mean', 'no_info_city_mean', 'other_rus_city_mean',\n",
       "       'frequency', 'total_sum_lg', 'total_frequency'],\n",
       "      dtype='object')"
      ]
     },
     "execution_count": 65,
     "metadata": {},
     "output_type": "execute_result"
    }
   ],
   "source": [
    "df_by_id_1.columns"
   ]
  },
  {
   "cell_type": "code",
   "execution_count": 66,
   "id": "7a6e08f6",
   "metadata": {},
   "outputs": [],
   "source": [
    "from sklearn.multioutput import MultiOutputRegressor"
   ]
  },
  {
   "cell_type": "code",
   "execution_count": 67,
   "id": "3da82aeb",
   "metadata": {},
   "outputs": [],
   "source": [
    "X_train_sum_count = df_by_id_1.drop(columns=['id','total_sum_lg','total_frequency'], axis=1)\n",
    "y_train_sum_count = df_by_id_1[['total_sum_lg','total_frequency']]\n",
    "\n",
    "X_test_sum_count = df_by_id_2.drop(columns=['id','total_sum_lg','total_frequency'], axis=1)\n",
    "y_test_sum_count = df_by_id_2[['total_sum_lg','total_frequency']]\n",
    "\n",
    "reg1_sum_count = MultiOutputRegressor(GradientBoostingRegressor(random_state=0)).fit(X_train_sum_count, y_train_sum_count)\n",
    "pred1_sum_count = reg1_sum_count.predict(X_test_sum_count)\n",
    "\n",
    "reg2_sum_count = MultiOutputRegressor(LinearRegression()).fit(X_train_sum_count, y_train_sum_count)\n",
    "pred2_sum_count = reg2_sum_count.predict(X_test_sum_count)"
   ]
  },
  {
   "cell_type": "code",
   "execution_count": 68,
   "id": "9f088b96",
   "metadata": {},
   "outputs": [],
   "source": [
    "pred1_sum_count = pd.DataFrame(pred1_sum_count)\n",
    "pred2_sum_count = pd.DataFrame(pred2_sum_count)\n",
    "\n",
    "d = {'id':df_by_id_2['id'].reset_index(drop=True),\n",
    "     'total_sum_lg':df_by_id_2['total_sum_lg'].reset_index(drop=True), \n",
    "     'total_frequency':df_by_id_2['total_frequency'].reset_index(drop=True),\n",
    "     'predGBR_sum_lg':pred1_sum_count[0],\n",
    "     'predGBR_count':pred1_sum_count[1],     \n",
    "     'predLR_sum_lg':pred2_sum_count[0],\n",
    "     'predLR_count':pred2_sum_count[1],}\n",
    "\n",
    "df_predictions_multi = pd.DataFrame(d)"
   ]
  },
  {
   "cell_type": "code",
   "execution_count": 69,
   "id": "5f8c29d8",
   "metadata": {},
   "outputs": [
    {
     "data": {
      "text/html": [
       "<div>\n",
       "<style scoped>\n",
       "    .dataframe tbody tr th:only-of-type {\n",
       "        vertical-align: middle;\n",
       "    }\n",
       "\n",
       "    .dataframe tbody tr th {\n",
       "        vertical-align: top;\n",
       "    }\n",
       "\n",
       "    .dataframe thead th {\n",
       "        text-align: right;\n",
       "    }\n",
       "</style>\n",
       "<table border=\"1\" class=\"dataframe\">\n",
       "  <thead>\n",
       "    <tr style=\"text-align: right;\">\n",
       "      <th></th>\n",
       "      <th>id</th>\n",
       "      <th>total_sum_lg</th>\n",
       "      <th>total_frequency</th>\n",
       "      <th>predGBR_sum_lg</th>\n",
       "      <th>predGBR_count</th>\n",
       "      <th>predLR_sum_lg</th>\n",
       "      <th>predLR_count</th>\n",
       "    </tr>\n",
       "  </thead>\n",
       "  <tbody>\n",
       "    <tr>\n",
       "      <th>0</th>\n",
       "      <td>0015a100-2d8c-4262-a9b3-bb1461c0c8b8</td>\n",
       "      <td>5.99</td>\n",
       "      <td>0.00</td>\n",
       "      <td>6.57</td>\n",
       "      <td>0.00</td>\n",
       "      <td>6.58</td>\n",
       "      <td>-0.00</td>\n",
       "    </tr>\n",
       "    <tr>\n",
       "      <th>1</th>\n",
       "      <td>0112fa48-d41e-44fe-98d5-734826ce1e7c</td>\n",
       "      <td>4.34</td>\n",
       "      <td>0.00</td>\n",
       "      <td>4.27</td>\n",
       "      <td>0.00</td>\n",
       "      <td>4.34</td>\n",
       "      <td>0.01</td>\n",
       "    </tr>\n",
       "    <tr>\n",
       "      <th>2</th>\n",
       "      <td>013b1fc5-0c11-4b4a-b28a-183dcc530a02</td>\n",
       "      <td>6.91</td>\n",
       "      <td>0.00</td>\n",
       "      <td>7.38</td>\n",
       "      <td>0.00</td>\n",
       "      <td>7.34</td>\n",
       "      <td>0.00</td>\n",
       "    </tr>\n",
       "    <tr>\n",
       "      <th>3</th>\n",
       "      <td>02771765-505e-4e95-8fbd-531f936f50c8</td>\n",
       "      <td>5.00</td>\n",
       "      <td>0.00</td>\n",
       "      <td>5.07</td>\n",
       "      <td>0.00</td>\n",
       "      <td>5.33</td>\n",
       "      <td>-0.03</td>\n",
       "    </tr>\n",
       "    <tr>\n",
       "      <th>4</th>\n",
       "      <td>0376aaf4-2659-42f7-ae05-2e510c3f56ed</td>\n",
       "      <td>5.70</td>\n",
       "      <td>0.00</td>\n",
       "      <td>6.20</td>\n",
       "      <td>0.00</td>\n",
       "      <td>6.29</td>\n",
       "      <td>-0.00</td>\n",
       "    </tr>\n",
       "    <tr>\n",
       "      <th>...</th>\n",
       "      <td>...</td>\n",
       "      <td>...</td>\n",
       "      <td>...</td>\n",
       "      <td>...</td>\n",
       "      <td>...</td>\n",
       "      <td>...</td>\n",
       "      <td>...</td>\n",
       "    </tr>\n",
       "    <tr>\n",
       "      <th>382</th>\n",
       "      <td>f9f77758-ecff-4559-a121-f567732d3fd2</td>\n",
       "      <td>8.01</td>\n",
       "      <td>0.04</td>\n",
       "      <td>8.57</td>\n",
       "      <td>0.03</td>\n",
       "      <td>8.51</td>\n",
       "      <td>0.03</td>\n",
       "    </tr>\n",
       "    <tr>\n",
       "      <th>383</th>\n",
       "      <td>fa3fad38-737b-4e7d-9604-2257b06df5e0</td>\n",
       "      <td>6.66</td>\n",
       "      <td>0.15</td>\n",
       "      <td>7.22</td>\n",
       "      <td>0.15</td>\n",
       "      <td>6.76</td>\n",
       "      <td>0.13</td>\n",
       "    </tr>\n",
       "    <tr>\n",
       "      <th>384</th>\n",
       "      <td>fba86be7-500d-4612-96ff-27079d5a561e</td>\n",
       "      <td>6.40</td>\n",
       "      <td>0.33</td>\n",
       "      <td>7.01</td>\n",
       "      <td>0.24</td>\n",
       "      <td>6.46</td>\n",
       "      <td>0.26</td>\n",
       "    </tr>\n",
       "    <tr>\n",
       "      <th>385</th>\n",
       "      <td>fc1eb8bd-b30f-47a8-b347-0200183861d8</td>\n",
       "      <td>-1.51</td>\n",
       "      <td>0.00</td>\n",
       "      <td>-0.74</td>\n",
       "      <td>0.00</td>\n",
       "      <td>-1.49</td>\n",
       "      <td>0.01</td>\n",
       "    </tr>\n",
       "    <tr>\n",
       "      <th>386</th>\n",
       "      <td>ffccba23-89ca-4a22-bd8a-7cad2d9eb7f7</td>\n",
       "      <td>4.09</td>\n",
       "      <td>0.14</td>\n",
       "      <td>4.54</td>\n",
       "      <td>0.15</td>\n",
       "      <td>4.21</td>\n",
       "      <td>0.12</td>\n",
       "    </tr>\n",
       "  </tbody>\n",
       "</table>\n",
       "<p>387 rows × 7 columns</p>\n",
       "</div>"
      ],
      "text/plain": [
       "                                       id  total_sum_lg  total_frequency  \\\n",
       "0    0015a100-2d8c-4262-a9b3-bb1461c0c8b8          5.99             0.00   \n",
       "1    0112fa48-d41e-44fe-98d5-734826ce1e7c          4.34             0.00   \n",
       "2    013b1fc5-0c11-4b4a-b28a-183dcc530a02          6.91             0.00   \n",
       "3    02771765-505e-4e95-8fbd-531f936f50c8          5.00             0.00   \n",
       "4    0376aaf4-2659-42f7-ae05-2e510c3f56ed          5.70             0.00   \n",
       "..                                    ...           ...              ...   \n",
       "382  f9f77758-ecff-4559-a121-f567732d3fd2          8.01             0.04   \n",
       "383  fa3fad38-737b-4e7d-9604-2257b06df5e0          6.66             0.15   \n",
       "384  fba86be7-500d-4612-96ff-27079d5a561e          6.40             0.33   \n",
       "385  fc1eb8bd-b30f-47a8-b347-0200183861d8         -1.51             0.00   \n",
       "386  ffccba23-89ca-4a22-bd8a-7cad2d9eb7f7          4.09             0.14   \n",
       "\n",
       "     predGBR_sum_lg  predGBR_count  predLR_sum_lg  predLR_count  \n",
       "0              6.57           0.00           6.58         -0.00  \n",
       "1              4.27           0.00           4.34          0.01  \n",
       "2              7.38           0.00           7.34          0.00  \n",
       "3              5.07           0.00           5.33         -0.03  \n",
       "4              6.20           0.00           6.29         -0.00  \n",
       "..              ...            ...            ...           ...  \n",
       "382            8.57           0.03           8.51          0.03  \n",
       "383            7.22           0.15           6.76          0.13  \n",
       "384            7.01           0.24           6.46          0.26  \n",
       "385           -0.74           0.00          -1.49          0.01  \n",
       "386            4.54           0.15           4.21          0.12  \n",
       "\n",
       "[387 rows x 7 columns]"
      ]
     },
     "execution_count": 69,
     "metadata": {},
     "output_type": "execute_result"
    }
   ],
   "source": [
    "df_predictions_multi"
   ]
  },
  {
   "cell_type": "code",
   "execution_count": 70,
   "id": "04f4d69f",
   "metadata": {},
   "outputs": [
    {
     "name": "stdout",
     "output_type": "stream",
     "text": [
      "MultiOutputRegressor(estimator=GradientBoostingRegressor(random_state=0))\n",
      "Mean_target: 3797.35\n",
      "MAE: 1666.76\n",
      "MAPE: 0.52\n",
      "R2: 0.90\n",
      "MultiOutputRegressor(estimator=LinearRegression())\n",
      "Mean_target: 3797.35\n",
      "MAE: 2438.25\n",
      "MAPE: 0.47\n",
      "R2: 0.56\n"
     ]
    }
   ],
   "source": [
    "print_metrics(reg1_sum_count,df_predictions_multi['predGBR_sum_lg'],df_predictions_multi['total_sum_lg'])\n",
    "print_metrics(reg2_sum_count,df_predictions_multi['predLR_sum_lg'],df_predictions_multi['total_sum_lg'])"
   ]
  },
  {
   "cell_type": "code",
   "execution_count": 71,
   "id": "d13179ec",
   "metadata": {},
   "outputs": [
    {
     "name": "stdout",
     "output_type": "stream",
     "text": [
      "MultiOutputRegressor(estimator=GradientBoostingRegressor(random_state=0))\n",
      "Mean_target: 0.03\n",
      "MAE: 0.01\n",
      "MAPE: 4318828994943.18\n",
      "R2: 0.98\n",
      "MultiOutputRegressor(estimator=LinearRegression())\n",
      "Mean_target: 0.03\n",
      "MAE: 0.01\n",
      "MAPE: 28133962420798.34\n",
      "R2: 0.94\n"
     ]
    }
   ],
   "source": [
    "print_metrics_count(reg1_sum_count,\n",
    "              df_predictions_multi['predGBR_count'],\n",
    "              df_predictions_multi['total_frequency'])\n",
    "print_metrics_count(reg2_sum_count,\n",
    "              df_predictions_multi['predLR_count'],\n",
    "              df_predictions_multi['total_frequency'])"
   ]
  },
  {
   "cell_type": "code",
   "execution_count": null,
   "id": "ffbdc218",
   "metadata": {},
   "outputs": [],
   "source": []
  },
  {
   "cell_type": "code",
   "execution_count": null,
   "id": "7dd95633",
   "metadata": {},
   "outputs": [],
   "source": []
  },
  {
   "cell_type": "code",
   "execution_count": null,
   "id": "758b492a",
   "metadata": {},
   "outputs": [],
   "source": []
  },
  {
   "cell_type": "code",
   "execution_count": null,
   "id": "d8805098",
   "metadata": {},
   "outputs": [],
   "source": []
  },
  {
   "cell_type": "code",
   "execution_count": null,
   "id": "9638570d",
   "metadata": {},
   "outputs": [],
   "source": []
  },
  {
   "cell_type": "code",
   "execution_count": null,
   "id": "3467b37f",
   "metadata": {},
   "outputs": [],
   "source": []
  },
  {
   "cell_type": "code",
   "execution_count": null,
   "id": "bc94355d",
   "metadata": {},
   "outputs": [],
   "source": []
  },
  {
   "cell_type": "code",
   "execution_count": null,
   "id": "6688d204",
   "metadata": {},
   "outputs": [],
   "source": []
  },
  {
   "cell_type": "code",
   "execution_count": null,
   "id": "842f1914",
   "metadata": {},
   "outputs": [],
   "source": []
  },
  {
   "cell_type": "code",
   "execution_count": null,
   "id": "3f4cde5d",
   "metadata": {},
   "outputs": [],
   "source": []
  },
  {
   "cell_type": "code",
   "execution_count": null,
   "id": "dd038101",
   "metadata": {},
   "outputs": [],
   "source": []
  },
  {
   "cell_type": "code",
   "execution_count": null,
   "id": "7faf9291",
   "metadata": {},
   "outputs": [],
   "source": []
  },
  {
   "cell_type": "code",
   "execution_count": null,
   "id": "268d6cd0",
   "metadata": {},
   "outputs": [],
   "source": []
  },
  {
   "cell_type": "code",
   "execution_count": null,
   "id": "4889e0f8",
   "metadata": {},
   "outputs": [],
   "source": []
  },
  {
   "cell_type": "code",
   "execution_count": null,
   "id": "7af2c811",
   "metadata": {},
   "outputs": [],
   "source": []
  },
  {
   "cell_type": "code",
   "execution_count": null,
   "id": "ceb0cb8b",
   "metadata": {},
   "outputs": [],
   "source": []
  },
  {
   "cell_type": "code",
   "execution_count": null,
   "id": "f9c7b6dd",
   "metadata": {},
   "outputs": [],
   "source": []
  }
 ],
 "metadata": {
  "kernelspec": {
   "display_name": "Python 3",
   "language": "python",
   "name": "python3"
  },
  "language_info": {
   "codemirror_mode": {
    "name": "ipython",
    "version": 3
   },
   "file_extension": ".py",
   "mimetype": "text/x-python",
   "name": "python",
   "nbconvert_exporter": "python",
   "pygments_lexer": "ipython3",
   "version": "3.8.8"
  },
  "toc": {
   "base_numbering": 1,
   "nav_menu": {},
   "number_sections": false,
   "sideBar": true,
   "skip_h1_title": false,
   "title_cell": "Table of Contents",
   "title_sidebar": "Contents",
   "toc_cell": false,
   "toc_position": {
    "height": "calc(100% - 180px)",
    "left": "10px",
    "top": "150px",
    "width": "299.2px"
   },
   "toc_section_display": true,
   "toc_window_display": true
  }
 },
 "nbformat": 4,
 "nbformat_minor": 5
}
